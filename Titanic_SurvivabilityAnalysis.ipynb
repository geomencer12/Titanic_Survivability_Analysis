{
  "nbformat": 4,
  "nbformat_minor": 0,
  "metadata": {
    "colab": {
      "provenance": [],
      "collapsed_sections": [],
      "toc_visible": true
    },
    "kernelspec": {
      "name": "python3",
      "display_name": "Python 3"
    },
    "language_info": {
      "name": "python"
    }
  },
  "cells": [
    {
      "cell_type": "markdown",
      "source": [
        "# Titanic Data Analysis"
      ],
      "metadata": {
        "id": "q8wLX4d1cPbe"
      }
    },
    {
      "cell_type": "markdown",
      "source": [
        "* 2440006715 - Daniel Alexander\n",
        "* 2440018394 - Divaldy Putra Eka\n",
        "* 2401960763 - Thomas Amarta G\n",
        "* 2401960284 - Jeremiah Dylan Julianto\n",
        "* 2440012421 - Christopher Nathanael\n",
        "\n",
        "CLASS LC01\n",
        "\n",
        "Titanic merupakan tragedi yang terjadi pada tahun 1912. Tragedi ini memakan banyak korban jiwa baik dari crew maupun penumpang yang ada pada kapal.\n",
        "\n",
        "Pada projek kali ini kami ingin mempelajari dan menganalisa potensi survivability rate dan faktor apa saja yang mempengaruhi hal tersebut"
      ],
      "metadata": {
        "id": "hlQaHjx0ck1L"
      }
    },
    {
      "cell_type": "markdown",
      "source": [
        "# Import Libary & Dataset"
      ],
      "metadata": {
        "id": "h_zFEJanctf0"
      }
    },
    {
      "cell_type": "markdown",
      "source": [
        "Libary"
      ],
      "metadata": {
        "id": "rPsdhjZac7UF"
      }
    },
    {
      "cell_type": "code",
      "source": [
        "import numpy as np\n",
        "import pandas as pd\n",
        "from sklearn.preprocessing import LabelEncoder\n",
        "from sklearn.model_selection import train_test_split\n",
        "from sklearn.ensemble import RandomForestClassifier\n",
        "import matplotlib.pyplot as plt\n",
        "from matplotlib import gridspec\n",
        "import seaborn as sns"
      ],
      "metadata": {
        "id": "BkK3Cwrwcztt"
      },
      "execution_count": null,
      "outputs": []
    },
    {
      "cell_type": "markdown",
      "source": [
        "Dataset"
      ],
      "metadata": {
        "id": "LF67bdbpc8jA"
      }
    },
    {
      "cell_type": "code",
      "source": [
        "!wget  https://raw.githubusercontent.com/geomencer12/Titanic-Bigdata/main/train.csv"
      ],
      "metadata": {
        "colab": {
          "base_uri": "https://localhost:8080/"
        },
        "id": "lUaM_76yc4w5",
        "outputId": "f0123310-f0fa-417f-fedb-e1b0488d56b6"
      },
      "execution_count": null,
      "outputs": [
        {
          "output_type": "stream",
          "name": "stdout",
          "text": [
            "--2022-06-28 05:41:14--  https://raw.githubusercontent.com/geomencer12/Titanic-Bigdata/main/train.csv\n",
            "Resolving raw.githubusercontent.com (raw.githubusercontent.com)... 185.199.108.133, 185.199.111.133, 185.199.109.133, ...\n",
            "Connecting to raw.githubusercontent.com (raw.githubusercontent.com)|185.199.108.133|:443... connected.\n",
            "HTTP request sent, awaiting response... 200 OK\n",
            "Length: 61194 (60K) [text/plain]\n",
            "Saving to: ‘train.csv’\n",
            "\n",
            "\rtrain.csv             0%[                    ]       0  --.-KB/s               \rtrain.csv           100%[===================>]  59.76K  --.-KB/s    in 0.001s  \n",
            "\n",
            "2022-06-28 05:41:14 (40.1 MB/s) - ‘train.csv’ saved [61194/61194]\n",
            "\n"
          ]
        }
      ]
    },
    {
      "cell_type": "code",
      "source": [
        "train = pd.read_csv(\"train.csv\")"
      ],
      "metadata": {
        "id": "Z_uGKU97dHOO"
      },
      "execution_count": null,
      "outputs": []
    },
    {
      "cell_type": "markdown",
      "source": [
        "# Raw Data Exploration"
      ],
      "metadata": {
        "id": "ecf5j83vc_qA"
      }
    },
    {
      "cell_type": "code",
      "source": [
        "train.head()"
      ],
      "metadata": {
        "colab": {
          "base_uri": "https://localhost:8080/",
          "height": 206
        },
        "id": "OZ1sOsMWdFEy",
        "outputId": "e5958a8b-977a-46e0-dd55-55900daab5de"
      },
      "execution_count": null,
      "outputs": [
        {
          "output_type": "execute_result",
          "data": {
            "text/plain": [
              "   PassengerId  Survived  Pclass  \\\n",
              "0            1         0       3   \n",
              "1            2         1       1   \n",
              "2            3         1       3   \n",
              "3            4         1       1   \n",
              "4            5         0       3   \n",
              "\n",
              "                                                Name     Sex   Age  SibSp  \\\n",
              "0                            Braund, Mr. Owen Harris    male  22.0      1   \n",
              "1  Cumings, Mrs. John Bradley (Florence Briggs Th...  female  38.0      1   \n",
              "2                             Heikkinen, Miss. Laina  female  26.0      0   \n",
              "3       Futrelle, Mrs. Jacques Heath (Lily May Peel)  female  35.0      1   \n",
              "4                           Allen, Mr. William Henry    male  35.0      0   \n",
              "\n",
              "   Parch            Ticket     Fare Cabin Embarked  \n",
              "0      0         A/5 21171   7.2500   NaN        S  \n",
              "1      0          PC 17599  71.2833   C85        C  \n",
              "2      0  STON/O2. 3101282   7.9250   NaN        S  \n",
              "3      0            113803  53.1000  C123        S  \n",
              "4      0            373450   8.0500   NaN        S  "
            ],
            "text/html": [
              "\n",
              "  <div id=\"df-d62c423e-9827-4316-8e7b-c945b9f4a65a\">\n",
              "    <div class=\"colab-df-container\">\n",
              "      <div>\n",
              "<style scoped>\n",
              "    .dataframe tbody tr th:only-of-type {\n",
              "        vertical-align: middle;\n",
              "    }\n",
              "\n",
              "    .dataframe tbody tr th {\n",
              "        vertical-align: top;\n",
              "    }\n",
              "\n",
              "    .dataframe thead th {\n",
              "        text-align: right;\n",
              "    }\n",
              "</style>\n",
              "<table border=\"1\" class=\"dataframe\">\n",
              "  <thead>\n",
              "    <tr style=\"text-align: right;\">\n",
              "      <th></th>\n",
              "      <th>PassengerId</th>\n",
              "      <th>Survived</th>\n",
              "      <th>Pclass</th>\n",
              "      <th>Name</th>\n",
              "      <th>Sex</th>\n",
              "      <th>Age</th>\n",
              "      <th>SibSp</th>\n",
              "      <th>Parch</th>\n",
              "      <th>Ticket</th>\n",
              "      <th>Fare</th>\n",
              "      <th>Cabin</th>\n",
              "      <th>Embarked</th>\n",
              "    </tr>\n",
              "  </thead>\n",
              "  <tbody>\n",
              "    <tr>\n",
              "      <th>0</th>\n",
              "      <td>1</td>\n",
              "      <td>0</td>\n",
              "      <td>3</td>\n",
              "      <td>Braund, Mr. Owen Harris</td>\n",
              "      <td>male</td>\n",
              "      <td>22.0</td>\n",
              "      <td>1</td>\n",
              "      <td>0</td>\n",
              "      <td>A/5 21171</td>\n",
              "      <td>7.2500</td>\n",
              "      <td>NaN</td>\n",
              "      <td>S</td>\n",
              "    </tr>\n",
              "    <tr>\n",
              "      <th>1</th>\n",
              "      <td>2</td>\n",
              "      <td>1</td>\n",
              "      <td>1</td>\n",
              "      <td>Cumings, Mrs. John Bradley (Florence Briggs Th...</td>\n",
              "      <td>female</td>\n",
              "      <td>38.0</td>\n",
              "      <td>1</td>\n",
              "      <td>0</td>\n",
              "      <td>PC 17599</td>\n",
              "      <td>71.2833</td>\n",
              "      <td>C85</td>\n",
              "      <td>C</td>\n",
              "    </tr>\n",
              "    <tr>\n",
              "      <th>2</th>\n",
              "      <td>3</td>\n",
              "      <td>1</td>\n",
              "      <td>3</td>\n",
              "      <td>Heikkinen, Miss. Laina</td>\n",
              "      <td>female</td>\n",
              "      <td>26.0</td>\n",
              "      <td>0</td>\n",
              "      <td>0</td>\n",
              "      <td>STON/O2. 3101282</td>\n",
              "      <td>7.9250</td>\n",
              "      <td>NaN</td>\n",
              "      <td>S</td>\n",
              "    </tr>\n",
              "    <tr>\n",
              "      <th>3</th>\n",
              "      <td>4</td>\n",
              "      <td>1</td>\n",
              "      <td>1</td>\n",
              "      <td>Futrelle, Mrs. Jacques Heath (Lily May Peel)</td>\n",
              "      <td>female</td>\n",
              "      <td>35.0</td>\n",
              "      <td>1</td>\n",
              "      <td>0</td>\n",
              "      <td>113803</td>\n",
              "      <td>53.1000</td>\n",
              "      <td>C123</td>\n",
              "      <td>S</td>\n",
              "    </tr>\n",
              "    <tr>\n",
              "      <th>4</th>\n",
              "      <td>5</td>\n",
              "      <td>0</td>\n",
              "      <td>3</td>\n",
              "      <td>Allen, Mr. William Henry</td>\n",
              "      <td>male</td>\n",
              "      <td>35.0</td>\n",
              "      <td>0</td>\n",
              "      <td>0</td>\n",
              "      <td>373450</td>\n",
              "      <td>8.0500</td>\n",
              "      <td>NaN</td>\n",
              "      <td>S</td>\n",
              "    </tr>\n",
              "  </tbody>\n",
              "</table>\n",
              "</div>\n",
              "      <button class=\"colab-df-convert\" onclick=\"convertToInteractive('df-d62c423e-9827-4316-8e7b-c945b9f4a65a')\"\n",
              "              title=\"Convert this dataframe to an interactive table.\"\n",
              "              style=\"display:none;\">\n",
              "        \n",
              "  <svg xmlns=\"http://www.w3.org/2000/svg\" height=\"24px\"viewBox=\"0 0 24 24\"\n",
              "       width=\"24px\">\n",
              "    <path d=\"M0 0h24v24H0V0z\" fill=\"none\"/>\n",
              "    <path d=\"M18.56 5.44l.94 2.06.94-2.06 2.06-.94-2.06-.94-.94-2.06-.94 2.06-2.06.94zm-11 1L8.5 8.5l.94-2.06 2.06-.94-2.06-.94L8.5 2.5l-.94 2.06-2.06.94zm10 10l.94 2.06.94-2.06 2.06-.94-2.06-.94-.94-2.06-.94 2.06-2.06.94z\"/><path d=\"M17.41 7.96l-1.37-1.37c-.4-.4-.92-.59-1.43-.59-.52 0-1.04.2-1.43.59L10.3 9.45l-7.72 7.72c-.78.78-.78 2.05 0 2.83L4 21.41c.39.39.9.59 1.41.59.51 0 1.02-.2 1.41-.59l7.78-7.78 2.81-2.81c.8-.78.8-2.07 0-2.86zM5.41 20L4 18.59l7.72-7.72 1.47 1.35L5.41 20z\"/>\n",
              "  </svg>\n",
              "      </button>\n",
              "      \n",
              "  <style>\n",
              "    .colab-df-container {\n",
              "      display:flex;\n",
              "      flex-wrap:wrap;\n",
              "      gap: 12px;\n",
              "    }\n",
              "\n",
              "    .colab-df-convert {\n",
              "      background-color: #E8F0FE;\n",
              "      border: none;\n",
              "      border-radius: 50%;\n",
              "      cursor: pointer;\n",
              "      display: none;\n",
              "      fill: #1967D2;\n",
              "      height: 32px;\n",
              "      padding: 0 0 0 0;\n",
              "      width: 32px;\n",
              "    }\n",
              "\n",
              "    .colab-df-convert:hover {\n",
              "      background-color: #E2EBFA;\n",
              "      box-shadow: 0px 1px 2px rgba(60, 64, 67, 0.3), 0px 1px 3px 1px rgba(60, 64, 67, 0.15);\n",
              "      fill: #174EA6;\n",
              "    }\n",
              "\n",
              "    [theme=dark] .colab-df-convert {\n",
              "      background-color: #3B4455;\n",
              "      fill: #D2E3FC;\n",
              "    }\n",
              "\n",
              "    [theme=dark] .colab-df-convert:hover {\n",
              "      background-color: #434B5C;\n",
              "      box-shadow: 0px 1px 3px 1px rgba(0, 0, 0, 0.15);\n",
              "      filter: drop-shadow(0px 1px 2px rgba(0, 0, 0, 0.3));\n",
              "      fill: #FFFFFF;\n",
              "    }\n",
              "  </style>\n",
              "\n",
              "      <script>\n",
              "        const buttonEl =\n",
              "          document.querySelector('#df-d62c423e-9827-4316-8e7b-c945b9f4a65a button.colab-df-convert');\n",
              "        buttonEl.style.display =\n",
              "          google.colab.kernel.accessAllowed ? 'block' : 'none';\n",
              "\n",
              "        async function convertToInteractive(key) {\n",
              "          const element = document.querySelector('#df-d62c423e-9827-4316-8e7b-c945b9f4a65a');\n",
              "          const dataTable =\n",
              "            await google.colab.kernel.invokeFunction('convertToInteractive',\n",
              "                                                     [key], {});\n",
              "          if (!dataTable) return;\n",
              "\n",
              "          const docLinkHtml = 'Like what you see? Visit the ' +\n",
              "            '<a target=\"_blank\" href=https://colab.research.google.com/notebooks/data_table.ipynb>data table notebook</a>'\n",
              "            + ' to learn more about interactive tables.';\n",
              "          element.innerHTML = '';\n",
              "          dataTable['output_type'] = 'display_data';\n",
              "          await google.colab.output.renderOutput(dataTable, element);\n",
              "          const docLink = document.createElement('div');\n",
              "          docLink.innerHTML = docLinkHtml;\n",
              "          element.appendChild(docLink);\n",
              "        }\n",
              "      </script>\n",
              "    </div>\n",
              "  </div>\n",
              "  "
            ]
          },
          "metadata": {},
          "execution_count": 4
        }
      ]
    },
    {
      "cell_type": "code",
      "source": [
        "train.info()"
      ],
      "metadata": {
        "colab": {
          "base_uri": "https://localhost:8080/"
        },
        "id": "RFvtnLaVdLIP",
        "outputId": "aac42572-e4c1-4472-d815-d4217024d087"
      },
      "execution_count": null,
      "outputs": [
        {
          "output_type": "stream",
          "name": "stdout",
          "text": [
            "<class 'pandas.core.frame.DataFrame'>\n",
            "RangeIndex: 891 entries, 0 to 890\n",
            "Data columns (total 12 columns):\n",
            " #   Column       Non-Null Count  Dtype  \n",
            "---  ------       --------------  -----  \n",
            " 0   PassengerId  891 non-null    int64  \n",
            " 1   Survived     891 non-null    int64  \n",
            " 2   Pclass       891 non-null    int64  \n",
            " 3   Name         891 non-null    object \n",
            " 4   Sex          891 non-null    object \n",
            " 5   Age          714 non-null    float64\n",
            " 6   SibSp        891 non-null    int64  \n",
            " 7   Parch        891 non-null    int64  \n",
            " 8   Ticket       891 non-null    object \n",
            " 9   Fare         891 non-null    float64\n",
            " 10  Cabin        204 non-null    object \n",
            " 11  Embarked     889 non-null    object \n",
            "dtypes: float64(2), int64(5), object(5)\n",
            "memory usage: 83.7+ KB\n"
          ]
        }
      ]
    },
    {
      "cell_type": "code",
      "source": [
        "train.describe()"
      ],
      "metadata": {
        "colab": {
          "base_uri": "https://localhost:8080/",
          "height": 300
        },
        "id": "At6CXgHrdPOW",
        "outputId": "3dd2fb81-bf5f-449b-a231-8b86177fefb9"
      },
      "execution_count": null,
      "outputs": [
        {
          "output_type": "execute_result",
          "data": {
            "text/plain": [
              "       PassengerId    Survived      Pclass         Age       SibSp  \\\n",
              "count   891.000000  891.000000  891.000000  714.000000  891.000000   \n",
              "mean    446.000000    0.383838    2.308642   29.699118    0.523008   \n",
              "std     257.353842    0.486592    0.836071   14.526497    1.102743   \n",
              "min       1.000000    0.000000    1.000000    0.420000    0.000000   \n",
              "25%     223.500000    0.000000    2.000000   20.125000    0.000000   \n",
              "50%     446.000000    0.000000    3.000000   28.000000    0.000000   \n",
              "75%     668.500000    1.000000    3.000000   38.000000    1.000000   \n",
              "max     891.000000    1.000000    3.000000   80.000000    8.000000   \n",
              "\n",
              "            Parch        Fare  \n",
              "count  891.000000  891.000000  \n",
              "mean     0.381594   32.204208  \n",
              "std      0.806057   49.693429  \n",
              "min      0.000000    0.000000  \n",
              "25%      0.000000    7.910400  \n",
              "50%      0.000000   14.454200  \n",
              "75%      0.000000   31.000000  \n",
              "max      6.000000  512.329200  "
            ],
            "text/html": [
              "\n",
              "  <div id=\"df-47e20021-35ac-4ebd-ad81-7c377a6e0086\">\n",
              "    <div class=\"colab-df-container\">\n",
              "      <div>\n",
              "<style scoped>\n",
              "    .dataframe tbody tr th:only-of-type {\n",
              "        vertical-align: middle;\n",
              "    }\n",
              "\n",
              "    .dataframe tbody tr th {\n",
              "        vertical-align: top;\n",
              "    }\n",
              "\n",
              "    .dataframe thead th {\n",
              "        text-align: right;\n",
              "    }\n",
              "</style>\n",
              "<table border=\"1\" class=\"dataframe\">\n",
              "  <thead>\n",
              "    <tr style=\"text-align: right;\">\n",
              "      <th></th>\n",
              "      <th>PassengerId</th>\n",
              "      <th>Survived</th>\n",
              "      <th>Pclass</th>\n",
              "      <th>Age</th>\n",
              "      <th>SibSp</th>\n",
              "      <th>Parch</th>\n",
              "      <th>Fare</th>\n",
              "    </tr>\n",
              "  </thead>\n",
              "  <tbody>\n",
              "    <tr>\n",
              "      <th>count</th>\n",
              "      <td>891.000000</td>\n",
              "      <td>891.000000</td>\n",
              "      <td>891.000000</td>\n",
              "      <td>714.000000</td>\n",
              "      <td>891.000000</td>\n",
              "      <td>891.000000</td>\n",
              "      <td>891.000000</td>\n",
              "    </tr>\n",
              "    <tr>\n",
              "      <th>mean</th>\n",
              "      <td>446.000000</td>\n",
              "      <td>0.383838</td>\n",
              "      <td>2.308642</td>\n",
              "      <td>29.699118</td>\n",
              "      <td>0.523008</td>\n",
              "      <td>0.381594</td>\n",
              "      <td>32.204208</td>\n",
              "    </tr>\n",
              "    <tr>\n",
              "      <th>std</th>\n",
              "      <td>257.353842</td>\n",
              "      <td>0.486592</td>\n",
              "      <td>0.836071</td>\n",
              "      <td>14.526497</td>\n",
              "      <td>1.102743</td>\n",
              "      <td>0.806057</td>\n",
              "      <td>49.693429</td>\n",
              "    </tr>\n",
              "    <tr>\n",
              "      <th>min</th>\n",
              "      <td>1.000000</td>\n",
              "      <td>0.000000</td>\n",
              "      <td>1.000000</td>\n",
              "      <td>0.420000</td>\n",
              "      <td>0.000000</td>\n",
              "      <td>0.000000</td>\n",
              "      <td>0.000000</td>\n",
              "    </tr>\n",
              "    <tr>\n",
              "      <th>25%</th>\n",
              "      <td>223.500000</td>\n",
              "      <td>0.000000</td>\n",
              "      <td>2.000000</td>\n",
              "      <td>20.125000</td>\n",
              "      <td>0.000000</td>\n",
              "      <td>0.000000</td>\n",
              "      <td>7.910400</td>\n",
              "    </tr>\n",
              "    <tr>\n",
              "      <th>50%</th>\n",
              "      <td>446.000000</td>\n",
              "      <td>0.000000</td>\n",
              "      <td>3.000000</td>\n",
              "      <td>28.000000</td>\n",
              "      <td>0.000000</td>\n",
              "      <td>0.000000</td>\n",
              "      <td>14.454200</td>\n",
              "    </tr>\n",
              "    <tr>\n",
              "      <th>75%</th>\n",
              "      <td>668.500000</td>\n",
              "      <td>1.000000</td>\n",
              "      <td>3.000000</td>\n",
              "      <td>38.000000</td>\n",
              "      <td>1.000000</td>\n",
              "      <td>0.000000</td>\n",
              "      <td>31.000000</td>\n",
              "    </tr>\n",
              "    <tr>\n",
              "      <th>max</th>\n",
              "      <td>891.000000</td>\n",
              "      <td>1.000000</td>\n",
              "      <td>3.000000</td>\n",
              "      <td>80.000000</td>\n",
              "      <td>8.000000</td>\n",
              "      <td>6.000000</td>\n",
              "      <td>512.329200</td>\n",
              "    </tr>\n",
              "  </tbody>\n",
              "</table>\n",
              "</div>\n",
              "      <button class=\"colab-df-convert\" onclick=\"convertToInteractive('df-47e20021-35ac-4ebd-ad81-7c377a6e0086')\"\n",
              "              title=\"Convert this dataframe to an interactive table.\"\n",
              "              style=\"display:none;\">\n",
              "        \n",
              "  <svg xmlns=\"http://www.w3.org/2000/svg\" height=\"24px\"viewBox=\"0 0 24 24\"\n",
              "       width=\"24px\">\n",
              "    <path d=\"M0 0h24v24H0V0z\" fill=\"none\"/>\n",
              "    <path d=\"M18.56 5.44l.94 2.06.94-2.06 2.06-.94-2.06-.94-.94-2.06-.94 2.06-2.06.94zm-11 1L8.5 8.5l.94-2.06 2.06-.94-2.06-.94L8.5 2.5l-.94 2.06-2.06.94zm10 10l.94 2.06.94-2.06 2.06-.94-2.06-.94-.94-2.06-.94 2.06-2.06.94z\"/><path d=\"M17.41 7.96l-1.37-1.37c-.4-.4-.92-.59-1.43-.59-.52 0-1.04.2-1.43.59L10.3 9.45l-7.72 7.72c-.78.78-.78 2.05 0 2.83L4 21.41c.39.39.9.59 1.41.59.51 0 1.02-.2 1.41-.59l7.78-7.78 2.81-2.81c.8-.78.8-2.07 0-2.86zM5.41 20L4 18.59l7.72-7.72 1.47 1.35L5.41 20z\"/>\n",
              "  </svg>\n",
              "      </button>\n",
              "      \n",
              "  <style>\n",
              "    .colab-df-container {\n",
              "      display:flex;\n",
              "      flex-wrap:wrap;\n",
              "      gap: 12px;\n",
              "    }\n",
              "\n",
              "    .colab-df-convert {\n",
              "      background-color: #E8F0FE;\n",
              "      border: none;\n",
              "      border-radius: 50%;\n",
              "      cursor: pointer;\n",
              "      display: none;\n",
              "      fill: #1967D2;\n",
              "      height: 32px;\n",
              "      padding: 0 0 0 0;\n",
              "      width: 32px;\n",
              "    }\n",
              "\n",
              "    .colab-df-convert:hover {\n",
              "      background-color: #E2EBFA;\n",
              "      box-shadow: 0px 1px 2px rgba(60, 64, 67, 0.3), 0px 1px 3px 1px rgba(60, 64, 67, 0.15);\n",
              "      fill: #174EA6;\n",
              "    }\n",
              "\n",
              "    [theme=dark] .colab-df-convert {\n",
              "      background-color: #3B4455;\n",
              "      fill: #D2E3FC;\n",
              "    }\n",
              "\n",
              "    [theme=dark] .colab-df-convert:hover {\n",
              "      background-color: #434B5C;\n",
              "      box-shadow: 0px 1px 3px 1px rgba(0, 0, 0, 0.15);\n",
              "      filter: drop-shadow(0px 1px 2px rgba(0, 0, 0, 0.3));\n",
              "      fill: #FFFFFF;\n",
              "    }\n",
              "  </style>\n",
              "\n",
              "      <script>\n",
              "        const buttonEl =\n",
              "          document.querySelector('#df-47e20021-35ac-4ebd-ad81-7c377a6e0086 button.colab-df-convert');\n",
              "        buttonEl.style.display =\n",
              "          google.colab.kernel.accessAllowed ? 'block' : 'none';\n",
              "\n",
              "        async function convertToInteractive(key) {\n",
              "          const element = document.querySelector('#df-47e20021-35ac-4ebd-ad81-7c377a6e0086');\n",
              "          const dataTable =\n",
              "            await google.colab.kernel.invokeFunction('convertToInteractive',\n",
              "                                                     [key], {});\n",
              "          if (!dataTable) return;\n",
              "\n",
              "          const docLinkHtml = 'Like what you see? Visit the ' +\n",
              "            '<a target=\"_blank\" href=https://colab.research.google.com/notebooks/data_table.ipynb>data table notebook</a>'\n",
              "            + ' to learn more about interactive tables.';\n",
              "          element.innerHTML = '';\n",
              "          dataTable['output_type'] = 'display_data';\n",
              "          await google.colab.output.renderOutput(dataTable, element);\n",
              "          const docLink = document.createElement('div');\n",
              "          docLink.innerHTML = docLinkHtml;\n",
              "          element.appendChild(docLink);\n",
              "        }\n",
              "      </script>\n",
              "    </div>\n",
              "  </div>\n",
              "  "
            ]
          },
          "metadata": {},
          "execution_count": 6
        }
      ]
    },
    {
      "cell_type": "markdown",
      "source": [
        "Dari hasil tabel diatas kita dapat melihat bahwa ada sebuah anomali  dimana *Fare* memiliki nilai paling kecil 0. Akirnya kami melakukan riset  dan menemukan fakta bahwa dilansir dari www.encylopedia-titanica.org bahwa ada beberapa passanger yang memiliki id Karcis yang sama dibuktikan dngan data yang berada dibawah ini   "
      ],
      "metadata": {
        "id": "GnVrrVIPdfGN"
      }
    },
    {
      "cell_type": "code",
      "source": [
        "train[train['Fare']==0].sort_values(by=['Ticket']) "
      ],
      "metadata": {
        "colab": {
          "base_uri": "https://localhost:8080/",
          "height": 520
        },
        "id": "T80vToeFdlHI",
        "outputId": "0ac646b8-47ab-42f8-a815-b858396a3cdc"
      },
      "execution_count": null,
      "outputs": [
        {
          "output_type": "execute_result",
          "data": {
            "text/plain": [
              "     PassengerId  Survived  Pclass                              Name   Sex  \\\n",
              "806          807         0       1            Andrews, Mr. Thomas Jr  male   \n",
              "633          634         0       1     Parr, Mr. William Henry Marsh  male   \n",
              "815          816         0       1                  Fry, Mr. Richard  male   \n",
              "263          264         0       1             Harrison, Mr. William  male   \n",
              "822          823         0       1   Reuchlin, Jonkheer. John George  male   \n",
              "277          278         0       2       Parkes, Mr. Francis \"Frank\"  male   \n",
              "413          414         0       2    Cunningham, Mr. Alfred Fleming  male   \n",
              "466          467         0       2             Campbell, Mr. William  male   \n",
              "481          482         0       2  Frost, Mr. Anthony Wood \"Archie\"  male   \n",
              "732          733         0       2              Knight, Mr. Robert J  male   \n",
              "674          675         0       2        Watson, Mr. Ennis Hastings  male   \n",
              "179          180         0       3               Leonard, Mr. Lionel  male   \n",
              "271          272         1       3      Tornquist, Mr. William Henry  male   \n",
              "302          303         0       3   Johnson, Mr. William Cahoone Jr  male   \n",
              "597          598         0       3               Johnson, Mr. Alfred  male   \n",
              "\n",
              "      Age  SibSp  Parch  Ticket  Fare Cabin Embarked  \n",
              "806  39.0      0      0  112050   0.0   A36        S  \n",
              "633   NaN      0      0  112052   0.0   NaN        S  \n",
              "815   NaN      0      0  112058   0.0  B102        S  \n",
              "263  40.0      0      0  112059   0.0   B94        S  \n",
              "822  38.0      0      0   19972   0.0   NaN        S  \n",
              "277   NaN      0      0  239853   0.0   NaN        S  \n",
              "413   NaN      0      0  239853   0.0   NaN        S  \n",
              "466   NaN      0      0  239853   0.0   NaN        S  \n",
              "481   NaN      0      0  239854   0.0   NaN        S  \n",
              "732   NaN      0      0  239855   0.0   NaN        S  \n",
              "674   NaN      0      0  239856   0.0   NaN        S  \n",
              "179  36.0      0      0    LINE   0.0   NaN        S  \n",
              "271  25.0      0      0    LINE   0.0   NaN        S  \n",
              "302  19.0      0      0    LINE   0.0   NaN        S  \n",
              "597  49.0      0      0    LINE   0.0   NaN        S  "
            ],
            "text/html": [
              "\n",
              "  <div id=\"df-42914610-453b-490a-8a05-80d185ce486a\">\n",
              "    <div class=\"colab-df-container\">\n",
              "      <div>\n",
              "<style scoped>\n",
              "    .dataframe tbody tr th:only-of-type {\n",
              "        vertical-align: middle;\n",
              "    }\n",
              "\n",
              "    .dataframe tbody tr th {\n",
              "        vertical-align: top;\n",
              "    }\n",
              "\n",
              "    .dataframe thead th {\n",
              "        text-align: right;\n",
              "    }\n",
              "</style>\n",
              "<table border=\"1\" class=\"dataframe\">\n",
              "  <thead>\n",
              "    <tr style=\"text-align: right;\">\n",
              "      <th></th>\n",
              "      <th>PassengerId</th>\n",
              "      <th>Survived</th>\n",
              "      <th>Pclass</th>\n",
              "      <th>Name</th>\n",
              "      <th>Sex</th>\n",
              "      <th>Age</th>\n",
              "      <th>SibSp</th>\n",
              "      <th>Parch</th>\n",
              "      <th>Ticket</th>\n",
              "      <th>Fare</th>\n",
              "      <th>Cabin</th>\n",
              "      <th>Embarked</th>\n",
              "    </tr>\n",
              "  </thead>\n",
              "  <tbody>\n",
              "    <tr>\n",
              "      <th>806</th>\n",
              "      <td>807</td>\n",
              "      <td>0</td>\n",
              "      <td>1</td>\n",
              "      <td>Andrews, Mr. Thomas Jr</td>\n",
              "      <td>male</td>\n",
              "      <td>39.0</td>\n",
              "      <td>0</td>\n",
              "      <td>0</td>\n",
              "      <td>112050</td>\n",
              "      <td>0.0</td>\n",
              "      <td>A36</td>\n",
              "      <td>S</td>\n",
              "    </tr>\n",
              "    <tr>\n",
              "      <th>633</th>\n",
              "      <td>634</td>\n",
              "      <td>0</td>\n",
              "      <td>1</td>\n",
              "      <td>Parr, Mr. William Henry Marsh</td>\n",
              "      <td>male</td>\n",
              "      <td>NaN</td>\n",
              "      <td>0</td>\n",
              "      <td>0</td>\n",
              "      <td>112052</td>\n",
              "      <td>0.0</td>\n",
              "      <td>NaN</td>\n",
              "      <td>S</td>\n",
              "    </tr>\n",
              "    <tr>\n",
              "      <th>815</th>\n",
              "      <td>816</td>\n",
              "      <td>0</td>\n",
              "      <td>1</td>\n",
              "      <td>Fry, Mr. Richard</td>\n",
              "      <td>male</td>\n",
              "      <td>NaN</td>\n",
              "      <td>0</td>\n",
              "      <td>0</td>\n",
              "      <td>112058</td>\n",
              "      <td>0.0</td>\n",
              "      <td>B102</td>\n",
              "      <td>S</td>\n",
              "    </tr>\n",
              "    <tr>\n",
              "      <th>263</th>\n",
              "      <td>264</td>\n",
              "      <td>0</td>\n",
              "      <td>1</td>\n",
              "      <td>Harrison, Mr. William</td>\n",
              "      <td>male</td>\n",
              "      <td>40.0</td>\n",
              "      <td>0</td>\n",
              "      <td>0</td>\n",
              "      <td>112059</td>\n",
              "      <td>0.0</td>\n",
              "      <td>B94</td>\n",
              "      <td>S</td>\n",
              "    </tr>\n",
              "    <tr>\n",
              "      <th>822</th>\n",
              "      <td>823</td>\n",
              "      <td>0</td>\n",
              "      <td>1</td>\n",
              "      <td>Reuchlin, Jonkheer. John George</td>\n",
              "      <td>male</td>\n",
              "      <td>38.0</td>\n",
              "      <td>0</td>\n",
              "      <td>0</td>\n",
              "      <td>19972</td>\n",
              "      <td>0.0</td>\n",
              "      <td>NaN</td>\n",
              "      <td>S</td>\n",
              "    </tr>\n",
              "    <tr>\n",
              "      <th>277</th>\n",
              "      <td>278</td>\n",
              "      <td>0</td>\n",
              "      <td>2</td>\n",
              "      <td>Parkes, Mr. Francis \"Frank\"</td>\n",
              "      <td>male</td>\n",
              "      <td>NaN</td>\n",
              "      <td>0</td>\n",
              "      <td>0</td>\n",
              "      <td>239853</td>\n",
              "      <td>0.0</td>\n",
              "      <td>NaN</td>\n",
              "      <td>S</td>\n",
              "    </tr>\n",
              "    <tr>\n",
              "      <th>413</th>\n",
              "      <td>414</td>\n",
              "      <td>0</td>\n",
              "      <td>2</td>\n",
              "      <td>Cunningham, Mr. Alfred Fleming</td>\n",
              "      <td>male</td>\n",
              "      <td>NaN</td>\n",
              "      <td>0</td>\n",
              "      <td>0</td>\n",
              "      <td>239853</td>\n",
              "      <td>0.0</td>\n",
              "      <td>NaN</td>\n",
              "      <td>S</td>\n",
              "    </tr>\n",
              "    <tr>\n",
              "      <th>466</th>\n",
              "      <td>467</td>\n",
              "      <td>0</td>\n",
              "      <td>2</td>\n",
              "      <td>Campbell, Mr. William</td>\n",
              "      <td>male</td>\n",
              "      <td>NaN</td>\n",
              "      <td>0</td>\n",
              "      <td>0</td>\n",
              "      <td>239853</td>\n",
              "      <td>0.0</td>\n",
              "      <td>NaN</td>\n",
              "      <td>S</td>\n",
              "    </tr>\n",
              "    <tr>\n",
              "      <th>481</th>\n",
              "      <td>482</td>\n",
              "      <td>0</td>\n",
              "      <td>2</td>\n",
              "      <td>Frost, Mr. Anthony Wood \"Archie\"</td>\n",
              "      <td>male</td>\n",
              "      <td>NaN</td>\n",
              "      <td>0</td>\n",
              "      <td>0</td>\n",
              "      <td>239854</td>\n",
              "      <td>0.0</td>\n",
              "      <td>NaN</td>\n",
              "      <td>S</td>\n",
              "    </tr>\n",
              "    <tr>\n",
              "      <th>732</th>\n",
              "      <td>733</td>\n",
              "      <td>0</td>\n",
              "      <td>2</td>\n",
              "      <td>Knight, Mr. Robert J</td>\n",
              "      <td>male</td>\n",
              "      <td>NaN</td>\n",
              "      <td>0</td>\n",
              "      <td>0</td>\n",
              "      <td>239855</td>\n",
              "      <td>0.0</td>\n",
              "      <td>NaN</td>\n",
              "      <td>S</td>\n",
              "    </tr>\n",
              "    <tr>\n",
              "      <th>674</th>\n",
              "      <td>675</td>\n",
              "      <td>0</td>\n",
              "      <td>2</td>\n",
              "      <td>Watson, Mr. Ennis Hastings</td>\n",
              "      <td>male</td>\n",
              "      <td>NaN</td>\n",
              "      <td>0</td>\n",
              "      <td>0</td>\n",
              "      <td>239856</td>\n",
              "      <td>0.0</td>\n",
              "      <td>NaN</td>\n",
              "      <td>S</td>\n",
              "    </tr>\n",
              "    <tr>\n",
              "      <th>179</th>\n",
              "      <td>180</td>\n",
              "      <td>0</td>\n",
              "      <td>3</td>\n",
              "      <td>Leonard, Mr. Lionel</td>\n",
              "      <td>male</td>\n",
              "      <td>36.0</td>\n",
              "      <td>0</td>\n",
              "      <td>0</td>\n",
              "      <td>LINE</td>\n",
              "      <td>0.0</td>\n",
              "      <td>NaN</td>\n",
              "      <td>S</td>\n",
              "    </tr>\n",
              "    <tr>\n",
              "      <th>271</th>\n",
              "      <td>272</td>\n",
              "      <td>1</td>\n",
              "      <td>3</td>\n",
              "      <td>Tornquist, Mr. William Henry</td>\n",
              "      <td>male</td>\n",
              "      <td>25.0</td>\n",
              "      <td>0</td>\n",
              "      <td>0</td>\n",
              "      <td>LINE</td>\n",
              "      <td>0.0</td>\n",
              "      <td>NaN</td>\n",
              "      <td>S</td>\n",
              "    </tr>\n",
              "    <tr>\n",
              "      <th>302</th>\n",
              "      <td>303</td>\n",
              "      <td>0</td>\n",
              "      <td>3</td>\n",
              "      <td>Johnson, Mr. William Cahoone Jr</td>\n",
              "      <td>male</td>\n",
              "      <td>19.0</td>\n",
              "      <td>0</td>\n",
              "      <td>0</td>\n",
              "      <td>LINE</td>\n",
              "      <td>0.0</td>\n",
              "      <td>NaN</td>\n",
              "      <td>S</td>\n",
              "    </tr>\n",
              "    <tr>\n",
              "      <th>597</th>\n",
              "      <td>598</td>\n",
              "      <td>0</td>\n",
              "      <td>3</td>\n",
              "      <td>Johnson, Mr. Alfred</td>\n",
              "      <td>male</td>\n",
              "      <td>49.0</td>\n",
              "      <td>0</td>\n",
              "      <td>0</td>\n",
              "      <td>LINE</td>\n",
              "      <td>0.0</td>\n",
              "      <td>NaN</td>\n",
              "      <td>S</td>\n",
              "    </tr>\n",
              "  </tbody>\n",
              "</table>\n",
              "</div>\n",
              "      <button class=\"colab-df-convert\" onclick=\"convertToInteractive('df-42914610-453b-490a-8a05-80d185ce486a')\"\n",
              "              title=\"Convert this dataframe to an interactive table.\"\n",
              "              style=\"display:none;\">\n",
              "        \n",
              "  <svg xmlns=\"http://www.w3.org/2000/svg\" height=\"24px\"viewBox=\"0 0 24 24\"\n",
              "       width=\"24px\">\n",
              "    <path d=\"M0 0h24v24H0V0z\" fill=\"none\"/>\n",
              "    <path d=\"M18.56 5.44l.94 2.06.94-2.06 2.06-.94-2.06-.94-.94-2.06-.94 2.06-2.06.94zm-11 1L8.5 8.5l.94-2.06 2.06-.94-2.06-.94L8.5 2.5l-.94 2.06-2.06.94zm10 10l.94 2.06.94-2.06 2.06-.94-2.06-.94-.94-2.06-.94 2.06-2.06.94z\"/><path d=\"M17.41 7.96l-1.37-1.37c-.4-.4-.92-.59-1.43-.59-.52 0-1.04.2-1.43.59L10.3 9.45l-7.72 7.72c-.78.78-.78 2.05 0 2.83L4 21.41c.39.39.9.59 1.41.59.51 0 1.02-.2 1.41-.59l7.78-7.78 2.81-2.81c.8-.78.8-2.07 0-2.86zM5.41 20L4 18.59l7.72-7.72 1.47 1.35L5.41 20z\"/>\n",
              "  </svg>\n",
              "      </button>\n",
              "      \n",
              "  <style>\n",
              "    .colab-df-container {\n",
              "      display:flex;\n",
              "      flex-wrap:wrap;\n",
              "      gap: 12px;\n",
              "    }\n",
              "\n",
              "    .colab-df-convert {\n",
              "      background-color: #E8F0FE;\n",
              "      border: none;\n",
              "      border-radius: 50%;\n",
              "      cursor: pointer;\n",
              "      display: none;\n",
              "      fill: #1967D2;\n",
              "      height: 32px;\n",
              "      padding: 0 0 0 0;\n",
              "      width: 32px;\n",
              "    }\n",
              "\n",
              "    .colab-df-convert:hover {\n",
              "      background-color: #E2EBFA;\n",
              "      box-shadow: 0px 1px 2px rgba(60, 64, 67, 0.3), 0px 1px 3px 1px rgba(60, 64, 67, 0.15);\n",
              "      fill: #174EA6;\n",
              "    }\n",
              "\n",
              "    [theme=dark] .colab-df-convert {\n",
              "      background-color: #3B4455;\n",
              "      fill: #D2E3FC;\n",
              "    }\n",
              "\n",
              "    [theme=dark] .colab-df-convert:hover {\n",
              "      background-color: #434B5C;\n",
              "      box-shadow: 0px 1px 3px 1px rgba(0, 0, 0, 0.15);\n",
              "      filter: drop-shadow(0px 1px 2px rgba(0, 0, 0, 0.3));\n",
              "      fill: #FFFFFF;\n",
              "    }\n",
              "  </style>\n",
              "\n",
              "      <script>\n",
              "        const buttonEl =\n",
              "          document.querySelector('#df-42914610-453b-490a-8a05-80d185ce486a button.colab-df-convert');\n",
              "        buttonEl.style.display =\n",
              "          google.colab.kernel.accessAllowed ? 'block' : 'none';\n",
              "\n",
              "        async function convertToInteractive(key) {\n",
              "          const element = document.querySelector('#df-42914610-453b-490a-8a05-80d185ce486a');\n",
              "          const dataTable =\n",
              "            await google.colab.kernel.invokeFunction('convertToInteractive',\n",
              "                                                     [key], {});\n",
              "          if (!dataTable) return;\n",
              "\n",
              "          const docLinkHtml = 'Like what you see? Visit the ' +\n",
              "            '<a target=\"_blank\" href=https://colab.research.google.com/notebooks/data_table.ipynb>data table notebook</a>'\n",
              "            + ' to learn more about interactive tables.';\n",
              "          element.innerHTML = '';\n",
              "          dataTable['output_type'] = 'display_data';\n",
              "          await google.colab.output.renderOutput(dataTable, element);\n",
              "          const docLink = document.createElement('div');\n",
              "          docLink.innerHTML = docLinkHtml;\n",
              "          element.appendChild(docLink);\n",
              "        }\n",
              "      </script>\n",
              "    </div>\n",
              "  </div>\n",
              "  "
            ]
          },
          "metadata": {},
          "execution_count": 7
        }
      ]
    },
    {
      "cell_type": "markdown",
      "source": [
        "# Data Preparation\n"
      ],
      "metadata": {
        "id": "FoOLP0NKfTh2"
      }
    },
    {
      "cell_type": "markdown",
      "source": [
        "## Data Cleansing"
      ],
      "metadata": {
        "id": "iW1C4pg-jOpJ"
      }
    },
    {
      "cell_type": "code",
      "source": [
        "print(train.info())\n",
        "print('============')\n",
        "print('Null data')\n",
        "print(train.isnull().sum())"
      ],
      "metadata": {
        "id": "lmXFd5IOfZiw",
        "colab": {
          "base_uri": "https://localhost:8080/"
        },
        "outputId": "c89cff5f-ac33-499b-c4e0-30e2da2e4040"
      },
      "execution_count": null,
      "outputs": [
        {
          "output_type": "stream",
          "name": "stdout",
          "text": [
            "<class 'pandas.core.frame.DataFrame'>\n",
            "RangeIndex: 891 entries, 0 to 890\n",
            "Data columns (total 12 columns):\n",
            " #   Column       Non-Null Count  Dtype  \n",
            "---  ------       --------------  -----  \n",
            " 0   PassengerId  891 non-null    int64  \n",
            " 1   Survived     891 non-null    int64  \n",
            " 2   Pclass       891 non-null    int64  \n",
            " 3   Name         891 non-null    object \n",
            " 4   Sex          891 non-null    object \n",
            " 5   Age          714 non-null    float64\n",
            " 6   SibSp        891 non-null    int64  \n",
            " 7   Parch        891 non-null    int64  \n",
            " 8   Ticket       891 non-null    object \n",
            " 9   Fare         891 non-null    float64\n",
            " 10  Cabin        204 non-null    object \n",
            " 11  Embarked     889 non-null    object \n",
            "dtypes: float64(2), int64(5), object(5)\n",
            "memory usage: 83.7+ KB\n",
            "None\n",
            "============\n",
            "Null data\n",
            "PassengerId      0\n",
            "Survived         0\n",
            "Pclass           0\n",
            "Name             0\n",
            "Sex              0\n",
            "Age            177\n",
            "SibSp            0\n",
            "Parch            0\n",
            "Ticket           0\n",
            "Fare             0\n",
            "Cabin          687\n",
            "Embarked         2\n",
            "dtype: int64\n"
          ]
        }
      ]
    },
    {
      "cell_type": "markdown",
      "source": [
        "Dari data diatas kita mendapatkan informasi bahwa ada 891 data yang ada pada file dan diantaranya terdapat NULL data pada kolom :\n",
        "\n",
        "1. Age = 177\n",
        "2. Cabin = 687\n",
        "3. Embarked = 2\n",
        "Dari data tersebut juga kita dapat mengetahui bahwa data yang kosong yaitu ***Age*** merupakan variabel kontinu dan ***Cabin*** dan ***Embarked*** variabel Kategori"
      ],
      "metadata": {
        "id": "FAAbKdH7ff0K"
      }
    },
    {
      "cell_type": "markdown",
      "source": [
        "Untuk mengatasi masalah tersebut kami memutuskan solusi berikut:\n",
        "\n",
        "1. Untuk data Age kami akan menggunakan mean \n",
        "2. Untuk data Cabin kami akan menghapus kolom tersebut karena memiliki banyak nilai NULL yang dapat mempengaruhi hasil akir\n",
        "3. Untuk data embark kami akan menggunakan algoritma label encoding untuk mengisi kekosongan tersebut."
      ],
      "metadata": {
        "id": "k1STVCb2f4QT"
      }
    },
    {
      "cell_type": "code",
      "source": [
        "#Duplikasi Data \n",
        "#kami melakukan duplikasi data untuk melakukan perubahan data yang ada\n",
        "dfTrain= train.copy(deep=True)"
      ],
      "metadata": {
        "id": "6nCj_EvQf7_Z"
      },
      "execution_count": null,
      "outputs": []
    },
    {
      "cell_type": "code",
      "source": [
        "#Data Cleansing Age\n",
        "dfTrain['Age'].fillna(dfTrain['Age'].mean(),inplace = True)\n",
        "#Data Cleasing Cabin\n",
        "dropCl = ['Cabin']\n",
        "dfTrain.drop(dropCl, axis=1, inplace = True)"
      ],
      "metadata": {
        "id": "ZZj4tdVRgusM"
      },
      "execution_count": null,
      "outputs": []
    },
    {
      "cell_type": "code",
      "source": [
        "#Label Encoder Embarked\n",
        "label = LabelEncoder()\n",
        "dfTrain['Embarked'] = label.fit_transform(dfTrain['Embarked'])\n",
        "dfTrain['Sex'] = label.fit_transform(dfTrain['Sex'])"
      ],
      "metadata": {
        "id": "HOfMxSxwg0Z6"
      },
      "execution_count": null,
      "outputs": []
    },
    {
      "cell_type": "code",
      "source": [
        "dfTrain.head()"
      ],
      "metadata": {
        "colab": {
          "base_uri": "https://localhost:8080/",
          "height": 206
        },
        "id": "nz8PT8BaT5QK",
        "outputId": "a772bec4-85f0-42e0-ac9e-224346d5382e"
      },
      "execution_count": null,
      "outputs": [
        {
          "output_type": "execute_result",
          "data": {
            "text/plain": [
              "   PassengerId  Survived  Pclass  \\\n",
              "0            1         0       3   \n",
              "1            2         1       1   \n",
              "2            3         1       3   \n",
              "3            4         1       1   \n",
              "4            5         0       3   \n",
              "\n",
              "                                                Name  Sex   Age  SibSp  Parch  \\\n",
              "0                            Braund, Mr. Owen Harris    1  22.0      1      0   \n",
              "1  Cumings, Mrs. John Bradley (Florence Briggs Th...    0  38.0      1      0   \n",
              "2                             Heikkinen, Miss. Laina    0  26.0      0      0   \n",
              "3       Futrelle, Mrs. Jacques Heath (Lily May Peel)    0  35.0      1      0   \n",
              "4                           Allen, Mr. William Henry    1  35.0      0      0   \n",
              "\n",
              "             Ticket     Fare  Embarked  \n",
              "0         A/5 21171   7.2500         2  \n",
              "1          PC 17599  71.2833         0  \n",
              "2  STON/O2. 3101282   7.9250         2  \n",
              "3            113803  53.1000         2  \n",
              "4            373450   8.0500         2  "
            ],
            "text/html": [
              "\n",
              "  <div id=\"df-04ec9f7d-4763-42e5-89e6-0d9872315feb\">\n",
              "    <div class=\"colab-df-container\">\n",
              "      <div>\n",
              "<style scoped>\n",
              "    .dataframe tbody tr th:only-of-type {\n",
              "        vertical-align: middle;\n",
              "    }\n",
              "\n",
              "    .dataframe tbody tr th {\n",
              "        vertical-align: top;\n",
              "    }\n",
              "\n",
              "    .dataframe thead th {\n",
              "        text-align: right;\n",
              "    }\n",
              "</style>\n",
              "<table border=\"1\" class=\"dataframe\">\n",
              "  <thead>\n",
              "    <tr style=\"text-align: right;\">\n",
              "      <th></th>\n",
              "      <th>PassengerId</th>\n",
              "      <th>Survived</th>\n",
              "      <th>Pclass</th>\n",
              "      <th>Name</th>\n",
              "      <th>Sex</th>\n",
              "      <th>Age</th>\n",
              "      <th>SibSp</th>\n",
              "      <th>Parch</th>\n",
              "      <th>Ticket</th>\n",
              "      <th>Fare</th>\n",
              "      <th>Embarked</th>\n",
              "    </tr>\n",
              "  </thead>\n",
              "  <tbody>\n",
              "    <tr>\n",
              "      <th>0</th>\n",
              "      <td>1</td>\n",
              "      <td>0</td>\n",
              "      <td>3</td>\n",
              "      <td>Braund, Mr. Owen Harris</td>\n",
              "      <td>1</td>\n",
              "      <td>22.0</td>\n",
              "      <td>1</td>\n",
              "      <td>0</td>\n",
              "      <td>A/5 21171</td>\n",
              "      <td>7.2500</td>\n",
              "      <td>2</td>\n",
              "    </tr>\n",
              "    <tr>\n",
              "      <th>1</th>\n",
              "      <td>2</td>\n",
              "      <td>1</td>\n",
              "      <td>1</td>\n",
              "      <td>Cumings, Mrs. John Bradley (Florence Briggs Th...</td>\n",
              "      <td>0</td>\n",
              "      <td>38.0</td>\n",
              "      <td>1</td>\n",
              "      <td>0</td>\n",
              "      <td>PC 17599</td>\n",
              "      <td>71.2833</td>\n",
              "      <td>0</td>\n",
              "    </tr>\n",
              "    <tr>\n",
              "      <th>2</th>\n",
              "      <td>3</td>\n",
              "      <td>1</td>\n",
              "      <td>3</td>\n",
              "      <td>Heikkinen, Miss. Laina</td>\n",
              "      <td>0</td>\n",
              "      <td>26.0</td>\n",
              "      <td>0</td>\n",
              "      <td>0</td>\n",
              "      <td>STON/O2. 3101282</td>\n",
              "      <td>7.9250</td>\n",
              "      <td>2</td>\n",
              "    </tr>\n",
              "    <tr>\n",
              "      <th>3</th>\n",
              "      <td>4</td>\n",
              "      <td>1</td>\n",
              "      <td>1</td>\n",
              "      <td>Futrelle, Mrs. Jacques Heath (Lily May Peel)</td>\n",
              "      <td>0</td>\n",
              "      <td>35.0</td>\n",
              "      <td>1</td>\n",
              "      <td>0</td>\n",
              "      <td>113803</td>\n",
              "      <td>53.1000</td>\n",
              "      <td>2</td>\n",
              "    </tr>\n",
              "    <tr>\n",
              "      <th>4</th>\n",
              "      <td>5</td>\n",
              "      <td>0</td>\n",
              "      <td>3</td>\n",
              "      <td>Allen, Mr. William Henry</td>\n",
              "      <td>1</td>\n",
              "      <td>35.0</td>\n",
              "      <td>0</td>\n",
              "      <td>0</td>\n",
              "      <td>373450</td>\n",
              "      <td>8.0500</td>\n",
              "      <td>2</td>\n",
              "    </tr>\n",
              "  </tbody>\n",
              "</table>\n",
              "</div>\n",
              "      <button class=\"colab-df-convert\" onclick=\"convertToInteractive('df-04ec9f7d-4763-42e5-89e6-0d9872315feb')\"\n",
              "              title=\"Convert this dataframe to an interactive table.\"\n",
              "              style=\"display:none;\">\n",
              "        \n",
              "  <svg xmlns=\"http://www.w3.org/2000/svg\" height=\"24px\"viewBox=\"0 0 24 24\"\n",
              "       width=\"24px\">\n",
              "    <path d=\"M0 0h24v24H0V0z\" fill=\"none\"/>\n",
              "    <path d=\"M18.56 5.44l.94 2.06.94-2.06 2.06-.94-2.06-.94-.94-2.06-.94 2.06-2.06.94zm-11 1L8.5 8.5l.94-2.06 2.06-.94-2.06-.94L8.5 2.5l-.94 2.06-2.06.94zm10 10l.94 2.06.94-2.06 2.06-.94-2.06-.94-.94-2.06-.94 2.06-2.06.94z\"/><path d=\"M17.41 7.96l-1.37-1.37c-.4-.4-.92-.59-1.43-.59-.52 0-1.04.2-1.43.59L10.3 9.45l-7.72 7.72c-.78.78-.78 2.05 0 2.83L4 21.41c.39.39.9.59 1.41.59.51 0 1.02-.2 1.41-.59l7.78-7.78 2.81-2.81c.8-.78.8-2.07 0-2.86zM5.41 20L4 18.59l7.72-7.72 1.47 1.35L5.41 20z\"/>\n",
              "  </svg>\n",
              "      </button>\n",
              "      \n",
              "  <style>\n",
              "    .colab-df-container {\n",
              "      display:flex;\n",
              "      flex-wrap:wrap;\n",
              "      gap: 12px;\n",
              "    }\n",
              "\n",
              "    .colab-df-convert {\n",
              "      background-color: #E8F0FE;\n",
              "      border: none;\n",
              "      border-radius: 50%;\n",
              "      cursor: pointer;\n",
              "      display: none;\n",
              "      fill: #1967D2;\n",
              "      height: 32px;\n",
              "      padding: 0 0 0 0;\n",
              "      width: 32px;\n",
              "    }\n",
              "\n",
              "    .colab-df-convert:hover {\n",
              "      background-color: #E2EBFA;\n",
              "      box-shadow: 0px 1px 2px rgba(60, 64, 67, 0.3), 0px 1px 3px 1px rgba(60, 64, 67, 0.15);\n",
              "      fill: #174EA6;\n",
              "    }\n",
              "\n",
              "    [theme=dark] .colab-df-convert {\n",
              "      background-color: #3B4455;\n",
              "      fill: #D2E3FC;\n",
              "    }\n",
              "\n",
              "    [theme=dark] .colab-df-convert:hover {\n",
              "      background-color: #434B5C;\n",
              "      box-shadow: 0px 1px 3px 1px rgba(0, 0, 0, 0.15);\n",
              "      filter: drop-shadow(0px 1px 2px rgba(0, 0, 0, 0.3));\n",
              "      fill: #FFFFFF;\n",
              "    }\n",
              "  </style>\n",
              "\n",
              "      <script>\n",
              "        const buttonEl =\n",
              "          document.querySelector('#df-04ec9f7d-4763-42e5-89e6-0d9872315feb button.colab-df-convert');\n",
              "        buttonEl.style.display =\n",
              "          google.colab.kernel.accessAllowed ? 'block' : 'none';\n",
              "\n",
              "        async function convertToInteractive(key) {\n",
              "          const element = document.querySelector('#df-04ec9f7d-4763-42e5-89e6-0d9872315feb');\n",
              "          const dataTable =\n",
              "            await google.colab.kernel.invokeFunction('convertToInteractive',\n",
              "                                                     [key], {});\n",
              "          if (!dataTable) return;\n",
              "\n",
              "          const docLinkHtml = 'Like what you see? Visit the ' +\n",
              "            '<a target=\"_blank\" href=https://colab.research.google.com/notebooks/data_table.ipynb>data table notebook</a>'\n",
              "            + ' to learn more about interactive tables.';\n",
              "          element.innerHTML = '';\n",
              "          dataTable['output_type'] = 'display_data';\n",
              "          await google.colab.output.renderOutput(dataTable, element);\n",
              "          const docLink = document.createElement('div');\n",
              "          docLink.innerHTML = docLinkHtml;\n",
              "          element.appendChild(docLink);\n",
              "        }\n",
              "      </script>\n",
              "    </div>\n",
              "  </div>\n",
              "  "
            ]
          },
          "metadata": {},
          "execution_count": 12
        }
      ]
    },
    {
      "cell_type": "code",
      "source": [
        "#Age Grouping\n",
        "#<12 =0\n",
        "#13-18 = 1\n",
        "#19-59=2\n",
        "#>60\n",
        "#Grouping berdasarkan age grouping internasional untuk kesehatan medis\n",
        "dfTrain.loc[ dfTrain['Age'] <= 12, 'Age'] = 0\n",
        "dfTrain.loc[(dfTrain['Age'] > 12) & (dfTrain['Age'] <= 18), 'Age'] = 1\n",
        "dfTrain.loc[(dfTrain['Age'] > 18) & (dfTrain['Age'] <= 59), 'Age'] = 2\n",
        "dfTrain.loc[ dfTrain['Age'] > 59, 'Age'] = 3"
      ],
      "metadata": {
        "id": "7IxC0vWIhWWQ"
      },
      "execution_count": null,
      "outputs": []
    },
    {
      "cell_type": "code",
      "source": [
        "dfTrain.info()\n",
        "print(\"======\")\n",
        "dfTrain.describe()"
      ],
      "metadata": {
        "id": "sIXqKqLMg6td",
        "colab": {
          "base_uri": "https://localhost:8080/",
          "height": 647
        },
        "outputId": "393d0300-e52c-411a-a537-9f455d1599a0"
      },
      "execution_count": null,
      "outputs": [
        {
          "output_type": "stream",
          "name": "stdout",
          "text": [
            "<class 'pandas.core.frame.DataFrame'>\n",
            "RangeIndex: 891 entries, 0 to 890\n",
            "Data columns (total 11 columns):\n",
            " #   Column       Non-Null Count  Dtype  \n",
            "---  ------       --------------  -----  \n",
            " 0   PassengerId  891 non-null    int64  \n",
            " 1   Survived     891 non-null    int64  \n",
            " 2   Pclass       891 non-null    int64  \n",
            " 3   Name         891 non-null    object \n",
            " 4   Sex          891 non-null    int64  \n",
            " 5   Age          891 non-null    float64\n",
            " 6   SibSp        891 non-null    int64  \n",
            " 7   Parch        891 non-null    int64  \n",
            " 8   Ticket       891 non-null    object \n",
            " 9   Fare         891 non-null    float64\n",
            " 10  Embarked     891 non-null    int64  \n",
            "dtypes: float64(2), int64(7), object(2)\n",
            "memory usage: 76.7+ KB\n",
            "======\n"
          ]
        },
        {
          "output_type": "execute_result",
          "data": {
            "text/plain": [
              "       PassengerId    Survived      Pclass         Sex         Age  \\\n",
              "count   891.000000  891.000000  891.000000  891.000000  891.000000   \n",
              "mean    446.000000    0.383838    2.308642    0.647587    1.795735   \n",
              "std     257.353842    0.486592    0.836071    0.477990    0.613357   \n",
              "min       1.000000    0.000000    1.000000    0.000000    0.000000   \n",
              "25%     223.500000    0.000000    2.000000    0.000000    2.000000   \n",
              "50%     446.000000    0.000000    3.000000    1.000000    2.000000   \n",
              "75%     668.500000    1.000000    3.000000    1.000000    2.000000   \n",
              "max     891.000000    1.000000    3.000000    1.000000    3.000000   \n",
              "\n",
              "            SibSp       Parch        Fare    Embarked  \n",
              "count  891.000000  891.000000  891.000000  891.000000  \n",
              "mean     0.523008    0.381594   32.204208    1.538721  \n",
              "std      1.102743    0.806057   49.693429    0.794231  \n",
              "min      0.000000    0.000000    0.000000    0.000000  \n",
              "25%      0.000000    0.000000    7.910400    1.000000  \n",
              "50%      0.000000    0.000000   14.454200    2.000000  \n",
              "75%      1.000000    0.000000   31.000000    2.000000  \n",
              "max      8.000000    6.000000  512.329200    3.000000  "
            ],
            "text/html": [
              "\n",
              "  <div id=\"df-84602208-285f-4fb8-ab1f-a9af1aa99e32\">\n",
              "    <div class=\"colab-df-container\">\n",
              "      <div>\n",
              "<style scoped>\n",
              "    .dataframe tbody tr th:only-of-type {\n",
              "        vertical-align: middle;\n",
              "    }\n",
              "\n",
              "    .dataframe tbody tr th {\n",
              "        vertical-align: top;\n",
              "    }\n",
              "\n",
              "    .dataframe thead th {\n",
              "        text-align: right;\n",
              "    }\n",
              "</style>\n",
              "<table border=\"1\" class=\"dataframe\">\n",
              "  <thead>\n",
              "    <tr style=\"text-align: right;\">\n",
              "      <th></th>\n",
              "      <th>PassengerId</th>\n",
              "      <th>Survived</th>\n",
              "      <th>Pclass</th>\n",
              "      <th>Sex</th>\n",
              "      <th>Age</th>\n",
              "      <th>SibSp</th>\n",
              "      <th>Parch</th>\n",
              "      <th>Fare</th>\n",
              "      <th>Embarked</th>\n",
              "    </tr>\n",
              "  </thead>\n",
              "  <tbody>\n",
              "    <tr>\n",
              "      <th>count</th>\n",
              "      <td>891.000000</td>\n",
              "      <td>891.000000</td>\n",
              "      <td>891.000000</td>\n",
              "      <td>891.000000</td>\n",
              "      <td>891.000000</td>\n",
              "      <td>891.000000</td>\n",
              "      <td>891.000000</td>\n",
              "      <td>891.000000</td>\n",
              "      <td>891.000000</td>\n",
              "    </tr>\n",
              "    <tr>\n",
              "      <th>mean</th>\n",
              "      <td>446.000000</td>\n",
              "      <td>0.383838</td>\n",
              "      <td>2.308642</td>\n",
              "      <td>0.647587</td>\n",
              "      <td>1.795735</td>\n",
              "      <td>0.523008</td>\n",
              "      <td>0.381594</td>\n",
              "      <td>32.204208</td>\n",
              "      <td>1.538721</td>\n",
              "    </tr>\n",
              "    <tr>\n",
              "      <th>std</th>\n",
              "      <td>257.353842</td>\n",
              "      <td>0.486592</td>\n",
              "      <td>0.836071</td>\n",
              "      <td>0.477990</td>\n",
              "      <td>0.613357</td>\n",
              "      <td>1.102743</td>\n",
              "      <td>0.806057</td>\n",
              "      <td>49.693429</td>\n",
              "      <td>0.794231</td>\n",
              "    </tr>\n",
              "    <tr>\n",
              "      <th>min</th>\n",
              "      <td>1.000000</td>\n",
              "      <td>0.000000</td>\n",
              "      <td>1.000000</td>\n",
              "      <td>0.000000</td>\n",
              "      <td>0.000000</td>\n",
              "      <td>0.000000</td>\n",
              "      <td>0.000000</td>\n",
              "      <td>0.000000</td>\n",
              "      <td>0.000000</td>\n",
              "    </tr>\n",
              "    <tr>\n",
              "      <th>25%</th>\n",
              "      <td>223.500000</td>\n",
              "      <td>0.000000</td>\n",
              "      <td>2.000000</td>\n",
              "      <td>0.000000</td>\n",
              "      <td>2.000000</td>\n",
              "      <td>0.000000</td>\n",
              "      <td>0.000000</td>\n",
              "      <td>7.910400</td>\n",
              "      <td>1.000000</td>\n",
              "    </tr>\n",
              "    <tr>\n",
              "      <th>50%</th>\n",
              "      <td>446.000000</td>\n",
              "      <td>0.000000</td>\n",
              "      <td>3.000000</td>\n",
              "      <td>1.000000</td>\n",
              "      <td>2.000000</td>\n",
              "      <td>0.000000</td>\n",
              "      <td>0.000000</td>\n",
              "      <td>14.454200</td>\n",
              "      <td>2.000000</td>\n",
              "    </tr>\n",
              "    <tr>\n",
              "      <th>75%</th>\n",
              "      <td>668.500000</td>\n",
              "      <td>1.000000</td>\n",
              "      <td>3.000000</td>\n",
              "      <td>1.000000</td>\n",
              "      <td>2.000000</td>\n",
              "      <td>1.000000</td>\n",
              "      <td>0.000000</td>\n",
              "      <td>31.000000</td>\n",
              "      <td>2.000000</td>\n",
              "    </tr>\n",
              "    <tr>\n",
              "      <th>max</th>\n",
              "      <td>891.000000</td>\n",
              "      <td>1.000000</td>\n",
              "      <td>3.000000</td>\n",
              "      <td>1.000000</td>\n",
              "      <td>3.000000</td>\n",
              "      <td>8.000000</td>\n",
              "      <td>6.000000</td>\n",
              "      <td>512.329200</td>\n",
              "      <td>3.000000</td>\n",
              "    </tr>\n",
              "  </tbody>\n",
              "</table>\n",
              "</div>\n",
              "      <button class=\"colab-df-convert\" onclick=\"convertToInteractive('df-84602208-285f-4fb8-ab1f-a9af1aa99e32')\"\n",
              "              title=\"Convert this dataframe to an interactive table.\"\n",
              "              style=\"display:none;\">\n",
              "        \n",
              "  <svg xmlns=\"http://www.w3.org/2000/svg\" height=\"24px\"viewBox=\"0 0 24 24\"\n",
              "       width=\"24px\">\n",
              "    <path d=\"M0 0h24v24H0V0z\" fill=\"none\"/>\n",
              "    <path d=\"M18.56 5.44l.94 2.06.94-2.06 2.06-.94-2.06-.94-.94-2.06-.94 2.06-2.06.94zm-11 1L8.5 8.5l.94-2.06 2.06-.94-2.06-.94L8.5 2.5l-.94 2.06-2.06.94zm10 10l.94 2.06.94-2.06 2.06-.94-2.06-.94-.94-2.06-.94 2.06-2.06.94z\"/><path d=\"M17.41 7.96l-1.37-1.37c-.4-.4-.92-.59-1.43-.59-.52 0-1.04.2-1.43.59L10.3 9.45l-7.72 7.72c-.78.78-.78 2.05 0 2.83L4 21.41c.39.39.9.59 1.41.59.51 0 1.02-.2 1.41-.59l7.78-7.78 2.81-2.81c.8-.78.8-2.07 0-2.86zM5.41 20L4 18.59l7.72-7.72 1.47 1.35L5.41 20z\"/>\n",
              "  </svg>\n",
              "      </button>\n",
              "      \n",
              "  <style>\n",
              "    .colab-df-container {\n",
              "      display:flex;\n",
              "      flex-wrap:wrap;\n",
              "      gap: 12px;\n",
              "    }\n",
              "\n",
              "    .colab-df-convert {\n",
              "      background-color: #E8F0FE;\n",
              "      border: none;\n",
              "      border-radius: 50%;\n",
              "      cursor: pointer;\n",
              "      display: none;\n",
              "      fill: #1967D2;\n",
              "      height: 32px;\n",
              "      padding: 0 0 0 0;\n",
              "      width: 32px;\n",
              "    }\n",
              "\n",
              "    .colab-df-convert:hover {\n",
              "      background-color: #E2EBFA;\n",
              "      box-shadow: 0px 1px 2px rgba(60, 64, 67, 0.3), 0px 1px 3px 1px rgba(60, 64, 67, 0.15);\n",
              "      fill: #174EA6;\n",
              "    }\n",
              "\n",
              "    [theme=dark] .colab-df-convert {\n",
              "      background-color: #3B4455;\n",
              "      fill: #D2E3FC;\n",
              "    }\n",
              "\n",
              "    [theme=dark] .colab-df-convert:hover {\n",
              "      background-color: #434B5C;\n",
              "      box-shadow: 0px 1px 3px 1px rgba(0, 0, 0, 0.15);\n",
              "      filter: drop-shadow(0px 1px 2px rgba(0, 0, 0, 0.3));\n",
              "      fill: #FFFFFF;\n",
              "    }\n",
              "  </style>\n",
              "\n",
              "      <script>\n",
              "        const buttonEl =\n",
              "          document.querySelector('#df-84602208-285f-4fb8-ab1f-a9af1aa99e32 button.colab-df-convert');\n",
              "        buttonEl.style.display =\n",
              "          google.colab.kernel.accessAllowed ? 'block' : 'none';\n",
              "\n",
              "        async function convertToInteractive(key) {\n",
              "          const element = document.querySelector('#df-84602208-285f-4fb8-ab1f-a9af1aa99e32');\n",
              "          const dataTable =\n",
              "            await google.colab.kernel.invokeFunction('convertToInteractive',\n",
              "                                                     [key], {});\n",
              "          if (!dataTable) return;\n",
              "\n",
              "          const docLinkHtml = 'Like what you see? Visit the ' +\n",
              "            '<a target=\"_blank\" href=https://colab.research.google.com/notebooks/data_table.ipynb>data table notebook</a>'\n",
              "            + ' to learn more about interactive tables.';\n",
              "          element.innerHTML = '';\n",
              "          dataTable['output_type'] = 'display_data';\n",
              "          await google.colab.output.renderOutput(dataTable, element);\n",
              "          const docLink = document.createElement('div');\n",
              "          docLink.innerHTML = docLinkHtml;\n",
              "          element.appendChild(docLink);\n",
              "        }\n",
              "      </script>\n",
              "    </div>\n",
              "  </div>\n",
              "  "
            ]
          },
          "metadata": {},
          "execution_count": 14
        }
      ]
    },
    {
      "cell_type": "markdown",
      "source": [
        "Dari hasil data yang sudah di bersihkan pada tahap pertama kami melihat bahwa ada beberapa data yang tidak memiliki korelasi pada tujuan awal penelitian kami yaitu *PassengerId* , *Ticket*, dan *Name* sehingga entitas tersebut dapat kita hilangkan dari data. Kami juga memutuskan menghilangkan **Fare** karena memiliki nilai yang beragam walaupun berada di kelas yang sama.\n",
        "\n",
        "Kami juga memutuskan untuk menghapus value **Fare** karena kami menemukan anomali dimana keetika kedua orang memiliki tiket kelas yang sama namun seteleah dilihat mereka membayar dengan harga yang berbeda."
      ],
      "metadata": {
        "id": "0wiKvXtAhNNn"
      }
    },
    {
      "cell_type": "code",
      "source": [
        "dropCl = ['PassengerId','Ticket','Name','Fare']\n",
        "dfTrain.drop(dropCl, axis=1, inplace = True)"
      ],
      "metadata": {
        "id": "iCDkS0Q4hRpy"
      },
      "execution_count": null,
      "outputs": []
    },
    {
      "cell_type": "code",
      "source": [
        "dfTrain.info()"
      ],
      "metadata": {
        "id": "qq25grc5hU4b",
        "colab": {
          "base_uri": "https://localhost:8080/"
        },
        "outputId": "4f387542-86a7-4b8c-c9b2-cb72569d1e5e"
      },
      "execution_count": null,
      "outputs": [
        {
          "output_type": "stream",
          "name": "stdout",
          "text": [
            "<class 'pandas.core.frame.DataFrame'>\n",
            "RangeIndex: 891 entries, 0 to 890\n",
            "Data columns (total 7 columns):\n",
            " #   Column    Non-Null Count  Dtype  \n",
            "---  ------    --------------  -----  \n",
            " 0   Survived  891 non-null    int64  \n",
            " 1   Pclass    891 non-null    int64  \n",
            " 2   Sex       891 non-null    int64  \n",
            " 3   Age       891 non-null    float64\n",
            " 4   SibSp     891 non-null    int64  \n",
            " 5   Parch     891 non-null    int64  \n",
            " 6   Embarked  891 non-null    int64  \n",
            "dtypes: float64(1), int64(6)\n",
            "memory usage: 48.9 KB\n"
          ]
        }
      ]
    },
    {
      "cell_type": "markdown",
      "source": [
        "# Basic Analysis"
      ],
      "metadata": {
        "id": "TwZf6lBVjQ1P"
      }
    },
    {
      "cell_type": "markdown",
      "source": [
        "Kami akan melakukan basic analysis terkait survival rate dengan atribut yang ada dan ditentukan"
      ],
      "metadata": {
        "id": "je-TjorLm7Np"
      }
    },
    {
      "cell_type": "code",
      "source": [
        "ax = plt.subplots(figsize=(10,8))\n",
        "sns.heatmap(dfTrain.corr(), annot= True, annot_kws={'fontsize':12})"
      ],
      "metadata": {
        "id": "YP-JtClzfqZK",
        "colab": {
          "base_uri": "https://localhost:8080/",
          "height": 505
        },
        "outputId": "003a63ad-6944-45f0-ae79-c6bf28681827"
      },
      "execution_count": null,
      "outputs": [
        {
          "output_type": "execute_result",
          "data": {
            "text/plain": [
              "<matplotlib.axes._subplots.AxesSubplot at 0x7f24566aedd0>"
            ]
          },
          "metadata": {},
          "execution_count": 17
        },
        {
          "output_type": "display_data",
          "data": {
            "text/plain": [
              "<Figure size 720x576 with 2 Axes>"
            ],
            "image/png": "[encoded data removed]"
          },
          "metadata": {
            "needs_background": "light"
          }
        }
      ]
    },
    {
      "cell_type": "markdown",
      "source": [
        "## Sex"
      ],
      "metadata": {
        "id": "Ss0LBLOLm5tF"
      }
    },
    {
      "cell_type": "code",
      "source": [
        "# Jumlah Passanger Berdasarkan Sex\n",
        "Sex1 = sns.countplot(data=train, x='Sex', palette=\"Paired\")\n",
        "Sex1.set_title(\"Jumlah Passanger Berdasarkan Jenis Kelamin\")"
      ],
      "metadata": {
        "id": "APQc8pMxnEOK",
        "colab": {
          "base_uri": "https://localhost:8080/",
          "height": 313
        },
        "outputId": "df574df1-1fdb-46b4-d0d2-d0a4676b9923"
      },
      "execution_count": null,
      "outputs": [
        {
          "output_type": "execute_result",
          "data": {
            "text/plain": [
              "Text(0.5, 1.0, 'Jumlah Passanger Berdasarkan Jenis Kelamin')"
            ]
          },
          "metadata": {},
          "execution_count": 18
        },
        {
          "output_type": "display_data",
          "data": {
            "text/plain": [
              "<Figure size 432x288 with 1 Axes>"
            ],
            "image/png": "[encoded data removed]"
          },
          "metadata": {
            "needs_background": "light"
          }
        }
      ]
    },
    {
      "cell_type": "code",
      "source": [
        "# Ratio Keselamatan Berdasarkan Sex\n",
        "Sex2 = sns.barplot(data=train, x='Sex', y='Survived', ci=None, palette=\"mako\")\n",
        "for p, labels in zip(Sex2.patches, train.groupby('Sex')['Survived'].mean().round(decimals=3).sort_values()):\n",
        "    Sex2.annotate(labels, (p.get_x()+0.30, p.get_height()+0.01))\n",
        "Sex2.set_title(\"Ratio Keselamatan Berdasarkan Sex\")"
      ],
      "metadata": {
        "id": "sPMVR9RMnYXR",
        "colab": {
          "base_uri": "https://localhost:8080/",
          "height": 313
        },
        "outputId": "5f11def1-13a6-4b9c-8c4c-745f435da818"
      },
      "execution_count": null,
      "outputs": [
        {
          "output_type": "execute_result",
          "data": {
            "text/plain": [
              "Text(0.5, 1.0, 'Ratio Keselamatan Berdasarkan Sex')"
            ]
          },
          "metadata": {},
          "execution_count": 19
        },
        {
          "output_type": "display_data",
          "data": {
            "text/plain": [
              "<Figure size 432x288 with 1 Axes>"
            ],
            "image/png": "[encoded data removed]"
          },
          "metadata": {
            "needs_background": "light"
          }
        }
      ]
    },
    {
      "cell_type": "code",
      "source": [
        "# Detail Informasi keselamatan\n",
        "g = sns.catplot(\n",
        "    x= \"Sex\",\n",
        "    hue= \"Survived\",\n",
        "    data=train,\n",
        "    kind=\"count\" \n",
        ")\n",
        "plt.xlabel('Sex')\n",
        "plt.ylabel('Jumlah Passanger')\n",
        "plt.title('Detail Informasi keselamatan berdasarkan Sex')\n",
        "plt.show()"
      ],
      "metadata": {
        "id": "b2Tx0NtKnkOn",
        "colab": {
          "base_uri": "https://localhost:8080/",
          "height": 385
        },
        "outputId": "ba1d218f-29d9-441b-eec9-a97e08713a04"
      },
      "execution_count": null,
      "outputs": [
        {
          "output_type": "display_data",
          "data": {
            "text/plain": [
              "<Figure size 411.875x360 with 1 Axes>"
            ],
            "image/png": "[encoded data removed]"
          },
          "metadata": {
            "needs_background": "light"
          }
        }
      ]
    },
    {
      "cell_type": "markdown",
      "source": [
        "Dari data diatas kita dapat menyimpulakan bahwa penumpang *Female* memiliki kemungkinan untuk selamat lebih tinggi dibanding penumpang *Male* \n",
        "\n",
        "1. Female 74%\n",
        "2. Male 18%"
      ],
      "metadata": {
        "id": "O3x3ZzNbz3ym"
      }
    },
    {
      "cell_type": "markdown",
      "source": [
        "## PClass"
      ],
      "metadata": {
        "id": "8PIImSWboYLr"
      }
    },
    {
      "cell_type": "code",
      "source": [
        "# Jumlah Passanger Berdasarkan PClass\n",
        "Pclass1 = sns.countplot(data=dfTrain, x='Pclass', palette=\"Paired\") \n",
        "Pclass1.set_title(\"Jumlah Passanger Berdasarkan PClass\")"
      ],
      "metadata": {
        "id": "n0CfsYfxofR0",
        "colab": {
          "base_uri": "https://localhost:8080/",
          "height": 313
        },
        "outputId": "db5cf08a-04a2-46fe-eb96-1a28f370f14c"
      },
      "execution_count": null,
      "outputs": [
        {
          "output_type": "execute_result",
          "data": {
            "text/plain": [
              "Text(0.5, 1.0, 'Jumlah Passanger Berdasarkan PClass')"
            ]
          },
          "metadata": {},
          "execution_count": 21
        },
        {
          "output_type": "display_data",
          "data": {
            "text/plain": [
              "<Figure size 432x288 with 1 Axes>"
            ],
            "image/png": "[encoded data removed]"
          },
          "metadata": {
            "needs_background": "light"
          }
        }
      ]
    },
    {
      "cell_type": "code",
      "source": [
        "# Ratio Keselamatan Berdasarkan PClass\n",
        "Pclass2 = sns.barplot(data=dfTrain, x='Pclass', y='Survived', ci=None, palette=\"mako\")\n",
        "for p, labels in zip(Pclass2.patches, train.groupby('Pclass')['Survived'].mean().round(decimals=3)):\n",
        "    Pclass2.annotate(labels, (p.get_x()+0.30, p.get_height()+0.01))\n",
        "Pclass2.set_title(\"Ratio Keselamatan Berdasarkan PClass\")"
      ],
      "metadata": {
        "id": "V1T0JbxUooum",
        "colab": {
          "base_uri": "https://localhost:8080/",
          "height": 313
        },
        "outputId": "b3a07e0c-c619-447b-9ca2-666f66544cfa"
      },
      "execution_count": null,
      "outputs": [
        {
          "output_type": "execute_result",
          "data": {
            "text/plain": [
              "Text(0.5, 1.0, 'Ratio Keselamatan Berdasarkan PClass')"
            ]
          },
          "metadata": {},
          "execution_count": 22
        },
        {
          "output_type": "display_data",
          "data": {
            "text/plain": [
              "<Figure size 432x288 with 1 Axes>"
            ],
            "image/png": "[encoded data removed]"
          },
          "metadata": {
            "needs_background": "light"
          }
        }
      ]
    },
    {
      "cell_type": "code",
      "source": [
        "# Detail Informasi keselamatan berdasarkan PClass\n",
        "g = sns.catplot(\n",
        "    x= \"Pclass\",\n",
        "    hue= \"Survived\",\n",
        "    data=dfTrain,\n",
        "    kind=\"count\" \n",
        ")\n",
        "plt.xlabel('PClass')\n",
        "plt.ylabel('Jumlah Passanger')\n",
        "plt.title('Detail Informasi keselamatan berdasarkan PClass')\n",
        "plt.show()"
      ],
      "metadata": {
        "id": "J72VJLQmoxLo",
        "colab": {
          "base_uri": "https://localhost:8080/",
          "height": 385
        },
        "outputId": "35054710-960d-47de-ced7-db1956ada1a4"
      },
      "execution_count": null,
      "outputs": [
        {
          "output_type": "display_data",
          "data": {
            "text/plain": [
              "<Figure size 411.875x360 with 1 Axes>"
            ],
            "image/png": "[encoded data removed]"
          },
          "metadata": {
            "needs_background": "light"
          }
        }
      ]
    },
    {
      "cell_type": "markdown",
      "source": [
        "Dari data diatas kita dapat menyimpulakan bahwa penumpang pada *Class 1* memiliki kemungkinan untuk selamat lebih tinggi untuk lebih detailnya akan diurutkan sebagai berikut\n",
        "\n",
        "Class 1> Class 2> Class 3\n",
        "63% > 47.3%>24.2%"
      ],
      "metadata": {
        "id": "stRTU_Tpz-B_"
      }
    },
    {
      "cell_type": "markdown",
      "source": [
        "## Sibling/Spouse (SibSp)"
      ],
      "metadata": {
        "id": "66XifFjFo8ob"
      }
    },
    {
      "cell_type": "code",
      "source": [
        "# Jumlah Passanger Berdasarkan SibSp\n",
        "SibSp1 = sns.countplot(data=dfTrain, x='SibSp', palette=\"Paired\") \n",
        "SibSp1.set_title(\"Jumlah Passanger Berdasarkan SibSP\")"
      ],
      "metadata": {
        "id": "lM2bW4DhpGER",
        "colab": {
          "base_uri": "https://localhost:8080/",
          "height": 313
        },
        "outputId": "0d303c52-7476-4069-ce54-7831eae39253"
      },
      "execution_count": null,
      "outputs": [
        {
          "output_type": "execute_result",
          "data": {
            "text/plain": [
              "Text(0.5, 1.0, 'Jumlah Passanger Berdasarkan SibSP')"
            ]
          },
          "metadata": {},
          "execution_count": 24
        },
        {
          "output_type": "display_data",
          "data": {
            "text/plain": [
              "<Figure size 432x288 with 1 Axes>"
            ],
            "image/png": "[encoded data removed]"
          },
          "metadata": {
            "needs_background": "light"
          }
        }
      ]
    },
    {
      "cell_type": "code",
      "source": [
        "# Ratio Keselamatan Berdasarkan SibSp\n",
        "Sibsp2 = sns.barplot(data=dfTrain, x='SibSp', y='Survived', ci=None, palette=\"mako\")\n",
        "for p, labels in zip(Sibsp2.patches, train.groupby('SibSp')['Survived'].mean().round(decimals=3)):\n",
        "    Sibsp2.annotate(labels, (p.get_x()+0.30, p.get_height()+0.01))\n",
        "Sibsp2.set_title(\"Ratio Keselamatan Berdasarkan SibSp\")"
      ],
      "metadata": {
        "id": "4B8SopJipND7",
        "colab": {
          "base_uri": "https://localhost:8080/",
          "height": 313
        },
        "outputId": "2c7cf53a-aed2-4c26-e95d-27e7d1170303"
      },
      "execution_count": null,
      "outputs": [
        {
          "output_type": "execute_result",
          "data": {
            "text/plain": [
              "Text(0.5, 1.0, 'Ratio Keselamatan Berdasarkan SibSp')"
            ]
          },
          "metadata": {},
          "execution_count": 25
        },
        {
          "output_type": "display_data",
          "data": {
            "text/plain": [
              "<Figure size 432x288 with 1 Axes>"
            ],
            "image/png": "[encoded data removed]"
          },
          "metadata": {
            "needs_background": "light"
          }
        }
      ]
    },
    {
      "cell_type": "code",
      "source": [
        "# Detail Informasi keselamatan berdasarkan SibSp\n",
        "g = sns.catplot(\n",
        "    x= \"SibSp\",\n",
        "    hue= \"Survived\",\n",
        "    data=dfTrain,\n",
        "    kind=\"count\" \n",
        ")\n",
        "plt.xlabel('SibSp')\n",
        "plt.ylabel('Jumlah Passanger')\n",
        "plt.title('Detail Informasi keselamatan berdasarkan SibSp')\n",
        "plt.show()"
      ],
      "metadata": {
        "id": "brf5VwXCpTy4",
        "colab": {
          "base_uri": "https://localhost:8080/",
          "height": 385
        },
        "outputId": "2823844b-7687-482a-f219-00f1f92d0f1a"
      },
      "execution_count": null,
      "outputs": [
        {
          "output_type": "display_data",
          "data": {
            "text/plain": [
              "<Figure size 411.875x360 with 1 Axes>"
            ],
            "image/png": "[encoded data removed]"
          },
          "metadata": {
            "needs_background": "light"
          }
        }
      ]
    },
    {
      "cell_type": "markdown",
      "source": [
        "Dari data diatas kita dapat menyimpulakan bahwa penumpang yang bersama dengan 1-2 Sibling/Spouse memiliki kemungkinan untuk selamat lebih tinggi dengan detail berikut:\n",
        "\n",
        "1>2>0>3>4>5,8"
      ],
      "metadata": {
        "id": "Al9Zvc720KMP"
      }
    },
    {
      "cell_type": "markdown",
      "source": [
        "## Parent/Child (Parch)"
      ],
      "metadata": {
        "id": "-di5o5lSpWhk"
      }
    },
    {
      "cell_type": "code",
      "source": [
        "# Jumlah Passanger Berdasarkan Parch\n",
        "Parch1 = sns.countplot(data=dfTrain, x='Parch', palette=\"Paired\") \n",
        "Parch1.set_title(\"Jumlah Passanger Berdasarkan Parch\")"
      ],
      "metadata": {
        "id": "qaVdPMC0pc04",
        "colab": {
          "base_uri": "https://localhost:8080/",
          "height": 313
        },
        "outputId": "0b2ccefe-9539-48e2-fcb9-283a4687f649"
      },
      "execution_count": null,
      "outputs": [
        {
          "output_type": "execute_result",
          "data": {
            "text/plain": [
              "Text(0.5, 1.0, 'Jumlah Passanger Berdasarkan Parch')"
            ]
          },
          "metadata": {},
          "execution_count": 27
        },
        {
          "output_type": "display_data",
          "data": {
            "text/plain": [
              "<Figure size 432x288 with 1 Axes>"
            ],
            "image/png": "[encoded data removed]"
          },
          "metadata": {
            "needs_background": "light"
          }
        }
      ]
    },
    {
      "cell_type": "code",
      "source": [
        "# Ratio Keselamatan Berdasarkan SibS\n",
        "Parch2 = sns.barplot(data=dfTrain, x='Parch', y='Survived', ci=None, palette=\"mako\")\n",
        "for p, labels in zip(Parch2.patches, train.groupby('Parch')['Survived'].mean().round(decimals=3)):\n",
        "    Parch2.annotate(labels, (p.get_x()+0.30, p.get_height()+0.01))\n",
        "Parch2.set_title(\"Ratio Keselamatan Berdasarkan Parch\")"
      ],
      "metadata": {
        "id": "TPU-7GG2ph5G",
        "colab": {
          "base_uri": "https://localhost:8080/",
          "height": 313
        },
        "outputId": "6a37703e-41fa-41db-9005-e0c50ab323dc"
      },
      "execution_count": null,
      "outputs": [
        {
          "output_type": "execute_result",
          "data": {
            "text/plain": [
              "Text(0.5, 1.0, 'Ratio Keselamatan Berdasarkan Parch')"
            ]
          },
          "metadata": {},
          "execution_count": 28
        },
        {
          "output_type": "display_data",
          "data": {
            "text/plain": [
              "<Figure size 432x288 with 1 Axes>"
            ],
            "image/png": "[encoded data removed]"
          },
          "metadata": {
            "needs_background": "light"
          }
        }
      ]
    },
    {
      "cell_type": "code",
      "source": [
        "# Detail Informasi keselamatan berdasarkan Parch\n",
        "g = sns.catplot(\n",
        "    x= \"Parch\",\n",
        "    hue= \"Survived\",\n",
        "    data=dfTrain,\n",
        "    kind=\"count\" \n",
        ")\n",
        "plt.xlabel('Parch')\n",
        "plt.ylabel('Jumlah Passanger')\n",
        "plt.title('Detail Informasi keselamatan berdasarkan Parch')\n",
        "plt.show()"
      ],
      "metadata": {
        "id": "0YCFDMRhpiEX",
        "colab": {
          "base_uri": "https://localhost:8080/",
          "height": 385
        },
        "outputId": "495c5eb7-f274-41a2-8c4c-0bad99210d60"
      },
      "execution_count": null,
      "outputs": [
        {
          "output_type": "display_data",
          "data": {
            "text/plain": [
              "<Figure size 411.875x360 with 1 Axes>"
            ],
            "image/png": "[encoded data removed]"
          },
          "metadata": {
            "needs_background": "light"
          }
        }
      ]
    },
    {
      "cell_type": "markdown",
      "source": [
        "Dari data diatas kita dapat menyimpulakan bahwa penumpang yang bersama 1-3 *Parent/Child* memiliki kemungkinan untuk selamat lebih tinggi \n",
        "dengan detail sebagai berikut\n",
        "3>1>2>0>5>4>6"
      ],
      "metadata": {
        "id": "QwcQ0YMD01IM"
      }
    },
    {
      "cell_type": "markdown",
      "source": [
        "### Deep analysis SibSp and Parch relation"
      ],
      "metadata": {
        "id": "PEsyg00uyl8H"
      }
    },
    {
      "cell_type": "markdown",
      "source": [
        "Dari hasil basic analysis diatas kita dapat membuat kesimpulan baru dimana Parch dan SibSp memiliki relasi dan keunikan dimana ketika penumpnag memiliki jumlah SibSp = 0 dan Parch =0 memiliki probabilitas keselamtan yang sama namun disini kita melihat ada perbedaan cukup siginifikan dimana ketika SibSp = 3 dan Parch =3 memiliki perbedaan ratio yang tinggi begitu juga perbedaan pada SibSp dan Parch yang bernilai 4 dan 5.\n",
        "\n",
        "Sehingga kami memutuskan untuk membuat kolom baru yaitu Family Size dan IsAlone untuk mengetahui lebih jelas relasi yang ada."
      ],
      "metadata": {
        "id": "ljJvbxWxyuII"
      }
    },
    {
      "cell_type": "markdown",
      "source": [
        "#### Family Size\n"
      ],
      "metadata": {
        "id": "CszjOTZS75tx"
      }
    },
    {
      "cell_type": "code",
      "source": [
        "#Family Size\n",
        "dfTrain['FamilySize'] = dfTrain['SibSp']+dfTrain['Parch']+1\n",
        "# +1 adlaah subject / passanger  yang bersangkutan"
      ],
      "metadata": {
        "id": "zBqA6API3Qji"
      },
      "execution_count": null,
      "outputs": []
    },
    {
      "cell_type": "code",
      "source": [
        "# Jumlah Passanger Berdasarkan Family Size\n",
        "FamilySize1 = sns.countplot(data=dfTrain, x='FamilySize', palette=\"Paired\") \n",
        "FamilySize1.set_title(\"Jumlah Passanger Berdasarkan Family Size\")"
      ],
      "metadata": {
        "id": "lFK1eEb94UC3",
        "colab": {
          "base_uri": "https://localhost:8080/",
          "height": 313
        },
        "outputId": "e7e30a02-da8a-4741-d1db-f48650c3a26e"
      },
      "execution_count": null,
      "outputs": [
        {
          "output_type": "execute_result",
          "data": {
            "text/plain": [
              "Text(0.5, 1.0, 'Jumlah Passanger Berdasarkan Family Size')"
            ]
          },
          "metadata": {},
          "execution_count": 31
        },
        {
          "output_type": "display_data",
          "data": {
            "text/plain": [
              "<Figure size 432x288 with 1 Axes>"
            ],
            "image/png": "[encoded data removed]"
          },
          "metadata": {
            "needs_background": "light"
          }
        }
      ]
    },
    {
      "cell_type": "code",
      "source": [
        "# Ratio Keselamatan Berdasarkan Family Size\n",
        "FamilySize2 = sns.barplot(data=dfTrain, x='FamilySize', y='Survived', ci=None, palette=\"mako\")\n",
        "for p, labels in zip(FamilySize2.patches, dfTrain.groupby('FamilySize')['Survived'].mean().round(decimals=3)):\n",
        "    FamilySize2.annotate(labels, (p.get_x()+0.30, p.get_height()+0.01))\n",
        "FamilySize2.set_title(\"Ratio Keselamatan Berdasarkan Family Size\")"
      ],
      "metadata": {
        "id": "zCX5PDGs4jCc",
        "colab": {
          "base_uri": "https://localhost:8080/",
          "height": 313
        },
        "outputId": "3c07f927-c659-4c5a-9cc9-4251d3eabb3f"
      },
      "execution_count": null,
      "outputs": [
        {
          "output_type": "execute_result",
          "data": {
            "text/plain": [
              "Text(0.5, 1.0, 'Ratio Keselamatan Berdasarkan Family Size')"
            ]
          },
          "metadata": {},
          "execution_count": 32
        },
        {
          "output_type": "display_data",
          "data": {
            "text/plain": [
              "<Figure size 432x288 with 1 Axes>"
            ],
            "image/png": "[encoded data removed]"
          },
          "metadata": {
            "needs_background": "light"
          }
        }
      ]
    },
    {
      "cell_type": "code",
      "source": [
        "# Detail Informasi keselamatan berdasarkan Parch\n",
        "g = sns.catplot(\n",
        "    x= \"FamilySize\",\n",
        "    hue= \"Survived\",\n",
        "    data=dfTrain,\n",
        "    kind=\"count\" \n",
        ")\n",
        "plt.xlabel('Family Size')\n",
        "plt.ylabel('Jumlah Passanger')\n",
        "plt.title('Detail Informasi keselamatan berdasarkan Family Size')\n",
        "plt.show()"
      ],
      "metadata": {
        "id": "ETlmPR3q4lOz",
        "colab": {
          "base_uri": "https://localhost:8080/",
          "height": 385
        },
        "outputId": "d19a9fdd-59a1-4b38-a0a5-2fb6c29a676b"
      },
      "execution_count": null,
      "outputs": [
        {
          "output_type": "display_data",
          "data": {
            "text/plain": [
              "<Figure size 411.875x360 with 1 Axes>"
            ],
            "image/png": "[encoded data removed]"
          },
          "metadata": {
            "needs_background": "light"
          }
        }
      ]
    },
    {
      "cell_type": "markdown",
      "source": [
        "Dari data diatas kita dapat menyimpulkan bahwa setiap penumpang yang meimiliki *Family Size* sebesar 2, 3, 4, dan 7 memiliki potensi untuk selamat lebih tinggi\n",
        "\n",
        "\n",
        "Dari data ini kita melihat jika *FamilySize* =1 masih memiliki probabilitas selamat yang tidak jauh berbeda dengan penumpang dengan *SibSp* atau *Parch* yang bernilai 0. "
      ],
      "metadata": {
        "id": "38d5DA_u41mM"
      }
    },
    {
      "cell_type": "markdown",
      "source": [
        "#### IsAlone"
      ],
      "metadata": {
        "id": "sD0ysaec7_Cc"
      }
    },
    {
      "cell_type": "code",
      "source": [
        "#IsAlone\n",
        "dfTrain['IsAlone']=1\n",
        "dfTrain['IsAlone'].loc[dfTrain['FamilySize']>1]=0\n",
        "# IsAlone =1 jika Passanger memiliki nilai SibSp dan Parch 0"
      ],
      "metadata": {
        "id": "WKdTvOi95cci",
        "colab": {
          "base_uri": "https://localhost:8080/"
        },
        "outputId": "69936456-fc82-47e9-c795-5fa52bfcaeec"
      },
      "execution_count": null,
      "outputs": [
        {
          "output_type": "stream",
          "name": "stderr",
          "text": [
            "/usr/local/lib/python3.7/dist-packages/pandas/core/indexing.py:1732: SettingWithCopyWarning: \n",
            "A value is trying to be set on a copy of a slice from a DataFrame\n",
            "\n",
            "See the caveats in the documentation: https://pandas.pydata.org/pandas-docs/stable/user_guide/indexing.html#returning-a-view-versus-a-copy\n",
            "  self._setitem_single_block(indexer, value, name)\n"
          ]
        }
      ]
    },
    {
      "cell_type": "code",
      "source": [
        "# Jumlah Passanger Berdasarkan IsAlone\n",
        "\n",
        "Pclass1 = sns.countplot(data=dfTrain, x='IsAlone', palette=\"Paired\") \n",
        "\n",
        "Pclass1.set_title(\"Jumlah Passanger Berdasarkan IsAlone\")"
      ],
      "metadata": {
        "id": "jul_WzuI5v-L",
        "colab": {
          "base_uri": "https://localhost:8080/",
          "height": 313
        },
        "outputId": "a4e466e0-2827-46a5-a92d-ab63616aef0f"
      },
      "execution_count": null,
      "outputs": [
        {
          "output_type": "execute_result",
          "data": {
            "text/plain": [
              "Text(0.5, 1.0, 'Jumlah Passanger Berdasarkan IsAlone')"
            ]
          },
          "metadata": {},
          "execution_count": 35
        },
        {
          "output_type": "display_data",
          "data": {
            "text/plain": [
              "<Figure size 432x288 with 1 Axes>"
            ],
            "image/png": "[encoded data removed]"
          },
          "metadata": {
            "needs_background": "light"
          }
        }
      ]
    },
    {
      "cell_type": "code",
      "source": [
        "# Ratio Keselamatan Berdasarkan IsAlone\n",
        "Pclass2 = sns.barplot(data=dfTrain, x='IsAlone', y='Survived', ci=None, palette=\"mako\")\n",
        "\n",
        "for p, labels in zip(Pclass2.patches, dfTrain.groupby('IsAlone')['Survived'].mean().round(decimals=3)):\n",
        "    Pclass2.annotate(labels, (p.get_x()+0.30, p.get_height()+0.01))\n",
        "\n",
        "   \n",
        "\n",
        "Pclass2.set_title(\"Ratio Keselamatan Berdasarkan IsAlone\")"
      ],
      "metadata": {
        "id": "OqMscTVP51Sf",
        "colab": {
          "base_uri": "https://localhost:8080/",
          "height": 313
        },
        "outputId": "72722002-aac0-4361-b8c7-7fa13c2e555d"
      },
      "execution_count": null,
      "outputs": [
        {
          "output_type": "execute_result",
          "data": {
            "text/plain": [
              "Text(0.5, 1.0, 'Ratio Keselamatan Berdasarkan IsAlone')"
            ]
          },
          "metadata": {},
          "execution_count": 36
        },
        {
          "output_type": "display_data",
          "data": {
            "text/plain": [
              "<Figure size 432x288 with 1 Axes>"
            ],
            "image/png": "[encoded data removed]"
          },
          "metadata": {
            "needs_background": "light"
          }
        }
      ]
    },
    {
      "cell_type": "code",
      "source": [
        "# Detail Informasi keselamatan berdasarkan Parch\n",
        "g = sns.catplot(\n",
        "    x= \"IsAlone\",\n",
        "    hue= \"Survived\",\n",
        "    data=dfTrain,\n",
        "    kind=\"count\" \n",
        ")\n",
        "plt.xlabel('IsAlone')\n",
        "plt.ylabel('Jumlah Passanger')\n",
        "plt.title('Detail Informasi keselamatan berdasarkan IsAlone')\n",
        "plt.show()"
      ],
      "metadata": {
        "id": "QbS6n_EJ57Pg",
        "colab": {
          "base_uri": "https://localhost:8080/",
          "height": 385
        },
        "outputId": "937d7f4d-3ebb-40c2-93ce-f1c9a0074946"
      },
      "execution_count": null,
      "outputs": [
        {
          "output_type": "display_data",
          "data": {
            "text/plain": [
              "<Figure size 411.875x360 with 1 Axes>"
            ],
            "image/png": "[encoded data removed]"
          },
          "metadata": {
            "needs_background": "light"
          }
        }
      ]
    },
    {
      "cell_type": "markdown",
      "source": [
        "Dari hasil data diatas kita dapat melihat bahwa terbukti bahwa setiap *Passenger* yang membawa keluarga memiliki probabilitas tinggi untuk selamat. Hal ini membuktikan pernyataan kita sebelumnya."
      ],
      "metadata": {
        "id": "KBCHA8-j69Gn"
      }
    },
    {
      "cell_type": "markdown",
      "source": [
        "## Age"
      ],
      "metadata": {
        "id": "7HSDj5Jk_k9d"
      }
    },
    {
      "cell_type": "markdown",
      "source": [
        "Age Group Category\n",
        "\n",
        "1. 0-12 years old = age group 0\n",
        "2. 13-18 years old = age group 1\n",
        "3. 19-59 years old = age group 2\n",
        "4. \">59\" yeras old  = age group 3"
      ],
      "metadata": {
        "id": "H_dZTgmX_4qJ"
      }
    },
    {
      "cell_type": "code",
      "source": [
        "# Jumlah Passanger Berdasarkan Age\n",
        "Pclass1 = sns.countplot(data=dfTrain, x='Age', palette=\"Paired\") \n",
        "Pclass1.set_title(\"Jumlah Passanger Berdasarkan Age\")\n"
      ],
      "metadata": {
        "id": "7waPGg_k_vG2",
        "colab": {
          "base_uri": "https://localhost:8080/",
          "height": 313
        },
        "outputId": "bbce5026-4de4-40dd-f5c6-e3efef105789"
      },
      "execution_count": null,
      "outputs": [
        {
          "output_type": "execute_result",
          "data": {
            "text/plain": [
              "Text(0.5, 1.0, 'Jumlah Passanger Berdasarkan Age')"
            ]
          },
          "metadata": {},
          "execution_count": 38
        },
        {
          "output_type": "display_data",
          "data": {
            "text/plain": [
              "<Figure size 432x288 with 1 Axes>"
            ],
            "image/png": "[encoded data removed]"
          },
          "metadata": {
            "needs_background": "light"
          }
        }
      ]
    },
    {
      "cell_type": "code",
      "source": [
        "# Ratio Keselamatan Berdasarkan Age\n",
        "Pclass2 = sns.barplot(data=dfTrain, x='Age', y='Survived', ci=None, palette=\"mako\")\n",
        "for p, labels in zip(Pclass2.patches, dfTrain.groupby('Age')['Survived'].mean().round(decimals=3)):\n",
        "    Pclass2.annotate(labels, (p.get_x()+0.30, p.get_height()+0.01))\n",
        "Pclass2.set_title(\"Ratio Keselamatan Berdasarkan Age\")\n"
      ],
      "metadata": {
        "id": "rFj8HQ2P_yAJ",
        "colab": {
          "base_uri": "https://localhost:8080/",
          "height": 313
        },
        "outputId": "93bf14d9-9bd0-48ff-f6f3-decbdd464ace"
      },
      "execution_count": null,
      "outputs": [
        {
          "output_type": "execute_result",
          "data": {
            "text/plain": [
              "Text(0.5, 1.0, 'Ratio Keselamatan Berdasarkan Age')"
            ]
          },
          "metadata": {},
          "execution_count": 39
        },
        {
          "output_type": "display_data",
          "data": {
            "text/plain": [
              "<Figure size 432x288 with 1 Axes>"
            ],
            "image/png": "[encoded data removed]"
          },
          "metadata": {
            "needs_background": "light"
          }
        }
      ]
    },
    {
      "cell_type": "code",
      "source": [
        "# Detail Informasi keselamatan berdasarkan Age\n",
        "g = sns.catplot(\n",
        "    x= \"Age\",\n",
        "    hue= \"Survived\",\n",
        "    data=dfTrain,\n",
        "    kind=\"count\" \n",
        ")\n",
        "plt.xlabel('Age')\n",
        "plt.ylabel('Jumlah Passanger')\n",
        "plt.title('Detail Informasi keselamatan berdasarkan Age')\n",
        "plt.show()"
      ],
      "metadata": {
        "id": "Au0OJ5zE_2Ia",
        "colab": {
          "base_uri": "https://localhost:8080/",
          "height": 385
        },
        "outputId": "3c6e01d0-fed9-47f3-f455-d6b04c0f1e72"
      },
      "execution_count": null,
      "outputs": [
        {
          "output_type": "display_data",
          "data": {
            "text/plain": [
              "<Figure size 411.875x360 with 1 Axes>"
            ],
            "image/png": "[encoded data removed]"
          },
          "metadata": {
            "needs_background": "light"
          }
        }
      ]
    },
    {
      "cell_type": "markdown",
      "source": [
        "Dari data diatas kita dapat melihat bahwa *Passegner* yang berada di age Group 0 (0-12 yo) memiliki kemungkinan selamat lebih **tinggi** dibanding age group lainnya.\n"
      ],
      "metadata": {
        "id": "W99n1qGWAGb4"
      }
    },
    {
      "cell_type": "markdown",
      "source": [
        "## Embarked"
      ],
      "metadata": {
        "id": "5Cov7z-oAVJ7"
      }
    },
    {
      "cell_type": "markdown",
      "source": [
        "Informasti terkait Embarked\n",
        "\n",
        "S = Southampton, U.K\n",
        "\n",
        "C = Cherbourg, France\n",
        "\n",
        "Q = Queesntown, Ireland"
      ],
      "metadata": {
        "id": "A3yevedIAX58"
      }
    },
    {
      "cell_type": "code",
      "source": [
        "# Jumlah Passanger Berdasarkan Embarked\n",
        "Embarked1 = sns.countplot(data=train, x='Embarked', palette=\"Paired\") \n",
        "Embarked1.set_title(\"Jumlah Passanger Berdasarkan Embarked\")"
      ],
      "metadata": {
        "id": "XYqjknGuCitw",
        "colab": {
          "base_uri": "https://localhost:8080/",
          "height": 313
        },
        "outputId": "ce713777-13aa-473a-e2fa-fec06edf1cca"
      },
      "execution_count": null,
      "outputs": [
        {
          "output_type": "execute_result",
          "data": {
            "text/plain": [
              "Text(0.5, 1.0, 'Jumlah Passanger Berdasarkan Embarked')"
            ]
          },
          "metadata": {},
          "execution_count": 41
        },
        {
          "output_type": "display_data",
          "data": {
            "text/plain": [
              "<Figure size 432x288 with 1 Axes>"
            ],
            "image/png": "[encoded data removed]"
          },
          "metadata": {
            "needs_background": "light"
          }
        }
      ]
    },
    {
      "cell_type": "code",
      "source": [
        "# Ratio Keselamatan Berdasarkan Embarked\n",
        "Embarked2 = sns.barplot(data=train, x='Embarked', y='Survived', ci=None, palette=\"mako\")\n",
        "\n",
        "anot = Embarked2.patches\n",
        "labeling = train.groupby('Embarked')['Survived'].mean().round(decimals=3)\n",
        "Embarked2.annotate(labeling[2],(anot[0].get_x()+0.30, anot[0].get_height()+0.01))\n",
        "Embarked2.annotate(labeling[0],(anot[1].get_x()+0.30, anot[1].get_height()+0.01))\n",
        "Embarked2.annotate(labeling[1],(anot[2].get_x()+0.30, anot[2].get_height()+0.01))\n",
        "\n",
        "Embarked2.set_title(\"Ratio Keselamatan Berdasarkan Embarked\")"
      ],
      "metadata": {
        "id": "QkZx3Z_GCmOw",
        "colab": {
          "base_uri": "https://localhost:8080/",
          "height": 313
        },
        "outputId": "74c54500-1f2f-4d98-c712-e8c12799a8da"
      },
      "execution_count": null,
      "outputs": [
        {
          "output_type": "execute_result",
          "data": {
            "text/plain": [
              "Text(0.5, 1.0, 'Ratio Keselamatan Berdasarkan Embarked')"
            ]
          },
          "metadata": {},
          "execution_count": 42
        },
        {
          "output_type": "display_data",
          "data": {
            "text/plain": [
              "<Figure size 432x288 with 1 Axes>"
            ],
            "image/png": "[encoded data removed]"
          },
          "metadata": {
            "needs_background": "light"
          }
        }
      ]
    },
    {
      "cell_type": "code",
      "source": [
        "# Detail Informasi keselamatan berdasarkan Embarked\n",
        "g = sns.catplot(\n",
        "    x= \"Embarked\",\n",
        "    hue= \"Survived\",\n",
        "    data=train,\n",
        "    kind=\"count\" \n",
        ")\n",
        "plt.xlabel('Embarked')\n",
        "plt.ylabel('Jumlah Passanger')\n",
        "plt.title('Detail Informasi keselamatan berdasarkan Embarked')\n",
        "plt.show()"
      ],
      "metadata": {
        "id": "T61OZvnhCqlA",
        "colab": {
          "base_uri": "https://localhost:8080/",
          "height": 385
        },
        "outputId": "d8822f93-8d69-44a2-9a6b-234eeb37c93b"
      },
      "execution_count": null,
      "outputs": [
        {
          "output_type": "display_data",
          "data": {
            "text/plain": [
              "<Figure size 411.875x360 with 1 Axes>"
            ],
            "image/png": "[encoded data removed]"
          },
          "metadata": {
            "needs_background": "light"
          }
        }
      ]
    },
    {
      "cell_type": "markdown",
      "source": [
        "Dari data ditas kita dapat menyimpulkan bahwa *Passanger* yang pergi dari Cherbough,France memiliki kemungkinan selamat lebih tinggi."
      ],
      "metadata": {
        "id": "35H1txhNC1iR"
      }
    },
    {
      "cell_type": "code",
      "source": [
        "ax = plt.subplots(figsize=(10,8))\n",
        "sns.heatmap(dfTrain.corr(), annot= True, annot_kws={'fontsize':12})"
      ],
      "metadata": {
        "id": "q6qmaGec6eO4",
        "colab": {
          "base_uri": "https://localhost:8080/",
          "height": 547
        },
        "outputId": "96e7119d-eab9-4642-e550-9c32f126dbf2"
      },
      "execution_count": null,
      "outputs": [
        {
          "output_type": "execute_result",
          "data": {
            "text/plain": [
              "<matplotlib.axes._subplots.AxesSubplot at 0x7f245356ffd0>"
            ]
          },
          "metadata": {},
          "execution_count": 44
        },
        {
          "output_type": "display_data",
          "data": {
            "text/plain": [
              "<Figure size 720x576 with 2 Axes>"
            ],
            "image/png": "[encoded data removed]"
          },
          "metadata": {
            "needs_background": "light"
          }
        }
      ]
    },
    {
      "cell_type": "markdown",
      "source": [
        "# Deep analysis for Embarked"
      ],
      "metadata": {
        "id": "-Mv19l0XECYg"
      }
    },
    {
      "cell_type": "markdown",
      "source": [
        "Pada kasus ini setelah kita tahu bahwa penumpang yang tidak sendiri dan membawa keluarga memiliki probabilitas selamat tinggi maka kami ingin melakukan analisa mendalam terkait:\n",
        "1. Berapa banyk jumlah penumpang dengan family size lebih dari 1 dan sendiri\n",
        "2. Berapa banyak jumlah penumpang dengan umur < 13\n",
        "3. Berapa banyak jumlah penumpang wanita \n",
        "4. Berapa jumalh penumpang sesuai PClass"
      ],
      "metadata": {
        "id": "rmwk2c3REHSS"
      }
    },
    {
      "cell_type": "markdown",
      "source": [
        "#### Jumlah Family Size berdasarkan Embarked"
      ],
      "metadata": {
        "id": "hPDzyspFGNzP"
      }
    },
    {
      "cell_type": "markdown",
      "source": [
        "Embarked Legend\n",
        "1. S = 2\n",
        "2. Q = 1\n",
        "3. C = 0"
      ],
      "metadata": {
        "id": "LgFQRWFmVEuw"
      }
    },
    {
      "cell_type": "code",
      "source": [
        "#Jumlah penumpang sesuai Family Size\n",
        "FamSizeE = dfTrain[dfTrain['Embarked']==0]"
      ],
      "metadata": {
        "id": "GyxBfpbWEFzs"
      },
      "execution_count": null,
      "outputs": []
    },
    {
      "cell_type": "code",
      "source": [
        "#FamSizeE.head()\n",
        "#FamSizeE.describe()\n",
        "FamSizeE.info()\n",
        "#FamSizeE.loc[:,'FamilySize']"
      ],
      "metadata": {
        "id": "2DeEivu5anJx",
        "colab": {
          "base_uri": "https://localhost:8080/"
        },
        "outputId": "bad716ac-8656-4f69-e9d9-f56322799737"
      },
      "execution_count": null,
      "outputs": [
        {
          "output_type": "stream",
          "name": "stdout",
          "text": [
            "<class 'pandas.core.frame.DataFrame'>\n",
            "Int64Index: 168 entries, 1 to 889\n",
            "Data columns (total 9 columns):\n",
            " #   Column      Non-Null Count  Dtype  \n",
            "---  ------      --------------  -----  \n",
            " 0   Survived    168 non-null    int64  \n",
            " 1   Pclass      168 non-null    int64  \n",
            " 2   Sex         168 non-null    int64  \n",
            " 3   Age         168 non-null    float64\n",
            " 4   SibSp       168 non-null    int64  \n",
            " 5   Parch       168 non-null    int64  \n",
            " 6   Embarked    168 non-null    int64  \n",
            " 7   FamilySize  168 non-null    int64  \n",
            " 8   IsAlone     168 non-null    int64  \n",
            "dtypes: float64(1), int64(8)\n",
            "memory usage: 13.1 KB\n"
          ]
        }
      ]
    },
    {
      "cell_type": "code",
      "source": [
        "fig = plt.figure(figsize=(20,5))\n",
        "spec = gridspec.GridSpec(ncols=10, nrows=1)\n",
        "\n",
        "#Jumlah Berdasarkan Family Size\n",
        "figure1 = fig.add_subplot(spec[0])\n",
        "barchart1 = sns.countplot(data=FamSizeE, x='FamilySize', palette=\"Paired\") \n",
        "\n",
        "barchart1.set_title(\"Jumlah Passanger Berdasarkan FamilySize\",fontsize=10)\n",
        "figure1.plot()\n",
        "#Jumlah Berdasarkan Age\n",
        "figure2 = fig.add_subplot(spec[2])\n",
        "barchart2 = sns.countplot(data=FamSizeE, x='Age', palette=\"Paired\") \n",
        "\n",
        "barchart2.set_title(\"Jumlah Passanger Berdasarkan Age\",fontsize=10)\n",
        "figure2.plot()\n",
        "# Jumlah berdasarkan Sex (female)\n",
        "figure3 = fig.add_subplot(spec[4])\n",
        "barchart3 = sns.countplot(data=FamSizeE, x='Sex', palette=\"Paired\") \n",
        "\n",
        "barchart3.set_title(\"Jumlah Passanger Berdasarkan Female\",fontsize=10)\n",
        "figure3.plot()\n",
        "# Jumlah berdasarkan PClass\n",
        "figure4 = fig.add_subplot(spec[6])\n",
        "barchart4 = sns.countplot(data=FamSizeE, x='Pclass', palette=\"Paired\") \n",
        "\n",
        "barchart4.set_title(\"Jumlah Passanger Berdasarkan PClass\",fontsize=10)\n",
        "figure4.plot()"
      ],
      "metadata": {
        "id": "HN9zcnRIXV09",
        "colab": {
          "base_uri": "https://localhost:8080/",
          "height": 366
        },
        "outputId": "eaee0337-f8f1-4495-e1b7-2b8a514bf50f"
      },
      "execution_count": null,
      "outputs": [
        {
          "output_type": "execute_result",
          "data": {
            "text/plain": [
              "[]"
            ]
          },
          "metadata": {},
          "execution_count": 47
        },
        {
          "output_type": "display_data",
          "data": {
            "text/plain": [
              "<Figure size 1440x360 with 4 Axes>"
            ],
            "image/png": "[encoded data removed]"
          },
          "metadata": {
            "needs_background": "light"
          }
        }
      ]
    },
    {
      "cell_type": "code",
      "source": [
        "FamSizeQ = dfTrain[dfTrain['Embarked']==1].reset_index()"
      ],
      "metadata": {
        "id": "gkpqu6ohTr4f"
      },
      "execution_count": null,
      "outputs": []
    },
    {
      "cell_type": "code",
      "source": [
        "fig = plt.figure(figsize=(20,5))\n",
        "spec = gridspec.GridSpec(ncols=10, nrows=1)\n",
        "\n",
        "#Jumlah Berdasarkan Family Size\n",
        "figure1 = fig.add_subplot(spec[0])\n",
        "barchart1 = sns.countplot(data=FamSizeQ, x='FamilySize', palette=\"Paired\") \n",
        "\n",
        "barchart1.set_title(\"Jumlah Passanger Berdasarkan FamilySize\",fontsize=10)\n",
        "figure1.plot()\n",
        "#Jumlah Berdasarkan Age\n",
        "figure2 = fig.add_subplot(spec[2])\n",
        "barchart2 = sns.countplot(data=FamSizeQ, x='Age', palette=\"Paired\") \n",
        "\n",
        "barchart2.set_title(\"Jumlah Passanger Berdasarkan Age\",fontsize=10)\n",
        "figure2.plot()\n",
        "# Jumlah berdasarkan Sex (female)\n",
        "figure3 = fig.add_subplot(spec[4])\n",
        "barchart3 = sns.countplot(data=FamSizeQ, x='Sex', palette=\"Paired\") \n",
        "\n",
        "barchart3.set_title(\"Jumlah Passanger Berdasarkan Female\",fontsize=10)\n",
        "figure3.plot()\n",
        "# Jumlah berdasarkan PClass\n",
        "figure4 = fig.add_subplot(spec[6])\n",
        "barchart4 = sns.countplot(data=FamSizeQ, x='Pclass', palette=\"Paired\") \n",
        "\n",
        "barchart4.set_title(\"Jumlah Passanger Berdasarkan PClass\",fontsize=10)\n",
        "figure4.plot()"
      ],
      "metadata": {
        "id": "mZ_vF0AbWgJK",
        "colab": {
          "base_uri": "https://localhost:8080/",
          "height": 366
        },
        "outputId": "c31962cd-88b3-412a-a084-5375cfd8bfea"
      },
      "execution_count": null,
      "outputs": [
        {
          "output_type": "execute_result",
          "data": {
            "text/plain": [
              "[]"
            ]
          },
          "metadata": {},
          "execution_count": 49
        },
        {
          "output_type": "display_data",
          "data": {
            "text/plain": [
              "<Figure size 1440x360 with 4 Axes>"
            ],
            "image/png": "[encoded data removed]"
          },
          "metadata": {
            "needs_background": "light"
          }
        }
      ]
    },
    {
      "cell_type": "code",
      "source": [
        "FamSizeS = dfTrain[dfTrain['Embarked']==2].reset_index()"
      ],
      "metadata": {
        "id": "ErK-wRTcWr8B"
      },
      "execution_count": null,
      "outputs": []
    },
    {
      "cell_type": "code",
      "source": [
        "fig = plt.figure(figsize=(20,5))\n",
        "spec = gridspec.GridSpec(ncols=10, nrows=1)\n",
        "\n",
        "\n",
        "#Jumlah Berdasarkan Family Size\n",
        "figure1 = fig.add_subplot(spec[0])\n",
        "barchart1 = sns.countplot(data=FamSizeS, x='FamilySize', palette=\"Paired\") \n",
        "\n",
        "barchart1.set_title(\"Jumlah Passanger Berdasarkan FamilySize\",fontsize=10)\n",
        "figure1.plot()\n",
        "#Jumlah Berdasarkan Age\n",
        "figure2 = fig.add_subplot(spec[2])\n",
        "barchart2 = sns.countplot(data=FamSizeS, x='Age', palette=\"Paired\") \n",
        "\n",
        "barchart2.set_title(\"Jumlah Passanger Berdasarkan Age\",fontsize=10)\n",
        "figure2.plot()\n",
        "# Jumlah berdasarkan Sex (female)\n",
        "figure3 = fig.add_subplot(spec[4])\n",
        "barchart3 = sns.countplot(data=FamSizeS, x='Sex', palette=\"Paired\") \n",
        "\n",
        "barchart3.set_title(\"Jumlah Passanger Berdasarkan Female\",fontsize=10)\n",
        "figure3.plot()\n",
        "# Jumlah berdasarkan PClass\n",
        "figure4 = fig.add_subplot(spec[6])\n",
        "barchart4 = sns.countplot(data=FamSizeS, x='Pclass', palette=\"Paired\") \n",
        "\n",
        "barchart4.set_title(\"Jumlah Passanger Berdasarkan PClass\",fontsize=10)\n",
        "figure4.plot()"
      ],
      "metadata": {
        "id": "rCm8KuE_Wvgf",
        "colab": {
          "base_uri": "https://localhost:8080/",
          "height": 366
        },
        "outputId": "5c1e1a35-2f0f-4907-c57f-33dfb9c36733"
      },
      "execution_count": null,
      "outputs": [
        {
          "output_type": "execute_result",
          "data": {
            "text/plain": [
              "[]"
            ]
          },
          "metadata": {},
          "execution_count": 51
        },
        {
          "output_type": "display_data",
          "data": {
            "text/plain": [
              "<Figure size 1440x360 with 4 Axes>"
            ],
            "image/png": "[encoded data removed]"
          },
          "metadata": {
            "needs_background": "light"
          }
        }
      ]
    },
    {
      "cell_type": "markdown",
      "source": [
        "#### Result"
      ],
      "metadata": {
        "id": "sHv8nKHaW67q"
      }
    },
    {
      "cell_type": "markdown",
      "source": [
        "Dari hasil analisa diatas kitas dapat menyimpulkan beberapa hal:\n",
        "1. Faktor Sex dan Class merupakan faktor paling dominan pada kasus Embark C yang memberikan hasil survival rate tertinggi dibanding Embarked category lainnya.\n",
        "2. Faktor Family size Age dan Pclass merupakan faktor dominan yang mengakibatkan angka survival rate Embarked Q paling rendah\n",
        "3. Faktor Family Size, age, dan Class meruapakan faktor dominan yang mengakibatkan angka survival rate Embarked S paling rendah\n",
        "\n",
        "Dari hal ini kita juga mengetahui bahwa faktor keselamatan embarked C didasari oleh.\n",
        "1. Tidak didasari faktor Family Size\n",
        "2. Tidak didasari oleh Umur\n",
        "3. Memiliki jumlah jumlah Female lebih dominan dibanding Male\n",
        "4. Memiliki jumlah penumpang kelas 1 yang lebih dominan dibanding Pclass lainnya"
      ],
      "metadata": {
        "id": "JHOWmm5FXCt-"
      }
    },
    {
      "cell_type": "markdown",
      "source": [
        "# Deep analysis for Sex"
      ],
      "metadata": {
        "id": "kJIqFb77xFBg"
      }
    },
    {
      "cell_type": "markdown",
      "source": [
        "Pada kasus ini kita ingin mengetahui lebih lanjut terkait hubungan Sex denga analisa mendalam terkait\n",
        "1. Berapa banyak jumlah penumpang *Female* yang family size 2-4 \n",
        "2. Berapa banyak jumlah penumpang *Female* yang dengan umur < 12\n",
        "3. Berapa banyak jumlah penumpang *Female* ssesuai dengan jumlah kelas"
      ],
      "metadata": {
        "id": "AQFtSRGCxRGE"
      }
    },
    {
      "cell_type": "markdown",
      "source": [
        "1. Female = 0 "
      ],
      "metadata": {
        "id": "OIfiBXiQyXQn"
      }
    },
    {
      "cell_type": "code",
      "source": [
        "#Jumlah penumpang sesuai Sex\n",
        "SexF= dfTrain[dfTrain['Sex']==0]"
      ],
      "metadata": {
        "id": "EK-FmrVrxUf8"
      },
      "execution_count": null,
      "outputs": []
    },
    {
      "cell_type": "code",
      "source": [
        "fig = plt.figure(figsize=(20,5))\n",
        "spec = gridspec.GridSpec(ncols=10, nrows=1)\n",
        "\n",
        "#Jumlah Berdasarkan Family Size\n",
        "figure1 = fig.add_subplot(spec[0])\n",
        "Pclass1 = sns.countplot(data=SexF, x='FamilySize', palette=\"Paired\") \n",
        "\n",
        "Pclass1.set_title(\"Jumlah Female Berdasarkan FamilySize\",fontsize=10)\n",
        "figure1.plot()\n",
        "#Jumlah Berdasarkan Age\n",
        "figure2 = fig.add_subplot(spec[2])\n",
        "Pclass2 = sns.countplot(data=SexF, x='Age', palette=\"Paired\") \n",
        "\n",
        "Pclass2.set_title(\"Jumlah Female Berdasarkan Age\",fontsize=10)\n",
        "figure2.plot()\n",
        "# Jumlah berdasarkan PClass\n",
        "figure4 = fig.add_subplot(spec[4])\n",
        "Pclass4 = sns.countplot(data=SexF, x='Pclass', palette=\"Paired\") \n",
        "\n",
        "Pclass4.set_title(\"Jumlah Female Berdasarkan PClass\",fontsize=10)\n",
        "figure4.plot()\n",
        "\n",
        "# Jumlah berdasarkan Embarked\n",
        "figure5 = fig.add_subplot(spec[6])\n",
        "Pclass5 = sns.countplot(data=SexF, x='Embarked', palette=\"Paired\") \n",
        "\n",
        "Pclass5.set_title(\"Jumlah Female Berdasarkan Embarked\",fontsize=10)\n",
        "figure4.plot()"
      ],
      "metadata": {
        "id": "GxgwQ9Juy7cM",
        "colab": {
          "base_uri": "https://localhost:8080/",
          "height": 366
        },
        "outputId": "cd4f0011-ffce-41ec-e499-9e154757a80a"
      },
      "execution_count": null,
      "outputs": [
        {
          "output_type": "execute_result",
          "data": {
            "text/plain": [
              "[]"
            ]
          },
          "metadata": {},
          "execution_count": 53
        },
        {
          "output_type": "display_data",
          "data": {
            "text/plain": [
              "<Figure size 1440x360 with 4 Axes>"
            ],
            "image/png": "[encoded data removed]"
          },
          "metadata": {
            "needs_background": "light"
          }
        }
      ]
    },
    {
      "cell_type": "code",
      "source": [
        "#Jumlah penumpang sesuai Sex\n",
        "SexF= dfTrain[dfTrain['Sex']==1]"
      ],
      "metadata": {
        "id": "70ffet9RNZ2A"
      },
      "execution_count": null,
      "outputs": []
    },
    {
      "cell_type": "code",
      "source": [
        "fig = plt.figure(figsize=(20,5))\n",
        "spec = gridspec.GridSpec(ncols=10, nrows=1)\n",
        "\n",
        "#Jumlah Berdasarkan Family Size\n",
        "figure1 = fig.add_subplot(spec[0])\n",
        "Pclass1 = sns.countplot(data=SexF, x='FamilySize', palette=\"Paired\") \n",
        "\n",
        "Pclass1.set_title(\"Jumlah Female Berdasarkan FamilySize\",fontsize=10)\n",
        "figure1.plot()\n",
        "#Jumlah Berdasarkan Age\n",
        "figure2 = fig.add_subplot(spec[2])\n",
        "Pclass2 = sns.countplot(data=SexF, x='Age', palette=\"Paired\") \n",
        "\n",
        "Pclass2.set_title(\"Jumlah Female Berdasarkan Age\",fontsize=10)\n",
        "figure2.plot()\n",
        "# Jumlah berdasarkan PClass\n",
        "figure4 = fig.add_subplot(spec[4])\n",
        "Pclass4 = sns.countplot(data=SexF, x='Pclass', palette=\"Paired\") \n",
        "\n",
        "Pclass4.set_title(\"Jumlah Female Berdasarkan PClass\",fontsize=10)\n",
        "figure4.plot()\n",
        "\n",
        "# Jumlah berdasarkan Embarked\n",
        "figure5 = fig.add_subplot(spec[6])\n",
        "Pclass5 = sns.countplot(data=SexF, x='Embarked', palette=\"Paired\") \n",
        "\n",
        "Pclass5.set_title(\"Jumlah Female Berdasarkan Embarked\",fontsize=10)\n",
        "figure4.plot()"
      ],
      "metadata": {
        "id": "P6Mc630JNYv1",
        "colab": {
          "base_uri": "https://localhost:8080/",
          "height": 366
        },
        "outputId": "f245ba40-34c4-46c2-b8e3-393338e9f16b"
      },
      "execution_count": null,
      "outputs": [
        {
          "output_type": "execute_result",
          "data": {
            "text/plain": [
              "[]"
            ]
          },
          "metadata": {},
          "execution_count": 55
        },
        {
          "output_type": "display_data",
          "data": {
            "text/plain": [
              "<Figure size 1440x360 with 4 Axes>"
            ],
            "image/png": "[encoded data removed]"
          },
          "metadata": {
            "needs_background": "light"
          }
        }
      ]
    },
    {
      "cell_type": "markdown",
      "source": [
        "Dari hasil data diatas kita tidak dapat menemukan mengapa penumpang perempuan memiliki survivalbility rate lebih tinggi dibanging laki-laki. Akhirnya kami memutuskan untuk research mendalam terkait SOP Keselamatan Jika Terjadi Bencana. \n",
        "\n",
        "\n",
        "Diketahui bahwa *Birkenhead drill* merupakan prosedur keselamatan yang terkenal di tahun 1852. Pada tahun 1920 ketika terjadi peristiwa Titanic prosedur ini dilakukan oleh awak kapal sehingga mengakibatkan perempuan dan anak-anak memiliki survivalbility rate yang sangat tinggi. \n",
        "\n",
        "source: https://www.mentalfloss.com/posts/women-and-children-first-origins-titanic\n",
        "\n",
        "Walau memiliki korelasi yang kuat yang dapat kita lihat pada heatmap. Namun variabel sex ini berdiri sendiri tanpa terikat dengan variabel yang lain."
      ],
      "metadata": {
        "id": "NW2IqRSl1a4-"
      }
    },
    {
      "cell_type": "code",
      "source": [
        "ax = plt.subplots(figsize=(10,8))\n",
        "sns.heatmap(dfTrain.corr(), annot= True, annot_kws={'fontsize':12})"
      ],
      "metadata": {
        "id": "b05KUePohZ6W",
        "colab": {
          "base_uri": "https://localhost:8080/",
          "height": 547
        },
        "outputId": "8cee9b19-a403-4305-aa19-588894522ade"
      },
      "execution_count": null,
      "outputs": [
        {
          "output_type": "execute_result",
          "data": {
            "text/plain": [
              "<matplotlib.axes._subplots.AxesSubplot at 0x7f2451bb8a90>"
            ]
          },
          "metadata": {},
          "execution_count": 56
        },
        {
          "output_type": "display_data",
          "data": {
            "text/plain": [
              "<Figure size 720x576 with 2 Axes>"
            ],
            "image/png": "[encoded data removed]"
          },
          "metadata": {
            "needs_background": "light"
          }
        }
      ]
    },
    {
      "cell_type": "markdown",
      "source": [
        "# Basic Anlysis Result\n"
      ],
      "metadata": {
        "id": "3n6oBDIrujbD"
      }
    },
    {
      "cell_type": "markdown",
      "source": [
        "Dari hasil analisa kami diatas kami melihat ada berbagai macam faktor yang mempengaruhi secara langsung terkait survivalbility rate penumpang titanic antara lain.\n",
        "\n",
        "1. Penumpang *Female* memiliki potensi keselamatan 74% dibanding penumpang *male* \n",
        "2. Penumpang dengan *Pclass* 1 memiliki potensi keselamatan 60% \n",
        "3. Penumpang dengan *family size 2-4* memiliki potensi keselamatan lebih tinggi dibanding yang lain dengan \n",
        "4. Penumpang yang berumur dibawah 12 tahun memiliki potensi keselamatn 58%\n",
        "5. Penumpang yang berasal dari France memiliki potensi keselamatan tertinggi karena didsari\n",
        "    \n",
        "*   Didominasi penumpang *Female*\n",
        "*   Didominasi penumpang  dengan *Pclass 1*\n",
        "\n"
      ],
      "metadata": {
        "id": "ZlU3jJfWuldB"
      }
    },
    {
      "cell_type": "markdown",
      "source": [
        "# Feature Engineering (Data Correlation)"
      ],
      "metadata": {
        "id": "O2ipAkKpZj0p"
      }
    },
    {
      "cell_type": "code",
      "source": [
        "dfTrain"
      ],
      "metadata": {
        "id": "fqlwvVesZuZp",
        "colab": {
          "base_uri": "https://localhost:8080/",
          "height": 424
        },
        "outputId": "3783fe11-2b76-494e-c02c-27cb89196e8d"
      },
      "execution_count": null,
      "outputs": [
        {
          "output_type": "execute_result",
          "data": {
            "text/plain": [
              "     Survived  Pclass  Sex  Age  SibSp  Parch  Embarked  FamilySize  IsAlone\n",
              "0           0       3    1  2.0      1      0         2           2        0\n",
              "1           1       1    0  2.0      1      0         0           2        0\n",
              "2           1       3    0  2.0      0      0         2           1        1\n",
              "3           1       1    0  2.0      1      0         2           2        0\n",
              "4           0       3    1  2.0      0      0         2           1        1\n",
              "..        ...     ...  ...  ...    ...    ...       ...         ...      ...\n",
              "886         0       2    1  2.0      0      0         2           1        1\n",
              "887         1       1    0  2.0      0      0         2           1        1\n",
              "888         0       3    0  2.0      1      2         2           4        0\n",
              "889         1       1    1  2.0      0      0         0           1        1\n",
              "890         0       3    1  2.0      0      0         1           1        1\n",
              "\n",
              "[891 rows x 9 columns]"
            ],
            "text/html": [
              "\n",
              "  <div id=\"df-8cbff7c9-952b-44b9-8296-a953728ef539\">\n",
              "    <div class=\"colab-df-container\">\n",
              "      <div>\n",
              "<style scoped>\n",
              "    .dataframe tbody tr th:only-of-type {\n",
              "        vertical-align: middle;\n",
              "    }\n",
              "\n",
              "    .dataframe tbody tr th {\n",
              "        vertical-align: top;\n",
              "    }\n",
              "\n",
              "    .dataframe thead th {\n",
              "        text-align: right;\n",
              "    }\n",
              "</style>\n",
              "<table border=\"1\" class=\"dataframe\">\n",
              "  <thead>\n",
              "    <tr style=\"text-align: right;\">\n",
              "      <th></th>\n",
              "      <th>Survived</th>\n",
              "      <th>Pclass</th>\n",
              "      <th>Sex</th>\n",
              "      <th>Age</th>\n",
              "      <th>SibSp</th>\n",
              "      <th>Parch</th>\n",
              "      <th>Embarked</th>\n",
              "      <th>FamilySize</th>\n",
              "      <th>IsAlone</th>\n",
              "    </tr>\n",
              "  </thead>\n",
              "  <tbody>\n",
              "    <tr>\n",
              "      <th>0</th>\n",
              "      <td>0</td>\n",
              "      <td>3</td>\n",
              "      <td>1</td>\n",
              "      <td>2.0</td>\n",
              "      <td>1</td>\n",
              "      <td>0</td>\n",
              "      <td>2</td>\n",
              "      <td>2</td>\n",
              "      <td>0</td>\n",
              "    </tr>\n",
              "    <tr>\n",
              "      <th>1</th>\n",
              "      <td>1</td>\n",
              "      <td>1</td>\n",
              "      <td>0</td>\n",
              "      <td>2.0</td>\n",
              "      <td>1</td>\n",
              "      <td>0</td>\n",
              "      <td>0</td>\n",
              "      <td>2</td>\n",
              "      <td>0</td>\n",
              "    </tr>\n",
              "    <tr>\n",
              "      <th>2</th>\n",
              "      <td>1</td>\n",
              "      <td>3</td>\n",
              "      <td>0</td>\n",
              "      <td>2.0</td>\n",
              "      <td>0</td>\n",
              "      <td>0</td>\n",
              "      <td>2</td>\n",
              "      <td>1</td>\n",
              "      <td>1</td>\n",
              "    </tr>\n",
              "    <tr>\n",
              "      <th>3</th>\n",
              "      <td>1</td>\n",
              "      <td>1</td>\n",
              "      <td>0</td>\n",
              "      <td>2.0</td>\n",
              "      <td>1</td>\n",
              "      <td>0</td>\n",
              "      <td>2</td>\n",
              "      <td>2</td>\n",
              "      <td>0</td>\n",
              "    </tr>\n",
              "    <tr>\n",
              "      <th>4</th>\n",
              "      <td>0</td>\n",
              "      <td>3</td>\n",
              "      <td>1</td>\n",
              "      <td>2.0</td>\n",
              "      <td>0</td>\n",
              "      <td>0</td>\n",
              "      <td>2</td>\n",
              "      <td>1</td>\n",
              "      <td>1</td>\n",
              "    </tr>\n",
              "    <tr>\n",
              "      <th>...</th>\n",
              "      <td>...</td>\n",
              "      <td>...</td>\n",
              "      <td>...</td>\n",
              "      <td>...</td>\n",
              "      <td>...</td>\n",
              "      <td>...</td>\n",
              "      <td>...</td>\n",
              "      <td>...</td>\n",
              "      <td>...</td>\n",
              "    </tr>\n",
              "    <tr>\n",
              "      <th>886</th>\n",
              "      <td>0</td>\n",
              "      <td>2</td>\n",
              "      <td>1</td>\n",
              "      <td>2.0</td>\n",
              "      <td>0</td>\n",
              "      <td>0</td>\n",
              "      <td>2</td>\n",
              "      <td>1</td>\n",
              "      <td>1</td>\n",
              "    </tr>\n",
              "    <tr>\n",
              "      <th>887</th>\n",
              "      <td>1</td>\n",
              "      <td>1</td>\n",
              "      <td>0</td>\n",
              "      <td>2.0</td>\n",
              "      <td>0</td>\n",
              "      <td>0</td>\n",
              "      <td>2</td>\n",
              "      <td>1</td>\n",
              "      <td>1</td>\n",
              "    </tr>\n",
              "    <tr>\n",
              "      <th>888</th>\n",
              "      <td>0</td>\n",
              "      <td>3</td>\n",
              "      <td>0</td>\n",
              "      <td>2.0</td>\n",
              "      <td>1</td>\n",
              "      <td>2</td>\n",
              "      <td>2</td>\n",
              "      <td>4</td>\n",
              "      <td>0</td>\n",
              "    </tr>\n",
              "    <tr>\n",
              "      <th>889</th>\n",
              "      <td>1</td>\n",
              "      <td>1</td>\n",
              "      <td>1</td>\n",
              "      <td>2.0</td>\n",
              "      <td>0</td>\n",
              "      <td>0</td>\n",
              "      <td>0</td>\n",
              "      <td>1</td>\n",
              "      <td>1</td>\n",
              "    </tr>\n",
              "    <tr>\n",
              "      <th>890</th>\n",
              "      <td>0</td>\n",
              "      <td>3</td>\n",
              "      <td>1</td>\n",
              "      <td>2.0</td>\n",
              "      <td>0</td>\n",
              "      <td>0</td>\n",
              "      <td>1</td>\n",
              "      <td>1</td>\n",
              "      <td>1</td>\n",
              "    </tr>\n",
              "  </tbody>\n",
              "</table>\n",
              "<p>891 rows × 9 columns</p>\n",
              "</div>\n",
              "      <button class=\"colab-df-convert\" onclick=\"convertToInteractive('df-8cbff7c9-952b-44b9-8296-a953728ef539')\"\n",
              "              title=\"Convert this dataframe to an interactive table.\"\n",
              "              style=\"display:none;\">\n",
              "        \n",
              "  <svg xmlns=\"http://www.w3.org/2000/svg\" height=\"24px\"viewBox=\"0 0 24 24\"\n",
              "       width=\"24px\">\n",
              "    <path d=\"M0 0h24v24H0V0z\" fill=\"none\"/>\n",
              "    <path d=\"M18.56 5.44l.94 2.06.94-2.06 2.06-.94-2.06-.94-.94-2.06-.94 2.06-2.06.94zm-11 1L8.5 8.5l.94-2.06 2.06-.94-2.06-.94L8.5 2.5l-.94 2.06-2.06.94zm10 10l.94 2.06.94-2.06 2.06-.94-2.06-.94-.94-2.06-.94 2.06-2.06.94z\"/><path d=\"M17.41 7.96l-1.37-1.37c-.4-.4-.92-.59-1.43-.59-.52 0-1.04.2-1.43.59L10.3 9.45l-7.72 7.72c-.78.78-.78 2.05 0 2.83L4 21.41c.39.39.9.59 1.41.59.51 0 1.02-.2 1.41-.59l7.78-7.78 2.81-2.81c.8-.78.8-2.07 0-2.86zM5.41 20L4 18.59l7.72-7.72 1.47 1.35L5.41 20z\"/>\n",
              "  </svg>\n",
              "      </button>\n",
              "      \n",
              "  <style>\n",
              "    .colab-df-container {\n",
              "      display:flex;\n",
              "      flex-wrap:wrap;\n",
              "      gap: 12px;\n",
              "    }\n",
              "\n",
              "    .colab-df-convert {\n",
              "      background-color: #E8F0FE;\n",
              "      border: none;\n",
              "      border-radius: 50%;\n",
              "      cursor: pointer;\n",
              "      display: none;\n",
              "      fill: #1967D2;\n",
              "      height: 32px;\n",
              "      padding: 0 0 0 0;\n",
              "      width: 32px;\n",
              "    }\n",
              "\n",
              "    .colab-df-convert:hover {\n",
              "      background-color: #E2EBFA;\n",
              "      box-shadow: 0px 1px 2px rgba(60, 64, 67, 0.3), 0px 1px 3px 1px rgba(60, 64, 67, 0.15);\n",
              "      fill: #174EA6;\n",
              "    }\n",
              "\n",
              "    [theme=dark] .colab-df-convert {\n",
              "      background-color: #3B4455;\n",
              "      fill: #D2E3FC;\n",
              "    }\n",
              "\n",
              "    [theme=dark] .colab-df-convert:hover {\n",
              "      background-color: #434B5C;\n",
              "      box-shadow: 0px 1px 3px 1px rgba(0, 0, 0, 0.15);\n",
              "      filter: drop-shadow(0px 1px 2px rgba(0, 0, 0, 0.3));\n",
              "      fill: #FFFFFF;\n",
              "    }\n",
              "  </style>\n",
              "\n",
              "      <script>\n",
              "        const buttonEl =\n",
              "          document.querySelector('#df-8cbff7c9-952b-44b9-8296-a953728ef539 button.colab-df-convert');\n",
              "        buttonEl.style.display =\n",
              "          google.colab.kernel.accessAllowed ? 'block' : 'none';\n",
              "\n",
              "        async function convertToInteractive(key) {\n",
              "          const element = document.querySelector('#df-8cbff7c9-952b-44b9-8296-a953728ef539');\n",
              "          const dataTable =\n",
              "            await google.colab.kernel.invokeFunction('convertToInteractive',\n",
              "                                                     [key], {});\n",
              "          if (!dataTable) return;\n",
              "\n",
              "          const docLinkHtml = 'Like what you see? Visit the ' +\n",
              "            '<a target=\"_blank\" href=https://colab.research.google.com/notebooks/data_table.ipynb>data table notebook</a>'\n",
              "            + ' to learn more about interactive tables.';\n",
              "          element.innerHTML = '';\n",
              "          dataTable['output_type'] = 'display_data';\n",
              "          await google.colab.output.renderOutput(dataTable, element);\n",
              "          const docLink = document.createElement('div');\n",
              "          docLink.innerHTML = docLinkHtml;\n",
              "          element.appendChild(docLink);\n",
              "        }\n",
              "      </script>\n",
              "    </div>\n",
              "  </div>\n",
              "  "
            ]
          },
          "metadata": {},
          "execution_count": 57
        }
      ]
    },
    {
      "cell_type": "code",
      "source": [
        "ax = plt.subplots(figsize=(10,8))\n",
        "sns.heatmap(dfTrain.corr(), annot= True, annot_kws={'fontsize':12})\n",
        "plt.title('Pearson Correlation of Features', y=1.05, size=15)"
      ],
      "metadata": {
        "id": "_VWxrEAiaxMN",
        "colab": {
          "base_uri": "https://localhost:8080/",
          "height": 561
        },
        "outputId": "5a7d4a04-c470-47ca-d090-c296a14c244a"
      },
      "execution_count": null,
      "outputs": [
        {
          "output_type": "execute_result",
          "data": {
            "text/plain": [
              "Text(0.5, 1.05, 'Pearson Correlation of Features')"
            ]
          },
          "metadata": {},
          "execution_count": 58
        },
        {
          "output_type": "display_data",
          "data": {
            "text/plain": [
              "<Figure size 720x576 with 2 Axes>"
            ],
            "image/png": "[encoded data removed]"
          },
          "metadata": {
            "needs_background": "light"
          }
        }
      ]
    },
    {
      "cell_type": "markdown",
      "source": [
        "Dari data diatas kita dapat memabginya menjadi Positive dan Negative correleation"
      ],
      "metadata": {
        "id": "0Tt0Aj2gbKJC"
      }
    },
    {
      "cell_type": "markdown",
      "source": [
        "## Correlation"
      ],
      "metadata": {
        "id": "qNz703jbbQfj"
      }
    },
    {
      "cell_type": "code",
      "source": [
        "#Positive Correlation\n",
        "PositiveCorr = dfTrain[['Parch','FamilySize']]\n",
        "PositiveCorr.info()"
      ],
      "metadata": {
        "id": "ATpsc9gCbPEf",
        "colab": {
          "base_uri": "https://localhost:8080/"
        },
        "outputId": "cd89fc6e-1251-49dc-eb26-0d49334e426e"
      },
      "execution_count": null,
      "outputs": [
        {
          "output_type": "stream",
          "name": "stdout",
          "text": [
            "<class 'pandas.core.frame.DataFrame'>\n",
            "RangeIndex: 891 entries, 0 to 890\n",
            "Data columns (total 2 columns):\n",
            " #   Column      Non-Null Count  Dtype\n",
            "---  ------      --------------  -----\n",
            " 0   Parch       891 non-null    int64\n",
            " 1   FamilySize  891 non-null    int64\n",
            "dtypes: int64(2)\n",
            "memory usage: 14.0 KB\n"
          ]
        }
      ]
    },
    {
      "cell_type": "code",
      "source": [
        "#Negative Correlation\n",
        "NegativeCorr = dfTrain[['Pclass', 'Sex', 'Age', 'SibSp', 'Embarked', 'IsAlone']]\n",
        "NegativeCorr.info()"
      ],
      "metadata": {
        "id": "L-aA7xbuble2",
        "colab": {
          "base_uri": "https://localhost:8080/"
        },
        "outputId": "22a4526e-1625-4996-f96a-1d75e03af108"
      },
      "execution_count": null,
      "outputs": [
        {
          "output_type": "stream",
          "name": "stdout",
          "text": [
            "<class 'pandas.core.frame.DataFrame'>\n",
            "RangeIndex: 891 entries, 0 to 890\n",
            "Data columns (total 6 columns):\n",
            " #   Column    Non-Null Count  Dtype  \n",
            "---  ------    --------------  -----  \n",
            " 0   Pclass    891 non-null    int64  \n",
            " 1   Sex       891 non-null    int64  \n",
            " 2   Age       891 non-null    float64\n",
            " 3   SibSp     891 non-null    int64  \n",
            " 4   Embarked  891 non-null    int64  \n",
            " 5   IsAlone   891 non-null    int64  \n",
            "dtypes: float64(1), int64(5)\n",
            "memory usage: 41.9 KB\n"
          ]
        }
      ]
    },
    {
      "cell_type": "markdown",
      "source": [],
      "metadata": {
        "id": "xTBUwqjnTjFG"
      }
    },
    {
      "cell_type": "markdown",
      "source": [
        "# Modelling"
      ],
      "metadata": {
        "id": "QwKkL2UUb3Gf"
      }
    },
    {
      "cell_type": "markdown",
      "source": [
        "## Data Spliting"
      ],
      "metadata": {
        "id": "MwbYpKp6b6v3"
      }
    },
    {
      "cell_type": "code",
      "source": [
        "#Data target and feature\n",
        "targets =  dfTrain[['Survived']]\n",
        "features = dfTrain.drop('Survived',axis=1)"
      ],
      "metadata": {
        "id": "R0hwFKBEcK_g"
      },
      "execution_count": null,
      "outputs": []
    },
    {
      "cell_type": "code",
      "source": [
        "# Kita akan membagi data dengan metode 80/20 (Pareto Principle)\n",
        "#20% test data 80% Train data\n",
        "xtrain, xtest, ytrain, ytest = train_test_split(features,targets,test_size=0.2)\n",
        "print(\"xinput Shape: \", xtrain.shape)\n",
        "print(\"ytrain Shape: \", xtest.shape)\n",
        "print(\"xtest Shape: \", ytrain.shape)\n",
        "print(\"ytest Shape: \", ytest.shape)"
      ],
      "metadata": {
        "id": "BwPjoo9HcB35",
        "colab": {
          "base_uri": "https://localhost:8080/"
        },
        "outputId": "1dfca3c2-b685-4ffd-aa55-1aa2f8283c90"
      },
      "execution_count": null,
      "outputs": [
        {
          "output_type": "stream",
          "name": "stdout",
          "text": [
            "xinput Shape:  (712, 8)\n",
            "ytrain Shape:  (179, 8)\n",
            "xtest Shape:  (712, 1)\n",
            "ytest Shape:  (179, 1)\n"
          ]
        }
      ]
    },
    {
      "cell_type": "markdown",
      "source": [
        "Positive Feature"
      ],
      "metadata": {
        "id": "8HLLbxE8eFSO"
      }
    },
    {
      "cell_type": "code",
      "source": [
        "features = PositiveCorr"
      ],
      "metadata": {
        "id": "G6-iLEmueKM6"
      },
      "execution_count": null,
      "outputs": []
    },
    {
      "cell_type": "code",
      "source": [
        "# Kita akan membagi data dengan metode 80/20 (Pareto Principle)\n",
        "xtrain1, xtest1, ytrain1, ytest1 = train_test_split(features,targets,test_size=0.2)\n",
        "print(\"xinput Shape: \", xtrain1.shape)\n",
        "print(\"ytrain Shape: \", xtest1.shape)\n",
        "print(\"xtest Shape: \", ytrain1.shape)\n",
        "print(\"ytest Shape: \", ytest1.shape)"
      ],
      "metadata": {
        "id": "-qHIcwqieJbP",
        "colab": {
          "base_uri": "https://localhost:8080/"
        },
        "outputId": "232c2311-14cd-4148-d8c9-e7096c4a0d93"
      },
      "execution_count": null,
      "outputs": [
        {
          "output_type": "stream",
          "name": "stdout",
          "text": [
            "xinput Shape:  (712, 2)\n",
            "ytrain Shape:  (179, 2)\n",
            "xtest Shape:  (712, 1)\n",
            "ytest Shape:  (179, 1)\n"
          ]
        }
      ]
    },
    {
      "cell_type": "markdown",
      "source": [
        "Negative Feature"
      ],
      "metadata": {
        "id": "vaLztfxlee1_"
      }
    },
    {
      "cell_type": "code",
      "source": [
        "features = NegativeCorr"
      ],
      "metadata": {
        "id": "9PspgAd3ejOW"
      },
      "execution_count": null,
      "outputs": []
    },
    {
      "cell_type": "code",
      "source": [
        "# Kita akan membagi data dengan metode 80/20 (Pareto Principle)\n",
        "xtrain2, xtest2, ytrain2, ytest2 = train_test_split(features,targets,test_size=0.2)\n",
        "print(\"xinput Shape: \", xtrain2.shape)\n",
        "print(\"ytrain Shape: \", xtest2.shape)\n",
        "print(\"xtest Shape: \", ytrain2.shape)\n",
        "print(\"ytest Shape: \", ytest2.shape)"
      ],
      "metadata": {
        "id": "BE_gM4w0eiRK",
        "colab": {
          "base_uri": "https://localhost:8080/"
        },
        "outputId": "d81cfa30-6fbf-4695-8f17-c1666b89f862"
      },
      "execution_count": null,
      "outputs": [
        {
          "output_type": "stream",
          "name": "stdout",
          "text": [
            "xinput Shape:  (712, 6)\n",
            "ytrain Shape:  (179, 6)\n",
            "xtest Shape:  (712, 1)\n",
            "ytest Shape:  (179, 1)\n"
          ]
        }
      ]
    },
    {
      "cell_type": "markdown",
      "source": [
        "## Training\n"
      ],
      "metadata": {
        "id": "RrD58fvYewez"
      }
    },
    {
      "cell_type": "markdown",
      "source": [
        "Random Forest Algorithm\n"
      ],
      "metadata": {
        "id": "hSCYmFuNezj2"
      }
    },
    {
      "cell_type": "code",
      "source": [
        "RFCa = RandomForestClassifier()\n",
        "RFCa.fit(xtrain,ytrain.values.ravel())\n",
        "RFCpredA = RFCa.predict(xtest)\n",
        "print(f'Train Score RandomForestClassifier : {RFCa.score(xtrain, ytrain)}')\n",
        "print(f'Test Score RandomForestClassifier : {RFCa.score(xtest, ytest)}')\n"
      ],
      "metadata": {
        "id": "QI521asce2dD",
        "colab": {
          "base_uri": "https://localhost:8080/"
        },
        "outputId": "95c910da-5c37-4ce3-a196-0f94282aec43"
      },
      "execution_count": null,
      "outputs": [
        {
          "output_type": "stream",
          "name": "stdout",
          "text": [
            "Train Score RandomForestClassifier : 0.8735955056179775\n",
            "Test Score RandomForestClassifier : 0.7932960893854749\n"
          ]
        }
      ]
    },
    {
      "cell_type": "markdown",
      "source": [
        "Random Forest Positive Feature"
      ],
      "metadata": {
        "id": "Iu2fl_PzgDf4"
      }
    },
    {
      "cell_type": "code",
      "source": [
        "RFCp=RandomForestClassifier()\n",
        "RFCp.fit(xtrain1,ytrain1.values.ravel())\n",
        "RFCpredP=RFCp.predict(xtest1)\n",
        "print(f'Train Score Positive RandomForestClassifier : {RFCp.score(xtrain1, ytrain1)}')\n",
        "print(f'Test Score Positive RandomForestClassifier : {RFCp.score(xtest1, ytest1)}')"
      ],
      "metadata": {
        "id": "dQqi_Xt3gKMj",
        "colab": {
          "base_uri": "https://localhost:8080/"
        },
        "outputId": "b9f0286d-7f3b-47c0-8f5b-595ac286abff"
      },
      "execution_count": null,
      "outputs": [
        {
          "output_type": "stream",
          "name": "stdout",
          "text": [
            "Train Score Positive RandomForestClassifier : 0.6643258426966292\n",
            "Test Score Positive RandomForestClassifier : 0.6983240223463687\n"
          ]
        }
      ]
    },
    {
      "cell_type": "markdown",
      "source": [
        "Random Forest Negative Feature"
      ],
      "metadata": {
        "id": "oXwiuMnBg1_0"
      }
    },
    {
      "cell_type": "code",
      "source": [
        "RFCn=RandomForestClassifier()\n",
        "RFCn.fit(xtrain2,ytrain2.values.ravel())\n",
        "RFCpredN=RFCn.predict(xtest2)\n",
        "print(f'Train Score Negative RandomForestClassifier : {RFCn.score(xtrain2, ytrain2)}')\n",
        "print(f'Test Score Negative RandomForestClassifier : {RFCn.score(xtest2, ytest2)}')"
      ],
      "metadata": {
        "id": "0QCVcd_Vg49g",
        "outputId": "c74c3730-d84e-4a75-c3b6-d9cb74b71080",
        "colab": {
          "base_uri": "https://localhost:8080/"
        }
      },
      "execution_count": null,
      "outputs": [
        {
          "output_type": "stream",
          "name": "stdout",
          "text": [
            "Train Score Negative RandomForestClassifier : 0.8539325842696629\n",
            "Test Score Negative RandomForestClassifier : 0.8435754189944135\n"
          ]
        }
      ]
    },
    {
      "cell_type": "markdown",
      "source": [],
      "metadata": {
        "id": "v2yp_FxLhcVp"
      }
    },
    {
      "cell_type": "markdown",
      "source": [
        "# Prediction Output"
      ],
      "metadata": {
        "id": "uhSNWwyqhcaQ"
      }
    },
    {
      "cell_type": "code",
      "source": [
        "import matplotlib.pyplot as plt\n",
        "from sklearn.model_selection import learning_curve\n",
        "from sklearn.model_selection import ShuffleSplit"
      ],
      "metadata": {
        "id": "ANY76_rDiESt"
      },
      "execution_count": null,
      "outputs": []
    },
    {
      "cell_type": "code",
      "source": [
        "# Random Forest Classifier\n",
        "PredictionOutputRFCA = pd.DataFrame(RFCpredA, columns=['Prediction'])\n",
        "PredictionOutputRFCA[\"Survived\"] = pd.DataFrame(ytest.reset_index()['Survived'])\n",
        "\n",
        "\n",
        "print(PredictionOutputRFCA)"
      ],
      "metadata": {
        "id": "KvPjyC6_hep0",
        "colab": {
          "base_uri": "https://localhost:8080/"
        },
        "outputId": "0138027d-8089-4ff3-bd37-707f0a38de53"
      },
      "execution_count": null,
      "outputs": [
        {
          "output_type": "stream",
          "name": "stdout",
          "text": [
            "     Prediction  Survived\n",
            "0             1         1\n",
            "1             1         1\n",
            "2             0         0\n",
            "3             0         1\n",
            "4             0         0\n",
            "..          ...       ...\n",
            "174           0         0\n",
            "175           0         0\n",
            "176           0         1\n",
            "177           0         1\n",
            "178           0         0\n",
            "\n",
            "[179 rows x 2 columns]\n"
          ]
        }
      ]
    },
    {
      "cell_type": "code",
      "source": [
        "PredictionOutputRFCA.to_csv('AllFeatureResult.csv')"
      ],
      "metadata": {
        "id": "kd3pS4ZN3pG9"
      },
      "execution_count": null,
      "outputs": []
    },
    {
      "cell_type": "code",
      "source": [
        "pd.options.display.max_rows\n",
        "pd.set_option('display.max_rows', None)\n",
        "print(PredictionOutputRFCA)"
      ],
      "metadata": {
        "colab": {
          "base_uri": "https://localhost:8080/"
        },
        "id": "PmT6AGZa20BL",
        "outputId": "590af7dd-7d0f-4801-fd95-090827779e84"
      },
      "execution_count": null,
      "outputs": [
        {
          "output_type": "stream",
          "name": "stdout",
          "text": [
            "     Prediction  Survived\n",
            "0             1         1\n",
            "1             1         1\n",
            "2             0         0\n",
            "3             0         1\n",
            "4             0         0\n",
            "5             1         1\n",
            "6             0         1\n",
            "7             0         0\n",
            "8             0         1\n",
            "9             1         1\n",
            "10            0         0\n",
            "11            0         1\n",
            "12            0         0\n",
            "13            1         1\n",
            "14            0         0\n",
            "15            0         0\n",
            "16            0         0\n",
            "17            1         1\n",
            "18            1         1\n",
            "19            0         0\n",
            "20            1         1\n",
            "21            0         0\n",
            "22            1         1\n",
            "23            0         0\n",
            "24            0         0\n",
            "25            1         1\n",
            "26            1         0\n",
            "27            0         1\n",
            "28            1         1\n",
            "29            0         1\n",
            "30            0         0\n",
            "31            0         0\n",
            "32            0         1\n",
            "33            0         1\n",
            "34            1         0\n",
            "35            0         1\n",
            "36            1         1\n",
            "37            0         1\n",
            "38            1         1\n",
            "39            0         0\n",
            "40            1         0\n",
            "41            0         0\n",
            "42            0         0\n",
            "43            1         1\n",
            "44            0         0\n",
            "45            0         0\n",
            "46            0         0\n",
            "47            1         1\n",
            "48            1         0\n",
            "49            1         1\n",
            "50            0         0\n",
            "51            0         0\n",
            "52            0         0\n",
            "53            0         1\n",
            "54            0         0\n",
            "55            0         0\n",
            "56            0         0\n",
            "57            0         1\n",
            "58            0         0\n",
            "59            0         0\n",
            "60            0         1\n",
            "61            0         0\n",
            "62            0         0\n",
            "63            0         0\n",
            "64            1         1\n",
            "65            0         0\n",
            "66            1         1\n",
            "67            0         1\n",
            "68            0         1\n",
            "69            0         0\n",
            "70            1         1\n",
            "71            0         0\n",
            "72            0         0\n",
            "73            1         1\n",
            "74            0         0\n",
            "75            1         0\n",
            "76            0         0\n",
            "77            1         1\n",
            "78            0         0\n",
            "79            0         0\n",
            "80            1         1\n",
            "81            0         0\n",
            "82            0         0\n",
            "83            0         0\n",
            "84            1         1\n",
            "85            0         0\n",
            "86            0         0\n",
            "87            0         0\n",
            "88            1         0\n",
            "89            1         0\n",
            "90            0         0\n",
            "91            0         0\n",
            "92            1         0\n",
            "93            0         0\n",
            "94            0         0\n",
            "95            0         0\n",
            "96            1         1\n",
            "97            1         1\n",
            "98            0         0\n",
            "99            1         1\n",
            "100           0         0\n",
            "101           0         0\n",
            "102           0         0\n",
            "103           0         0\n",
            "104           0         0\n",
            "105           0         0\n",
            "106           1         1\n",
            "107           0         0\n",
            "108           1         1\n",
            "109           1         1\n",
            "110           0         1\n",
            "111           0         0\n",
            "112           1         1\n",
            "113           0         1\n",
            "114           0         0\n",
            "115           0         0\n",
            "116           1         1\n",
            "117           0         0\n",
            "118           0         0\n",
            "119           1         1\n",
            "120           0         0\n",
            "121           0         1\n",
            "122           0         0\n",
            "123           0         0\n",
            "124           0         0\n",
            "125           1         1\n",
            "126           0         0\n",
            "127           0         1\n",
            "128           1         0\n",
            "129           1         1\n",
            "130           0         1\n",
            "131           0         0\n",
            "132           1         1\n",
            "133           0         0\n",
            "134           0         0\n",
            "135           0         0\n",
            "136           0         0\n",
            "137           0         0\n",
            "138           1         1\n",
            "139           1         1\n",
            "140           0         1\n",
            "141           0         0\n",
            "142           1         1\n",
            "143           0         0\n",
            "144           0         0\n",
            "145           1         1\n",
            "146           0         0\n",
            "147           0         0\n",
            "148           1         1\n",
            "149           0         0\n",
            "150           0         0\n",
            "151           0         0\n",
            "152           0         1\n",
            "153           1         0\n",
            "154           0         0\n",
            "155           0         0\n",
            "156           0         0\n",
            "157           0         0\n",
            "158           1         1\n",
            "159           1         1\n",
            "160           1         1\n",
            "161           1         1\n",
            "162           0         0\n",
            "163           0         0\n",
            "164           0         0\n",
            "165           0         1\n",
            "166           1         1\n",
            "167           0         0\n",
            "168           0         1\n",
            "169           0         0\n",
            "170           0         1\n",
            "171           1         1\n",
            "172           0         0\n",
            "173           1         1\n",
            "174           0         0\n",
            "175           0         0\n",
            "176           0         1\n",
            "177           0         1\n",
            "178           0         0\n"
          ]
        }
      ]
    },
    {
      "cell_type": "code",
      "source": [
        "#Positive\n",
        "# Random Forest Classifier\n",
        "PredictionOutputRFCP = pd.DataFrame(RFCpredP, columns=['Prediction'])\n",
        "PredictionOutputRFCP[\"Survived\"] = pd.DataFrame(ytest1.reset_index()['Survived'])\n",
        "PredictionOutputRFCP"
      ],
      "metadata": {
        "id": "xdik7GglkMfY",
        "colab": {
          "base_uri": "https://localhost:8080/",
          "height": 1000
        },
        "outputId": "b8b97474-afca-4b7e-c3a1-46730d498cf1"
      },
      "execution_count": null,
      "outputs": [
        {
          "output_type": "execute_result",
          "data": {
            "text/plain": [
              "     Prediction  Survived\n",
              "0             0         0\n",
              "1             1         1\n",
              "2             0         0\n",
              "3             1         1\n",
              "4             0         0\n",
              "5             0         1\n",
              "6             1         1\n",
              "7             0         0\n",
              "8             0         0\n",
              "9             0         0\n",
              "10            0         0\n",
              "11            0         0\n",
              "12            0         1\n",
              "13            0         0\n",
              "14            0         0\n",
              "15            0         0\n",
              "16            0         0\n",
              "17            0         0\n",
              "18            0         0\n",
              "19            0         0\n",
              "20            0         0\n",
              "21            0         1\n",
              "22            0         0\n",
              "23            1         0\n",
              "24            1         1\n",
              "25            0         0\n",
              "26            0         0\n",
              "27            0         0\n",
              "28            1         1\n",
              "29            0         0\n",
              "30            0         1\n",
              "31            1         1\n",
              "32            0         0\n",
              "33            0         0\n",
              "34            0         0\n",
              "35            0         0\n",
              "36            0         0\n",
              "37            0         1\n",
              "38            0         1\n",
              "39            0         1\n",
              "40            0         0\n",
              "41            0         1\n",
              "42            0         0\n",
              "43            0         1\n",
              "44            0         0\n",
              "45            0         0\n",
              "46            0         0\n",
              "47            0         0\n",
              "48            0         1\n",
              "49            0         0\n",
              "50            0         0\n",
              "51            0         0\n",
              "52            0         0\n",
              "53            0         0\n",
              "54            0         1\n",
              "55            0         1\n",
              "56            0         0\n",
              "57            0         0\n",
              "58            0         0\n",
              "59            0         0\n",
              "60            0         0\n",
              "61            1         0\n",
              "62            0         0\n",
              "63            0         0\n",
              "64            0         1\n",
              "65            0         0\n",
              "66            0         0\n",
              "67            0         1\n",
              "68            0         1\n",
              "69            1         0\n",
              "70            0         1\n",
              "71            0         0\n",
              "72            0         0\n",
              "73            0         1\n",
              "74            1         1\n",
              "75            0         0\n",
              "76            1         1\n",
              "77            0         0\n",
              "78            0         0\n",
              "79            0         1\n",
              "80            0         0\n",
              "81            0         0\n",
              "82            0         0\n",
              "83            0         0\n",
              "84            1         1\n",
              "85            0         1\n",
              "86            0         1\n",
              "87            0         1\n",
              "88            0         0\n",
              "89            0         0\n",
              "90            0         0\n",
              "91            0         0\n",
              "92            0         0\n",
              "93            0         1\n",
              "94            0         0\n",
              "95            0         1\n",
              "96            0         1\n",
              "97            1         1\n",
              "98            0         0\n",
              "99            0         0\n",
              "100           0         1\n",
              "101           0         1\n",
              "102           0         1\n",
              "103           0         0\n",
              "104           0         0\n",
              "105           0         1\n",
              "106           0         0\n",
              "107           0         1\n",
              "108           0         0\n",
              "109           0         0\n",
              "110           1         0\n",
              "111           0         0\n",
              "112           0         0\n",
              "113           0         0\n",
              "114           0         0\n",
              "115           1         1\n",
              "116           1         1\n",
              "117           0         0\n",
              "118           1         0\n",
              "119           0         0\n",
              "120           0         1\n",
              "121           0         0\n",
              "122           0         0\n",
              "123           1         1\n",
              "124           0         0\n",
              "125           0         0\n",
              "126           0         0\n",
              "127           1         1\n",
              "128           1         1\n",
              "129           1         0\n",
              "130           0         0\n",
              "131           0         0\n",
              "132           1         1\n",
              "133           0         0\n",
              "134           0         0\n",
              "135           0         1\n",
              "136           0         1\n",
              "137           0         1\n",
              "138           0         0\n",
              "139           0         0\n",
              "140           0         0\n",
              "141           1         1\n",
              "142           0         0\n",
              "143           0         0\n",
              "144           1         1\n",
              "145           0         1\n",
              "146           0         0\n",
              "147           0         1\n",
              "148           0         0\n",
              "149           0         1\n",
              "150           0         0\n",
              "151           1         0\n",
              "152           0         1\n",
              "153           1         0\n",
              "154           0         0\n",
              "155           0         0\n",
              "156           0         0\n",
              "157           0         1\n",
              "158           1         0\n",
              "159           0         0\n",
              "160           0         1\n",
              "161           0         0\n",
              "162           0         0\n",
              "163           0         1\n",
              "164           0         0\n",
              "165           0         0\n",
              "166           0         0\n",
              "167           0         1\n",
              "168           0         0\n",
              "169           0         1\n",
              "170           1         1\n",
              "171           0         1\n",
              "172           0         1\n",
              "173           0         0\n",
              "174           0         0\n",
              "175           0         1\n",
              "176           0         0\n",
              "177           0         0\n",
              "178           0         0"
            ],
            "text/html": [
              "\n",
              "  <div id=\"df-4a376df8-eac0-4991-8a3c-f9e07288b4a5\">\n",
              "    <div class=\"colab-df-container\">\n",
              "      <div>\n",
              "<style scoped>\n",
              "    .dataframe tbody tr th:only-of-type {\n",
              "        vertical-align: middle;\n",
              "    }\n",
              "\n",
              "    .dataframe tbody tr th {\n",
              "        vertical-align: top;\n",
              "    }\n",
              "\n",
              "    .dataframe thead th {\n",
              "        text-align: right;\n",
              "    }\n",
              "</style>\n",
              "<table border=\"1\" class=\"dataframe\">\n",
              "  <thead>\n",
              "    <tr style=\"text-align: right;\">\n",
              "      <th></th>\n",
              "      <th>Prediction</th>\n",
              "      <th>Survived</th>\n",
              "    </tr>\n",
              "  </thead>\n",
              "  <tbody>\n",
              "    <tr>\n",
              "      <th>0</th>\n",
              "      <td>0</td>\n",
              "      <td>0</td>\n",
              "    </tr>\n",
              "    <tr>\n",
              "      <th>1</th>\n",
              "      <td>1</td>\n",
              "      <td>1</td>\n",
              "    </tr>\n",
              "    <tr>\n",
              "      <th>2</th>\n",
              "      <td>0</td>\n",
              "      <td>0</td>\n",
              "    </tr>\n",
              "    <tr>\n",
              "      <th>3</th>\n",
              "      <td>1</td>\n",
              "      <td>1</td>\n",
              "    </tr>\n",
              "    <tr>\n",
              "      <th>4</th>\n",
              "      <td>0</td>\n",
              "      <td>0</td>\n",
              "    </tr>\n",
              "    <tr>\n",
              "      <th>5</th>\n",
              "      <td>0</td>\n",
              "      <td>1</td>\n",
              "    </tr>\n",
              "    <tr>\n",
              "      <th>6</th>\n",
              "      <td>1</td>\n",
              "      <td>1</td>\n",
              "    </tr>\n",
              "    <tr>\n",
              "      <th>7</th>\n",
              "      <td>0</td>\n",
              "      <td>0</td>\n",
              "    </tr>\n",
              "    <tr>\n",
              "      <th>8</th>\n",
              "      <td>0</td>\n",
              "      <td>0</td>\n",
              "    </tr>\n",
              "    <tr>\n",
              "      <th>9</th>\n",
              "      <td>0</td>\n",
              "      <td>0</td>\n",
              "    </tr>\n",
              "    <tr>\n",
              "      <th>10</th>\n",
              "      <td>0</td>\n",
              "      <td>0</td>\n",
              "    </tr>\n",
              "    <tr>\n",
              "      <th>11</th>\n",
              "      <td>0</td>\n",
              "      <td>0</td>\n",
              "    </tr>\n",
              "    <tr>\n",
              "      <th>12</th>\n",
              "      <td>0</td>\n",
              "      <td>1</td>\n",
              "    </tr>\n",
              "    <tr>\n",
              "      <th>13</th>\n",
              "      <td>0</td>\n",
              "      <td>0</td>\n",
              "    </tr>\n",
              "    <tr>\n",
              "      <th>14</th>\n",
              "      <td>0</td>\n",
              "      <td>0</td>\n",
              "    </tr>\n",
              "    <tr>\n",
              "      <th>15</th>\n",
              "      <td>0</td>\n",
              "      <td>0</td>\n",
              "    </tr>\n",
              "    <tr>\n",
              "      <th>16</th>\n",
              "      <td>0</td>\n",
              "      <td>0</td>\n",
              "    </tr>\n",
              "    <tr>\n",
              "      <th>17</th>\n",
              "      <td>0</td>\n",
              "      <td>0</td>\n",
              "    </tr>\n",
              "    <tr>\n",
              "      <th>18</th>\n",
              "      <td>0</td>\n",
              "      <td>0</td>\n",
              "    </tr>\n",
              "    <tr>\n",
              "      <th>19</th>\n",
              "      <td>0</td>\n",
              "      <td>0</td>\n",
              "    </tr>\n",
              "    <tr>\n",
              "      <th>20</th>\n",
              "      <td>0</td>\n",
              "      <td>0</td>\n",
              "    </tr>\n",
              "    <tr>\n",
              "      <th>21</th>\n",
              "      <td>0</td>\n",
              "      <td>1</td>\n",
              "    </tr>\n",
              "    <tr>\n",
              "      <th>22</th>\n",
              "      <td>0</td>\n",
              "      <td>0</td>\n",
              "    </tr>\n",
              "    <tr>\n",
              "      <th>23</th>\n",
              "      <td>1</td>\n",
              "      <td>0</td>\n",
              "    </tr>\n",
              "    <tr>\n",
              "      <th>24</th>\n",
              "      <td>1</td>\n",
              "      <td>1</td>\n",
              "    </tr>\n",
              "    <tr>\n",
              "      <th>25</th>\n",
              "      <td>0</td>\n",
              "      <td>0</td>\n",
              "    </tr>\n",
              "    <tr>\n",
              "      <th>26</th>\n",
              "      <td>0</td>\n",
              "      <td>0</td>\n",
              "    </tr>\n",
              "    <tr>\n",
              "      <th>27</th>\n",
              "      <td>0</td>\n",
              "      <td>0</td>\n",
              "    </tr>\n",
              "    <tr>\n",
              "      <th>28</th>\n",
              "      <td>1</td>\n",
              "      <td>1</td>\n",
              "    </tr>\n",
              "    <tr>\n",
              "      <th>29</th>\n",
              "      <td>0</td>\n",
              "      <td>0</td>\n",
              "    </tr>\n",
              "    <tr>\n",
              "      <th>30</th>\n",
              "      <td>0</td>\n",
              "      <td>1</td>\n",
              "    </tr>\n",
              "    <tr>\n",
              "      <th>31</th>\n",
              "      <td>1</td>\n",
              "      <td>1</td>\n",
              "    </tr>\n",
              "    <tr>\n",
              "      <th>32</th>\n",
              "      <td>0</td>\n",
              "      <td>0</td>\n",
              "    </tr>\n",
              "    <tr>\n",
              "      <th>33</th>\n",
              "      <td>0</td>\n",
              "      <td>0</td>\n",
              "    </tr>\n",
              "    <tr>\n",
              "      <th>34</th>\n",
              "      <td>0</td>\n",
              "      <td>0</td>\n",
              "    </tr>\n",
              "    <tr>\n",
              "      <th>35</th>\n",
              "      <td>0</td>\n",
              "      <td>0</td>\n",
              "    </tr>\n",
              "    <tr>\n",
              "      <th>36</th>\n",
              "      <td>0</td>\n",
              "      <td>0</td>\n",
              "    </tr>\n",
              "    <tr>\n",
              "      <th>37</th>\n",
              "      <td>0</td>\n",
              "      <td>1</td>\n",
              "    </tr>\n",
              "    <tr>\n",
              "      <th>38</th>\n",
              "      <td>0</td>\n",
              "      <td>1</td>\n",
              "    </tr>\n",
              "    <tr>\n",
              "      <th>39</th>\n",
              "      <td>0</td>\n",
              "      <td>1</td>\n",
              "    </tr>\n",
              "    <tr>\n",
              "      <th>40</th>\n",
              "      <td>0</td>\n",
              "      <td>0</td>\n",
              "    </tr>\n",
              "    <tr>\n",
              "      <th>41</th>\n",
              "      <td>0</td>\n",
              "      <td>1</td>\n",
              "    </tr>\n",
              "    <tr>\n",
              "      <th>42</th>\n",
              "      <td>0</td>\n",
              "      <td>0</td>\n",
              "    </tr>\n",
              "    <tr>\n",
              "      <th>43</th>\n",
              "      <td>0</td>\n",
              "      <td>1</td>\n",
              "    </tr>\n",
              "    <tr>\n",
              "      <th>44</th>\n",
              "      <td>0</td>\n",
              "      <td>0</td>\n",
              "    </tr>\n",
              "    <tr>\n",
              "      <th>45</th>\n",
              "      <td>0</td>\n",
              "      <td>0</td>\n",
              "    </tr>\n",
              "    <tr>\n",
              "      <th>46</th>\n",
              "      <td>0</td>\n",
              "      <td>0</td>\n",
              "    </tr>\n",
              "    <tr>\n",
              "      <th>47</th>\n",
              "      <td>0</td>\n",
              "      <td>0</td>\n",
              "    </tr>\n",
              "    <tr>\n",
              "      <th>48</th>\n",
              "      <td>0</td>\n",
              "      <td>1</td>\n",
              "    </tr>\n",
              "    <tr>\n",
              "      <th>49</th>\n",
              "      <td>0</td>\n",
              "      <td>0</td>\n",
              "    </tr>\n",
              "    <tr>\n",
              "      <th>50</th>\n",
              "      <td>0</td>\n",
              "      <td>0</td>\n",
              "    </tr>\n",
              "    <tr>\n",
              "      <th>51</th>\n",
              "      <td>0</td>\n",
              "      <td>0</td>\n",
              "    </tr>\n",
              "    <tr>\n",
              "      <th>52</th>\n",
              "      <td>0</td>\n",
              "      <td>0</td>\n",
              "    </tr>\n",
              "    <tr>\n",
              "      <th>53</th>\n",
              "      <td>0</td>\n",
              "      <td>0</td>\n",
              "    </tr>\n",
              "    <tr>\n",
              "      <th>54</th>\n",
              "      <td>0</td>\n",
              "      <td>1</td>\n",
              "    </tr>\n",
              "    <tr>\n",
              "      <th>55</th>\n",
              "      <td>0</td>\n",
              "      <td>1</td>\n",
              "    </tr>\n",
              "    <tr>\n",
              "      <th>56</th>\n",
              "      <td>0</td>\n",
              "      <td>0</td>\n",
              "    </tr>\n",
              "    <tr>\n",
              "      <th>57</th>\n",
              "      <td>0</td>\n",
              "      <td>0</td>\n",
              "    </tr>\n",
              "    <tr>\n",
              "      <th>58</th>\n",
              "      <td>0</td>\n",
              "      <td>0</td>\n",
              "    </tr>\n",
              "    <tr>\n",
              "      <th>59</th>\n",
              "      <td>0</td>\n",
              "      <td>0</td>\n",
              "    </tr>\n",
              "    <tr>\n",
              "      <th>60</th>\n",
              "      <td>0</td>\n",
              "      <td>0</td>\n",
              "    </tr>\n",
              "    <tr>\n",
              "      <th>61</th>\n",
              "      <td>1</td>\n",
              "      <td>0</td>\n",
              "    </tr>\n",
              "    <tr>\n",
              "      <th>62</th>\n",
              "      <td>0</td>\n",
              "      <td>0</td>\n",
              "    </tr>\n",
              "    <tr>\n",
              "      <th>63</th>\n",
              "      <td>0</td>\n",
              "      <td>0</td>\n",
              "    </tr>\n",
              "    <tr>\n",
              "      <th>64</th>\n",
              "      <td>0</td>\n",
              "      <td>1</td>\n",
              "    </tr>\n",
              "    <tr>\n",
              "      <th>65</th>\n",
              "      <td>0</td>\n",
              "      <td>0</td>\n",
              "    </tr>\n",
              "    <tr>\n",
              "      <th>66</th>\n",
              "      <td>0</td>\n",
              "      <td>0</td>\n",
              "    </tr>\n",
              "    <tr>\n",
              "      <th>67</th>\n",
              "      <td>0</td>\n",
              "      <td>1</td>\n",
              "    </tr>\n",
              "    <tr>\n",
              "      <th>68</th>\n",
              "      <td>0</td>\n",
              "      <td>1</td>\n",
              "    </tr>\n",
              "    <tr>\n",
              "      <th>69</th>\n",
              "      <td>1</td>\n",
              "      <td>0</td>\n",
              "    </tr>\n",
              "    <tr>\n",
              "      <th>70</th>\n",
              "      <td>0</td>\n",
              "      <td>1</td>\n",
              "    </tr>\n",
              "    <tr>\n",
              "      <th>71</th>\n",
              "      <td>0</td>\n",
              "      <td>0</td>\n",
              "    </tr>\n",
              "    <tr>\n",
              "      <th>72</th>\n",
              "      <td>0</td>\n",
              "      <td>0</td>\n",
              "    </tr>\n",
              "    <tr>\n",
              "      <th>73</th>\n",
              "      <td>0</td>\n",
              "      <td>1</td>\n",
              "    </tr>\n",
              "    <tr>\n",
              "      <th>74</th>\n",
              "      <td>1</td>\n",
              "      <td>1</td>\n",
              "    </tr>\n",
              "    <tr>\n",
              "      <th>75</th>\n",
              "      <td>0</td>\n",
              "      <td>0</td>\n",
              "    </tr>\n",
              "    <tr>\n",
              "      <th>76</th>\n",
              "      <td>1</td>\n",
              "      <td>1</td>\n",
              "    </tr>\n",
              "    <tr>\n",
              "      <th>77</th>\n",
              "      <td>0</td>\n",
              "      <td>0</td>\n",
              "    </tr>\n",
              "    <tr>\n",
              "      <th>78</th>\n",
              "      <td>0</td>\n",
              "      <td>0</td>\n",
              "    </tr>\n",
              "    <tr>\n",
              "      <th>79</th>\n",
              "      <td>0</td>\n",
              "      <td>1</td>\n",
              "    </tr>\n",
              "    <tr>\n",
              "      <th>80</th>\n",
              "      <td>0</td>\n",
              "      <td>0</td>\n",
              "    </tr>\n",
              "    <tr>\n",
              "      <th>81</th>\n",
              "      <td>0</td>\n",
              "      <td>0</td>\n",
              "    </tr>\n",
              "    <tr>\n",
              "      <th>82</th>\n",
              "      <td>0</td>\n",
              "      <td>0</td>\n",
              "    </tr>\n",
              "    <tr>\n",
              "      <th>83</th>\n",
              "      <td>0</td>\n",
              "      <td>0</td>\n",
              "    </tr>\n",
              "    <tr>\n",
              "      <th>84</th>\n",
              "      <td>1</td>\n",
              "      <td>1</td>\n",
              "    </tr>\n",
              "    <tr>\n",
              "      <th>85</th>\n",
              "      <td>0</td>\n",
              "      <td>1</td>\n",
              "    </tr>\n",
              "    <tr>\n",
              "      <th>86</th>\n",
              "      <td>0</td>\n",
              "      <td>1</td>\n",
              "    </tr>\n",
              "    <tr>\n",
              "      <th>87</th>\n",
              "      <td>0</td>\n",
              "      <td>1</td>\n",
              "    </tr>\n",
              "    <tr>\n",
              "      <th>88</th>\n",
              "      <td>0</td>\n",
              "      <td>0</td>\n",
              "    </tr>\n",
              "    <tr>\n",
              "      <th>89</th>\n",
              "      <td>0</td>\n",
              "      <td>0</td>\n",
              "    </tr>\n",
              "    <tr>\n",
              "      <th>90</th>\n",
              "      <td>0</td>\n",
              "      <td>0</td>\n",
              "    </tr>\n",
              "    <tr>\n",
              "      <th>91</th>\n",
              "      <td>0</td>\n",
              "      <td>0</td>\n",
              "    </tr>\n",
              "    <tr>\n",
              "      <th>92</th>\n",
              "      <td>0</td>\n",
              "      <td>0</td>\n",
              "    </tr>\n",
              "    <tr>\n",
              "      <th>93</th>\n",
              "      <td>0</td>\n",
              "      <td>1</td>\n",
              "    </tr>\n",
              "    <tr>\n",
              "      <th>94</th>\n",
              "      <td>0</td>\n",
              "      <td>0</td>\n",
              "    </tr>\n",
              "    <tr>\n",
              "      <th>95</th>\n",
              "      <td>0</td>\n",
              "      <td>1</td>\n",
              "    </tr>\n",
              "    <tr>\n",
              "      <th>96</th>\n",
              "      <td>0</td>\n",
              "      <td>1</td>\n",
              "    </tr>\n",
              "    <tr>\n",
              "      <th>97</th>\n",
              "      <td>1</td>\n",
              "      <td>1</td>\n",
              "    </tr>\n",
              "    <tr>\n",
              "      <th>98</th>\n",
              "      <td>0</td>\n",
              "      <td>0</td>\n",
              "    </tr>\n",
              "    <tr>\n",
              "      <th>99</th>\n",
              "      <td>0</td>\n",
              "      <td>0</td>\n",
              "    </tr>\n",
              "    <tr>\n",
              "      <th>100</th>\n",
              "      <td>0</td>\n",
              "      <td>1</td>\n",
              "    </tr>\n",
              "    <tr>\n",
              "      <th>101</th>\n",
              "      <td>0</td>\n",
              "      <td>1</td>\n",
              "    </tr>\n",
              "    <tr>\n",
              "      <th>102</th>\n",
              "      <td>0</td>\n",
              "      <td>1</td>\n",
              "    </tr>\n",
              "    <tr>\n",
              "      <th>103</th>\n",
              "      <td>0</td>\n",
              "      <td>0</td>\n",
              "    </tr>\n",
              "    <tr>\n",
              "      <th>104</th>\n",
              "      <td>0</td>\n",
              "      <td>0</td>\n",
              "    </tr>\n",
              "    <tr>\n",
              "      <th>105</th>\n",
              "      <td>0</td>\n",
              "      <td>1</td>\n",
              "    </tr>\n",
              "    <tr>\n",
              "      <th>106</th>\n",
              "      <td>0</td>\n",
              "      <td>0</td>\n",
              "    </tr>\n",
              "    <tr>\n",
              "      <th>107</th>\n",
              "      <td>0</td>\n",
              "      <td>1</td>\n",
              "    </tr>\n",
              "    <tr>\n",
              "      <th>108</th>\n",
              "      <td>0</td>\n",
              "      <td>0</td>\n",
              "    </tr>\n",
              "    <tr>\n",
              "      <th>109</th>\n",
              "      <td>0</td>\n",
              "      <td>0</td>\n",
              "    </tr>\n",
              "    <tr>\n",
              "      <th>110</th>\n",
              "      <td>1</td>\n",
              "      <td>0</td>\n",
              "    </tr>\n",
              "    <tr>\n",
              "      <th>111</th>\n",
              "      <td>0</td>\n",
              "      <td>0</td>\n",
              "    </tr>\n",
              "    <tr>\n",
              "      <th>112</th>\n",
              "      <td>0</td>\n",
              "      <td>0</td>\n",
              "    </tr>\n",
              "    <tr>\n",
              "      <th>113</th>\n",
              "      <td>0</td>\n",
              "      <td>0</td>\n",
              "    </tr>\n",
              "    <tr>\n",
              "      <th>114</th>\n",
              "      <td>0</td>\n",
              "      <td>0</td>\n",
              "    </tr>\n",
              "    <tr>\n",
              "      <th>115</th>\n",
              "      <td>1</td>\n",
              "      <td>1</td>\n",
              "    </tr>\n",
              "    <tr>\n",
              "      <th>116</th>\n",
              "      <td>1</td>\n",
              "      <td>1</td>\n",
              "    </tr>\n",
              "    <tr>\n",
              "      <th>117</th>\n",
              "      <td>0</td>\n",
              "      <td>0</td>\n",
              "    </tr>\n",
              "    <tr>\n",
              "      <th>118</th>\n",
              "      <td>1</td>\n",
              "      <td>0</td>\n",
              "    </tr>\n",
              "    <tr>\n",
              "      <th>119</th>\n",
              "      <td>0</td>\n",
              "      <td>0</td>\n",
              "    </tr>\n",
              "    <tr>\n",
              "      <th>120</th>\n",
              "      <td>0</td>\n",
              "      <td>1</td>\n",
              "    </tr>\n",
              "    <tr>\n",
              "      <th>121</th>\n",
              "      <td>0</td>\n",
              "      <td>0</td>\n",
              "    </tr>\n",
              "    <tr>\n",
              "      <th>122</th>\n",
              "      <td>0</td>\n",
              "      <td>0</td>\n",
              "    </tr>\n",
              "    <tr>\n",
              "      <th>123</th>\n",
              "      <td>1</td>\n",
              "      <td>1</td>\n",
              "    </tr>\n",
              "    <tr>\n",
              "      <th>124</th>\n",
              "      <td>0</td>\n",
              "      <td>0</td>\n",
              "    </tr>\n",
              "    <tr>\n",
              "      <th>125</th>\n",
              "      <td>0</td>\n",
              "      <td>0</td>\n",
              "    </tr>\n",
              "    <tr>\n",
              "      <th>126</th>\n",
              "      <td>0</td>\n",
              "      <td>0</td>\n",
              "    </tr>\n",
              "    <tr>\n",
              "      <th>127</th>\n",
              "      <td>1</td>\n",
              "      <td>1</td>\n",
              "    </tr>\n",
              "    <tr>\n",
              "      <th>128</th>\n",
              "      <td>1</td>\n",
              "      <td>1</td>\n",
              "    </tr>\n",
              "    <tr>\n",
              "      <th>129</th>\n",
              "      <td>1</td>\n",
              "      <td>0</td>\n",
              "    </tr>\n",
              "    <tr>\n",
              "      <th>130</th>\n",
              "      <td>0</td>\n",
              "      <td>0</td>\n",
              "    </tr>\n",
              "    <tr>\n",
              "      <th>131</th>\n",
              "      <td>0</td>\n",
              "      <td>0</td>\n",
              "    </tr>\n",
              "    <tr>\n",
              "      <th>132</th>\n",
              "      <td>1</td>\n",
              "      <td>1</td>\n",
              "    </tr>\n",
              "    <tr>\n",
              "      <th>133</th>\n",
              "      <td>0</td>\n",
              "      <td>0</td>\n",
              "    </tr>\n",
              "    <tr>\n",
              "      <th>134</th>\n",
              "      <td>0</td>\n",
              "      <td>0</td>\n",
              "    </tr>\n",
              "    <tr>\n",
              "      <th>135</th>\n",
              "      <td>0</td>\n",
              "      <td>1</td>\n",
              "    </tr>\n",
              "    <tr>\n",
              "      <th>136</th>\n",
              "      <td>0</td>\n",
              "      <td>1</td>\n",
              "    </tr>\n",
              "    <tr>\n",
              "      <th>137</th>\n",
              "      <td>0</td>\n",
              "      <td>1</td>\n",
              "    </tr>\n",
              "    <tr>\n",
              "      <th>138</th>\n",
              "      <td>0</td>\n",
              "      <td>0</td>\n",
              "    </tr>\n",
              "    <tr>\n",
              "      <th>139</th>\n",
              "      <td>0</td>\n",
              "      <td>0</td>\n",
              "    </tr>\n",
              "    <tr>\n",
              "      <th>140</th>\n",
              "      <td>0</td>\n",
              "      <td>0</td>\n",
              "    </tr>\n",
              "    <tr>\n",
              "      <th>141</th>\n",
              "      <td>1</td>\n",
              "      <td>1</td>\n",
              "    </tr>\n",
              "    <tr>\n",
              "      <th>142</th>\n",
              "      <td>0</td>\n",
              "      <td>0</td>\n",
              "    </tr>\n",
              "    <tr>\n",
              "      <th>143</th>\n",
              "      <td>0</td>\n",
              "      <td>0</td>\n",
              "    </tr>\n",
              "    <tr>\n",
              "      <th>144</th>\n",
              "      <td>1</td>\n",
              "      <td>1</td>\n",
              "    </tr>\n",
              "    <tr>\n",
              "      <th>145</th>\n",
              "      <td>0</td>\n",
              "      <td>1</td>\n",
              "    </tr>\n",
              "    <tr>\n",
              "      <th>146</th>\n",
              "      <td>0</td>\n",
              "      <td>0</td>\n",
              "    </tr>\n",
              "    <tr>\n",
              "      <th>147</th>\n",
              "      <td>0</td>\n",
              "      <td>1</td>\n",
              "    </tr>\n",
              "    <tr>\n",
              "      <th>148</th>\n",
              "      <td>0</td>\n",
              "      <td>0</td>\n",
              "    </tr>\n",
              "    <tr>\n",
              "      <th>149</th>\n",
              "      <td>0</td>\n",
              "      <td>1</td>\n",
              "    </tr>\n",
              "    <tr>\n",
              "      <th>150</th>\n",
              "      <td>0</td>\n",
              "      <td>0</td>\n",
              "    </tr>\n",
              "    <tr>\n",
              "      <th>151</th>\n",
              "      <td>1</td>\n",
              "      <td>0</td>\n",
              "    </tr>\n",
              "    <tr>\n",
              "      <th>152</th>\n",
              "      <td>0</td>\n",
              "      <td>1</td>\n",
              "    </tr>\n",
              "    <tr>\n",
              "      <th>153</th>\n",
              "      <td>1</td>\n",
              "      <td>0</td>\n",
              "    </tr>\n",
              "    <tr>\n",
              "      <th>154</th>\n",
              "      <td>0</td>\n",
              "      <td>0</td>\n",
              "    </tr>\n",
              "    <tr>\n",
              "      <th>155</th>\n",
              "      <td>0</td>\n",
              "      <td>0</td>\n",
              "    </tr>\n",
              "    <tr>\n",
              "      <th>156</th>\n",
              "      <td>0</td>\n",
              "      <td>0</td>\n",
              "    </tr>\n",
              "    <tr>\n",
              "      <th>157</th>\n",
              "      <td>0</td>\n",
              "      <td>1</td>\n",
              "    </tr>\n",
              "    <tr>\n",
              "      <th>158</th>\n",
              "      <td>1</td>\n",
              "      <td>0</td>\n",
              "    </tr>\n",
              "    <tr>\n",
              "      <th>159</th>\n",
              "      <td>0</td>\n",
              "      <td>0</td>\n",
              "    </tr>\n",
              "    <tr>\n",
              "      <th>160</th>\n",
              "      <td>0</td>\n",
              "      <td>1</td>\n",
              "    </tr>\n",
              "    <tr>\n",
              "      <th>161</th>\n",
              "      <td>0</td>\n",
              "      <td>0</td>\n",
              "    </tr>\n",
              "    <tr>\n",
              "      <th>162</th>\n",
              "      <td>0</td>\n",
              "      <td>0</td>\n",
              "    </tr>\n",
              "    <tr>\n",
              "      <th>163</th>\n",
              "      <td>0</td>\n",
              "      <td>1</td>\n",
              "    </tr>\n",
              "    <tr>\n",
              "      <th>164</th>\n",
              "      <td>0</td>\n",
              "      <td>0</td>\n",
              "    </tr>\n",
              "    <tr>\n",
              "      <th>165</th>\n",
              "      <td>0</td>\n",
              "      <td>0</td>\n",
              "    </tr>\n",
              "    <tr>\n",
              "      <th>166</th>\n",
              "      <td>0</td>\n",
              "      <td>0</td>\n",
              "    </tr>\n",
              "    <tr>\n",
              "      <th>167</th>\n",
              "      <td>0</td>\n",
              "      <td>1</td>\n",
              "    </tr>\n",
              "    <tr>\n",
              "      <th>168</th>\n",
              "      <td>0</td>\n",
              "      <td>0</td>\n",
              "    </tr>\n",
              "    <tr>\n",
              "      <th>169</th>\n",
              "      <td>0</td>\n",
              "      <td>1</td>\n",
              "    </tr>\n",
              "    <tr>\n",
              "      <th>170</th>\n",
              "      <td>1</td>\n",
              "      <td>1</td>\n",
              "    </tr>\n",
              "    <tr>\n",
              "      <th>171</th>\n",
              "      <td>0</td>\n",
              "      <td>1</td>\n",
              "    </tr>\n",
              "    <tr>\n",
              "      <th>172</th>\n",
              "      <td>0</td>\n",
              "      <td>1</td>\n",
              "    </tr>\n",
              "    <tr>\n",
              "      <th>173</th>\n",
              "      <td>0</td>\n",
              "      <td>0</td>\n",
              "    </tr>\n",
              "    <tr>\n",
              "      <th>174</th>\n",
              "      <td>0</td>\n",
              "      <td>0</td>\n",
              "    </tr>\n",
              "    <tr>\n",
              "      <th>175</th>\n",
              "      <td>0</td>\n",
              "      <td>1</td>\n",
              "    </tr>\n",
              "    <tr>\n",
              "      <th>176</th>\n",
              "      <td>0</td>\n",
              "      <td>0</td>\n",
              "    </tr>\n",
              "    <tr>\n",
              "      <th>177</th>\n",
              "      <td>0</td>\n",
              "      <td>0</td>\n",
              "    </tr>\n",
              "    <tr>\n",
              "      <th>178</th>\n",
              "      <td>0</td>\n",
              "      <td>0</td>\n",
              "    </tr>\n",
              "  </tbody>\n",
              "</table>\n",
              "</div>\n",
              "      <button class=\"colab-df-convert\" onclick=\"convertToInteractive('df-4a376df8-eac0-4991-8a3c-f9e07288b4a5')\"\n",
              "              title=\"Convert this dataframe to an interactive table.\"\n",
              "              style=\"display:none;\">\n",
              "        \n",
              "  <svg xmlns=\"http://www.w3.org/2000/svg\" height=\"24px\"viewBox=\"0 0 24 24\"\n",
              "       width=\"24px\">\n",
              "    <path d=\"M0 0h24v24H0V0z\" fill=\"none\"/>\n",
              "    <path d=\"M18.56 5.44l.94 2.06.94-2.06 2.06-.94-2.06-.94-.94-2.06-.94 2.06-2.06.94zm-11 1L8.5 8.5l.94-2.06 2.06-.94-2.06-.94L8.5 2.5l-.94 2.06-2.06.94zm10 10l.94 2.06.94-2.06 2.06-.94-2.06-.94-.94-2.06-.94 2.06-2.06.94z\"/><path d=\"M17.41 7.96l-1.37-1.37c-.4-.4-.92-.59-1.43-.59-.52 0-1.04.2-1.43.59L10.3 9.45l-7.72 7.72c-.78.78-.78 2.05 0 2.83L4 21.41c.39.39.9.59 1.41.59.51 0 1.02-.2 1.41-.59l7.78-7.78 2.81-2.81c.8-.78.8-2.07 0-2.86zM5.41 20L4 18.59l7.72-7.72 1.47 1.35L5.41 20z\"/>\n",
              "  </svg>\n",
              "      </button>\n",
              "      \n",
              "  <style>\n",
              "    .colab-df-container {\n",
              "      display:flex;\n",
              "      flex-wrap:wrap;\n",
              "      gap: 12px;\n",
              "    }\n",
              "\n",
              "    .colab-df-convert {\n",
              "      background-color: #E8F0FE;\n",
              "      border: none;\n",
              "      border-radius: 50%;\n",
              "      cursor: pointer;\n",
              "      display: none;\n",
              "      fill: #1967D2;\n",
              "      height: 32px;\n",
              "      padding: 0 0 0 0;\n",
              "      width: 32px;\n",
              "    }\n",
              "\n",
              "    .colab-df-convert:hover {\n",
              "      background-color: #E2EBFA;\n",
              "      box-shadow: 0px 1px 2px rgba(60, 64, 67, 0.3), 0px 1px 3px 1px rgba(60, 64, 67, 0.15);\n",
              "      fill: #174EA6;\n",
              "    }\n",
              "\n",
              "    [theme=dark] .colab-df-convert {\n",
              "      background-color: #3B4455;\n",
              "      fill: #D2E3FC;\n",
              "    }\n",
              "\n",
              "    [theme=dark] .colab-df-convert:hover {\n",
              "      background-color: #434B5C;\n",
              "      box-shadow: 0px 1px 3px 1px rgba(0, 0, 0, 0.15);\n",
              "      filter: drop-shadow(0px 1px 2px rgba(0, 0, 0, 0.3));\n",
              "      fill: #FFFFFF;\n",
              "    }\n",
              "  </style>\n",
              "\n",
              "      <script>\n",
              "        const buttonEl =\n",
              "          document.querySelector('#df-4a376df8-eac0-4991-8a3c-f9e07288b4a5 button.colab-df-convert');\n",
              "        buttonEl.style.display =\n",
              "          google.colab.kernel.accessAllowed ? 'block' : 'none';\n",
              "\n",
              "        async function convertToInteractive(key) {\n",
              "          const element = document.querySelector('#df-4a376df8-eac0-4991-8a3c-f9e07288b4a5');\n",
              "          const dataTable =\n",
              "            await google.colab.kernel.invokeFunction('convertToInteractive',\n",
              "                                                     [key], {});\n",
              "          if (!dataTable) return;\n",
              "\n",
              "          const docLinkHtml = 'Like what you see? Visit the ' +\n",
              "            '<a target=\"_blank\" href=https://colab.research.google.com/notebooks/data_table.ipynb>data table notebook</a>'\n",
              "            + ' to learn more about interactive tables.';\n",
              "          element.innerHTML = '';\n",
              "          dataTable['output_type'] = 'display_data';\n",
              "          await google.colab.output.renderOutput(dataTable, element);\n",
              "          const docLink = document.createElement('div');\n",
              "          docLink.innerHTML = docLinkHtml;\n",
              "          element.appendChild(docLink);\n",
              "        }\n",
              "      </script>\n",
              "    </div>\n",
              "  </div>\n",
              "  "
            ]
          },
          "metadata": {},
          "execution_count": 74
        }
      ]
    },
    {
      "cell_type": "code",
      "source": [
        "PredictionOutputRFCP.to_csv('PositiveFeatureResult.csv')"
      ],
      "metadata": {
        "id": "ZijSv2Hr4XMJ"
      },
      "execution_count": null,
      "outputs": []
    },
    {
      "cell_type": "code",
      "source": [
        "# NEGATIVE\n",
        "# Random Forest Classifier\n",
        "PredictionOutputRFCN=pd.DataFrame(RFCpredN, columns=['Prediction'])\n",
        "PredictionOutputRFCN[\"Survived\"] = pd.DataFrame(ytest2.reset_index()['Survived'])\n",
        "PredictionOutputRFCN"
      ],
      "metadata": {
        "id": "9c--Wgn9kO1m",
        "colab": {
          "base_uri": "https://localhost:8080/",
          "height": 1000
        },
        "outputId": "4f7e5016-4b30-4e19-ac94-f9726254bcc5"
      },
      "execution_count": null,
      "outputs": [
        {
          "output_type": "execute_result",
          "data": {
            "text/plain": [
              "     Prediction  Survived\n",
              "0             0         0\n",
              "1             0         0\n",
              "2             1         0\n",
              "3             0         0\n",
              "4             0         0\n",
              "5             0         0\n",
              "6             0         0\n",
              "7             1         1\n",
              "8             0         0\n",
              "9             1         1\n",
              "10            1         1\n",
              "11            0         0\n",
              "12            1         1\n",
              "13            0         0\n",
              "14            0         1\n",
              "15            0         1\n",
              "16            1         1\n",
              "17            0         0\n",
              "18            1         1\n",
              "19            1         1\n",
              "20            1         1\n",
              "21            0         0\n",
              "22            0         0\n",
              "23            0         1\n",
              "24            0         0\n",
              "25            0         0\n",
              "26            1         1\n",
              "27            0         0\n",
              "28            1         1\n",
              "29            0         1\n",
              "30            0         0\n",
              "31            0         0\n",
              "32            0         0\n",
              "33            0         0\n",
              "34            1         1\n",
              "35            1         1\n",
              "36            1         1\n",
              "37            0         0\n",
              "38            0         0\n",
              "39            0         0\n",
              "40            0         0\n",
              "41            0         0\n",
              "42            1         1\n",
              "43            0         0\n",
              "44            0         0\n",
              "45            1         1\n",
              "46            0         0\n",
              "47            0         0\n",
              "48            0         0\n",
              "49            0         0\n",
              "50            1         1\n",
              "51            0         0\n",
              "52            0         0\n",
              "53            0         0\n",
              "54            1         1\n",
              "55            1         1\n",
              "56            0         0\n",
              "57            0         1\n",
              "58            1         1\n",
              "59            0         0\n",
              "60            0         0\n",
              "61            0         0\n",
              "62            1         1\n",
              "63            1         1\n",
              "64            1         0\n",
              "65            0         0\n",
              "66            1         1\n",
              "67            1         1\n",
              "68            1         1\n",
              "69            0         0\n",
              "70            0         1\n",
              "71            0         0\n",
              "72            1         1\n",
              "73            1         1\n",
              "74            0         0\n",
              "75            0         0\n",
              "76            0         0\n",
              "77            0         0\n",
              "78            1         0\n",
              "79            1         0\n",
              "80            0         0\n",
              "81            0         0\n",
              "82            0         0\n",
              "83            0         0\n",
              "84            0         0\n",
              "85            0         0\n",
              "86            1         1\n",
              "87            0         0\n",
              "88            1         0\n",
              "89            0         0\n",
              "90            0         0\n",
              "91            0         0\n",
              "92            0         1\n",
              "93            0         0\n",
              "94            0         0\n",
              "95            0         0\n",
              "96            0         0\n",
              "97            1         1\n",
              "98            0         0\n",
              "99            0         1\n",
              "100           0         0\n",
              "101           0         0\n",
              "102           0         1\n",
              "103           1         0\n",
              "104           0         0\n",
              "105           0         0\n",
              "106           0         0\n",
              "107           0         0\n",
              "108           1         0\n",
              "109           0         0\n",
              "110           0         0\n",
              "111           0         1\n",
              "112           1         1\n",
              "113           0         0\n",
              "114           0         0\n",
              "115           0         0\n",
              "116           0         0\n",
              "117           0         0\n",
              "118           1         1\n",
              "119           1         1\n",
              "120           0         0\n",
              "121           0         0\n",
              "122           0         0\n",
              "123           0         0\n",
              "124           0         0\n",
              "125           0         0\n",
              "126           0         1\n",
              "127           0         0\n",
              "128           1         0\n",
              "129           1         1\n",
              "130           1         1\n",
              "131           0         1\n",
              "132           0         0\n",
              "133           0         1\n",
              "134           0         1\n",
              "135           0         0\n",
              "136           0         1\n",
              "137           0         0\n",
              "138           1         1\n",
              "139           0         0\n",
              "140           1         1\n",
              "141           1         1\n",
              "142           0         0\n",
              "143           0         0\n",
              "144           0         0\n",
              "145           1         0\n",
              "146           0         0\n",
              "147           0         0\n",
              "148           1         1\n",
              "149           1         0\n",
              "150           0         0\n",
              "151           0         0\n",
              "152           0         0\n",
              "153           0         0\n",
              "154           0         0\n",
              "155           0         1\n",
              "156           0         0\n",
              "157           1         1\n",
              "158           1         1\n",
              "159           0         0\n",
              "160           0         0\n",
              "161           0         0\n",
              "162           0         0\n",
              "163           1         1\n",
              "164           0         1\n",
              "165           0         0\n",
              "166           0         0\n",
              "167           0         0\n",
              "168           1         1\n",
              "169           0         0\n",
              "170           0         0\n",
              "171           0         0\n",
              "172           0         0\n",
              "173           1         1\n",
              "174           0         1\n",
              "175           1         1\n",
              "176           1         1\n",
              "177           0         0\n",
              "178           0         0"
            ],
            "text/html": [
              "\n",
              "  <div id=\"df-00fdb2d1-346f-4279-a371-077d02745d88\">\n",
              "    <div class=\"colab-df-container\">\n",
              "      <div>\n",
              "<style scoped>\n",
              "    .dataframe tbody tr th:only-of-type {\n",
              "        vertical-align: middle;\n",
              "    }\n",
              "\n",
              "    .dataframe tbody tr th {\n",
              "        vertical-align: top;\n",
              "    }\n",
              "\n",
              "    .dataframe thead th {\n",
              "        text-align: right;\n",
              "    }\n",
              "</style>\n",
              "<table border=\"1\" class=\"dataframe\">\n",
              "  <thead>\n",
              "    <tr style=\"text-align: right;\">\n",
              "      <th></th>\n",
              "      <th>Prediction</th>\n",
              "      <th>Survived</th>\n",
              "    </tr>\n",
              "  </thead>\n",
              "  <tbody>\n",
              "    <tr>\n",
              "      <th>0</th>\n",
              "      <td>0</td>\n",
              "      <td>0</td>\n",
              "    </tr>\n",
              "    <tr>\n",
              "      <th>1</th>\n",
              "      <td>0</td>\n",
              "      <td>0</td>\n",
              "    </tr>\n",
              "    <tr>\n",
              "      <th>2</th>\n",
              "      <td>1</td>\n",
              "      <td>0</td>\n",
              "    </tr>\n",
              "    <tr>\n",
              "      <th>3</th>\n",
              "      <td>0</td>\n",
              "      <td>0</td>\n",
              "    </tr>\n",
              "    <tr>\n",
              "      <th>4</th>\n",
              "      <td>0</td>\n",
              "      <td>0</td>\n",
              "    </tr>\n",
              "    <tr>\n",
              "      <th>5</th>\n",
              "      <td>0</td>\n",
              "      <td>0</td>\n",
              "    </tr>\n",
              "    <tr>\n",
              "      <th>6</th>\n",
              "      <td>0</td>\n",
              "      <td>0</td>\n",
              "    </tr>\n",
              "    <tr>\n",
              "      <th>7</th>\n",
              "      <td>1</td>\n",
              "      <td>1</td>\n",
              "    </tr>\n",
              "    <tr>\n",
              "      <th>8</th>\n",
              "      <td>0</td>\n",
              "      <td>0</td>\n",
              "    </tr>\n",
              "    <tr>\n",
              "      <th>9</th>\n",
              "      <td>1</td>\n",
              "      <td>1</td>\n",
              "    </tr>\n",
              "    <tr>\n",
              "      <th>10</th>\n",
              "      <td>1</td>\n",
              "      <td>1</td>\n",
              "    </tr>\n",
              "    <tr>\n",
              "      <th>11</th>\n",
              "      <td>0</td>\n",
              "      <td>0</td>\n",
              "    </tr>\n",
              "    <tr>\n",
              "      <th>12</th>\n",
              "      <td>1</td>\n",
              "      <td>1</td>\n",
              "    </tr>\n",
              "    <tr>\n",
              "      <th>13</th>\n",
              "      <td>0</td>\n",
              "      <td>0</td>\n",
              "    </tr>\n",
              "    <tr>\n",
              "      <th>14</th>\n",
              "      <td>0</td>\n",
              "      <td>1</td>\n",
              "    </tr>\n",
              "    <tr>\n",
              "      <th>15</th>\n",
              "      <td>0</td>\n",
              "      <td>1</td>\n",
              "    </tr>\n",
              "    <tr>\n",
              "      <th>16</th>\n",
              "      <td>1</td>\n",
              "      <td>1</td>\n",
              "    </tr>\n",
              "    <tr>\n",
              "      <th>17</th>\n",
              "      <td>0</td>\n",
              "      <td>0</td>\n",
              "    </tr>\n",
              "    <tr>\n",
              "      <th>18</th>\n",
              "      <td>1</td>\n",
              "      <td>1</td>\n",
              "    </tr>\n",
              "    <tr>\n",
              "      <th>19</th>\n",
              "      <td>1</td>\n",
              "      <td>1</td>\n",
              "    </tr>\n",
              "    <tr>\n",
              "      <th>20</th>\n",
              "      <td>1</td>\n",
              "      <td>1</td>\n",
              "    </tr>\n",
              "    <tr>\n",
              "      <th>21</th>\n",
              "      <td>0</td>\n",
              "      <td>0</td>\n",
              "    </tr>\n",
              "    <tr>\n",
              "      <th>22</th>\n",
              "      <td>0</td>\n",
              "      <td>0</td>\n",
              "    </tr>\n",
              "    <tr>\n",
              "      <th>23</th>\n",
              "      <td>0</td>\n",
              "      <td>1</td>\n",
              "    </tr>\n",
              "    <tr>\n",
              "      <th>24</th>\n",
              "      <td>0</td>\n",
              "      <td>0</td>\n",
              "    </tr>\n",
              "    <tr>\n",
              "      <th>25</th>\n",
              "      <td>0</td>\n",
              "      <td>0</td>\n",
              "    </tr>\n",
              "    <tr>\n",
              "      <th>26</th>\n",
              "      <td>1</td>\n",
              "      <td>1</td>\n",
              "    </tr>\n",
              "    <tr>\n",
              "      <th>27</th>\n",
              "      <td>0</td>\n",
              "      <td>0</td>\n",
              "    </tr>\n",
              "    <tr>\n",
              "      <th>28</th>\n",
              "      <td>1</td>\n",
              "      <td>1</td>\n",
              "    </tr>\n",
              "    <tr>\n",
              "      <th>29</th>\n",
              "      <td>0</td>\n",
              "      <td>1</td>\n",
              "    </tr>\n",
              "    <tr>\n",
              "      <th>30</th>\n",
              "      <td>0</td>\n",
              "      <td>0</td>\n",
              "    </tr>\n",
              "    <tr>\n",
              "      <th>31</th>\n",
              "      <td>0</td>\n",
              "      <td>0</td>\n",
              "    </tr>\n",
              "    <tr>\n",
              "      <th>32</th>\n",
              "      <td>0</td>\n",
              "      <td>0</td>\n",
              "    </tr>\n",
              "    <tr>\n",
              "      <th>33</th>\n",
              "      <td>0</td>\n",
              "      <td>0</td>\n",
              "    </tr>\n",
              "    <tr>\n",
              "      <th>34</th>\n",
              "      <td>1</td>\n",
              "      <td>1</td>\n",
              "    </tr>\n",
              "    <tr>\n",
              "      <th>35</th>\n",
              "      <td>1</td>\n",
              "      <td>1</td>\n",
              "    </tr>\n",
              "    <tr>\n",
              "      <th>36</th>\n",
              "      <td>1</td>\n",
              "      <td>1</td>\n",
              "    </tr>\n",
              "    <tr>\n",
              "      <th>37</th>\n",
              "      <td>0</td>\n",
              "      <td>0</td>\n",
              "    </tr>\n",
              "    <tr>\n",
              "      <th>38</th>\n",
              "      <td>0</td>\n",
              "      <td>0</td>\n",
              "    </tr>\n",
              "    <tr>\n",
              "      <th>39</th>\n",
              "      <td>0</td>\n",
              "      <td>0</td>\n",
              "    </tr>\n",
              "    <tr>\n",
              "      <th>40</th>\n",
              "      <td>0</td>\n",
              "      <td>0</td>\n",
              "    </tr>\n",
              "    <tr>\n",
              "      <th>41</th>\n",
              "      <td>0</td>\n",
              "      <td>0</td>\n",
              "    </tr>\n",
              "    <tr>\n",
              "      <th>42</th>\n",
              "      <td>1</td>\n",
              "      <td>1</td>\n",
              "    </tr>\n",
              "    <tr>\n",
              "      <th>43</th>\n",
              "      <td>0</td>\n",
              "      <td>0</td>\n",
              "    </tr>\n",
              "    <tr>\n",
              "      <th>44</th>\n",
              "      <td>0</td>\n",
              "      <td>0</td>\n",
              "    </tr>\n",
              "    <tr>\n",
              "      <th>45</th>\n",
              "      <td>1</td>\n",
              "      <td>1</td>\n",
              "    </tr>\n",
              "    <tr>\n",
              "      <th>46</th>\n",
              "      <td>0</td>\n",
              "      <td>0</td>\n",
              "    </tr>\n",
              "    <tr>\n",
              "      <th>47</th>\n",
              "      <td>0</td>\n",
              "      <td>0</td>\n",
              "    </tr>\n",
              "    <tr>\n",
              "      <th>48</th>\n",
              "      <td>0</td>\n",
              "      <td>0</td>\n",
              "    </tr>\n",
              "    <tr>\n",
              "      <th>49</th>\n",
              "      <td>0</td>\n",
              "      <td>0</td>\n",
              "    </tr>\n",
              "    <tr>\n",
              "      <th>50</th>\n",
              "      <td>1</td>\n",
              "      <td>1</td>\n",
              "    </tr>\n",
              "    <tr>\n",
              "      <th>51</th>\n",
              "      <td>0</td>\n",
              "      <td>0</td>\n",
              "    </tr>\n",
              "    <tr>\n",
              "      <th>52</th>\n",
              "      <td>0</td>\n",
              "      <td>0</td>\n",
              "    </tr>\n",
              "    <tr>\n",
              "      <th>53</th>\n",
              "      <td>0</td>\n",
              "      <td>0</td>\n",
              "    </tr>\n",
              "    <tr>\n",
              "      <th>54</th>\n",
              "      <td>1</td>\n",
              "      <td>1</td>\n",
              "    </tr>\n",
              "    <tr>\n",
              "      <th>55</th>\n",
              "      <td>1</td>\n",
              "      <td>1</td>\n",
              "    </tr>\n",
              "    <tr>\n",
              "      <th>56</th>\n",
              "      <td>0</td>\n",
              "      <td>0</td>\n",
              "    </tr>\n",
              "    <tr>\n",
              "      <th>57</th>\n",
              "      <td>0</td>\n",
              "      <td>1</td>\n",
              "    </tr>\n",
              "    <tr>\n",
              "      <th>58</th>\n",
              "      <td>1</td>\n",
              "      <td>1</td>\n",
              "    </tr>\n",
              "    <tr>\n",
              "      <th>59</th>\n",
              "      <td>0</td>\n",
              "      <td>0</td>\n",
              "    </tr>\n",
              "    <tr>\n",
              "      <th>60</th>\n",
              "      <td>0</td>\n",
              "      <td>0</td>\n",
              "    </tr>\n",
              "    <tr>\n",
              "      <th>61</th>\n",
              "      <td>0</td>\n",
              "      <td>0</td>\n",
              "    </tr>\n",
              "    <tr>\n",
              "      <th>62</th>\n",
              "      <td>1</td>\n",
              "      <td>1</td>\n",
              "    </tr>\n",
              "    <tr>\n",
              "      <th>63</th>\n",
              "      <td>1</td>\n",
              "      <td>1</td>\n",
              "    </tr>\n",
              "    <tr>\n",
              "      <th>64</th>\n",
              "      <td>1</td>\n",
              "      <td>0</td>\n",
              "    </tr>\n",
              "    <tr>\n",
              "      <th>65</th>\n",
              "      <td>0</td>\n",
              "      <td>0</td>\n",
              "    </tr>\n",
              "    <tr>\n",
              "      <th>66</th>\n",
              "      <td>1</td>\n",
              "      <td>1</td>\n",
              "    </tr>\n",
              "    <tr>\n",
              "      <th>67</th>\n",
              "      <td>1</td>\n",
              "      <td>1</td>\n",
              "    </tr>\n",
              "    <tr>\n",
              "      <th>68</th>\n",
              "      <td>1</td>\n",
              "      <td>1</td>\n",
              "    </tr>\n",
              "    <tr>\n",
              "      <th>69</th>\n",
              "      <td>0</td>\n",
              "      <td>0</td>\n",
              "    </tr>\n",
              "    <tr>\n",
              "      <th>70</th>\n",
              "      <td>0</td>\n",
              "      <td>1</td>\n",
              "    </tr>\n",
              "    <tr>\n",
              "      <th>71</th>\n",
              "      <td>0</td>\n",
              "      <td>0</td>\n",
              "    </tr>\n",
              "    <tr>\n",
              "      <th>72</th>\n",
              "      <td>1</td>\n",
              "      <td>1</td>\n",
              "    </tr>\n",
              "    <tr>\n",
              "      <th>73</th>\n",
              "      <td>1</td>\n",
              "      <td>1</td>\n",
              "    </tr>\n",
              "    <tr>\n",
              "      <th>74</th>\n",
              "      <td>0</td>\n",
              "      <td>0</td>\n",
              "    </tr>\n",
              "    <tr>\n",
              "      <th>75</th>\n",
              "      <td>0</td>\n",
              "      <td>0</td>\n",
              "    </tr>\n",
              "    <tr>\n",
              "      <th>76</th>\n",
              "      <td>0</td>\n",
              "      <td>0</td>\n",
              "    </tr>\n",
              "    <tr>\n",
              "      <th>77</th>\n",
              "      <td>0</td>\n",
              "      <td>0</td>\n",
              "    </tr>\n",
              "    <tr>\n",
              "      <th>78</th>\n",
              "      <td>1</td>\n",
              "      <td>0</td>\n",
              "    </tr>\n",
              "    <tr>\n",
              "      <th>79</th>\n",
              "      <td>1</td>\n",
              "      <td>0</td>\n",
              "    </tr>\n",
              "    <tr>\n",
              "      <th>80</th>\n",
              "      <td>0</td>\n",
              "      <td>0</td>\n",
              "    </tr>\n",
              "    <tr>\n",
              "      <th>81</th>\n",
              "      <td>0</td>\n",
              "      <td>0</td>\n",
              "    </tr>\n",
              "    <tr>\n",
              "      <th>82</th>\n",
              "      <td>0</td>\n",
              "      <td>0</td>\n",
              "    </tr>\n",
              "    <tr>\n",
              "      <th>83</th>\n",
              "      <td>0</td>\n",
              "      <td>0</td>\n",
              "    </tr>\n",
              "    <tr>\n",
              "      <th>84</th>\n",
              "      <td>0</td>\n",
              "      <td>0</td>\n",
              "    </tr>\n",
              "    <tr>\n",
              "      <th>85</th>\n",
              "      <td>0</td>\n",
              "      <td>0</td>\n",
              "    </tr>\n",
              "    <tr>\n",
              "      <th>86</th>\n",
              "      <td>1</td>\n",
              "      <td>1</td>\n",
              "    </tr>\n",
              "    <tr>\n",
              "      <th>87</th>\n",
              "      <td>0</td>\n",
              "      <td>0</td>\n",
              "    </tr>\n",
              "    <tr>\n",
              "      <th>88</th>\n",
              "      <td>1</td>\n",
              "      <td>0</td>\n",
              "    </tr>\n",
              "    <tr>\n",
              "      <th>89</th>\n",
              "      <td>0</td>\n",
              "      <td>0</td>\n",
              "    </tr>\n",
              "    <tr>\n",
              "      <th>90</th>\n",
              "      <td>0</td>\n",
              "      <td>0</td>\n",
              "    </tr>\n",
              "    <tr>\n",
              "      <th>91</th>\n",
              "      <td>0</td>\n",
              "      <td>0</td>\n",
              "    </tr>\n",
              "    <tr>\n",
              "      <th>92</th>\n",
              "      <td>0</td>\n",
              "      <td>1</td>\n",
              "    </tr>\n",
              "    <tr>\n",
              "      <th>93</th>\n",
              "      <td>0</td>\n",
              "      <td>0</td>\n",
              "    </tr>\n",
              "    <tr>\n",
              "      <th>94</th>\n",
              "      <td>0</td>\n",
              "      <td>0</td>\n",
              "    </tr>\n",
              "    <tr>\n",
              "      <th>95</th>\n",
              "      <td>0</td>\n",
              "      <td>0</td>\n",
              "    </tr>\n",
              "    <tr>\n",
              "      <th>96</th>\n",
              "      <td>0</td>\n",
              "      <td>0</td>\n",
              "    </tr>\n",
              "    <tr>\n",
              "      <th>97</th>\n",
              "      <td>1</td>\n",
              "      <td>1</td>\n",
              "    </tr>\n",
              "    <tr>\n",
              "      <th>98</th>\n",
              "      <td>0</td>\n",
              "      <td>0</td>\n",
              "    </tr>\n",
              "    <tr>\n",
              "      <th>99</th>\n",
              "      <td>0</td>\n",
              "      <td>1</td>\n",
              "    </tr>\n",
              "    <tr>\n",
              "      <th>100</th>\n",
              "      <td>0</td>\n",
              "      <td>0</td>\n",
              "    </tr>\n",
              "    <tr>\n",
              "      <th>101</th>\n",
              "      <td>0</td>\n",
              "      <td>0</td>\n",
              "    </tr>\n",
              "    <tr>\n",
              "      <th>102</th>\n",
              "      <td>0</td>\n",
              "      <td>1</td>\n",
              "    </tr>\n",
              "    <tr>\n",
              "      <th>103</th>\n",
              "      <td>1</td>\n",
              "      <td>0</td>\n",
              "    </tr>\n",
              "    <tr>\n",
              "      <th>104</th>\n",
              "      <td>0</td>\n",
              "      <td>0</td>\n",
              "    </tr>\n",
              "    <tr>\n",
              "      <th>105</th>\n",
              "      <td>0</td>\n",
              "      <td>0</td>\n",
              "    </tr>\n",
              "    <tr>\n",
              "      <th>106</th>\n",
              "      <td>0</td>\n",
              "      <td>0</td>\n",
              "    </tr>\n",
              "    <tr>\n",
              "      <th>107</th>\n",
              "      <td>0</td>\n",
              "      <td>0</td>\n",
              "    </tr>\n",
              "    <tr>\n",
              "      <th>108</th>\n",
              "      <td>1</td>\n",
              "      <td>0</td>\n",
              "    </tr>\n",
              "    <tr>\n",
              "      <th>109</th>\n",
              "      <td>0</td>\n",
              "      <td>0</td>\n",
              "    </tr>\n",
              "    <tr>\n",
              "      <th>110</th>\n",
              "      <td>0</td>\n",
              "      <td>0</td>\n",
              "    </tr>\n",
              "    <tr>\n",
              "      <th>111</th>\n",
              "      <td>0</td>\n",
              "      <td>1</td>\n",
              "    </tr>\n",
              "    <tr>\n",
              "      <th>112</th>\n",
              "      <td>1</td>\n",
              "      <td>1</td>\n",
              "    </tr>\n",
              "    <tr>\n",
              "      <th>113</th>\n",
              "      <td>0</td>\n",
              "      <td>0</td>\n",
              "    </tr>\n",
              "    <tr>\n",
              "      <th>114</th>\n",
              "      <td>0</td>\n",
              "      <td>0</td>\n",
              "    </tr>\n",
              "    <tr>\n",
              "      <th>115</th>\n",
              "      <td>0</td>\n",
              "      <td>0</td>\n",
              "    </tr>\n",
              "    <tr>\n",
              "      <th>116</th>\n",
              "      <td>0</td>\n",
              "      <td>0</td>\n",
              "    </tr>\n",
              "    <tr>\n",
              "      <th>117</th>\n",
              "      <td>0</td>\n",
              "      <td>0</td>\n",
              "    </tr>\n",
              "    <tr>\n",
              "      <th>118</th>\n",
              "      <td>1</td>\n",
              "      <td>1</td>\n",
              "    </tr>\n",
              "    <tr>\n",
              "      <th>119</th>\n",
              "      <td>1</td>\n",
              "      <td>1</td>\n",
              "    </tr>\n",
              "    <tr>\n",
              "      <th>120</th>\n",
              "      <td>0</td>\n",
              "      <td>0</td>\n",
              "    </tr>\n",
              "    <tr>\n",
              "      <th>121</th>\n",
              "      <td>0</td>\n",
              "      <td>0</td>\n",
              "    </tr>\n",
              "    <tr>\n",
              "      <th>122</th>\n",
              "      <td>0</td>\n",
              "      <td>0</td>\n",
              "    </tr>\n",
              "    <tr>\n",
              "      <th>123</th>\n",
              "      <td>0</td>\n",
              "      <td>0</td>\n",
              "    </tr>\n",
              "    <tr>\n",
              "      <th>124</th>\n",
              "      <td>0</td>\n",
              "      <td>0</td>\n",
              "    </tr>\n",
              "    <tr>\n",
              "      <th>125</th>\n",
              "      <td>0</td>\n",
              "      <td>0</td>\n",
              "    </tr>\n",
              "    <tr>\n",
              "      <th>126</th>\n",
              "      <td>0</td>\n",
              "      <td>1</td>\n",
              "    </tr>\n",
              "    <tr>\n",
              "      <th>127</th>\n",
              "      <td>0</td>\n",
              "      <td>0</td>\n",
              "    </tr>\n",
              "    <tr>\n",
              "      <th>128</th>\n",
              "      <td>1</td>\n",
              "      <td>0</td>\n",
              "    </tr>\n",
              "    <tr>\n",
              "      <th>129</th>\n",
              "      <td>1</td>\n",
              "      <td>1</td>\n",
              "    </tr>\n",
              "    <tr>\n",
              "      <th>130</th>\n",
              "      <td>1</td>\n",
              "      <td>1</td>\n",
              "    </tr>\n",
              "    <tr>\n",
              "      <th>131</th>\n",
              "      <td>0</td>\n",
              "      <td>1</td>\n",
              "    </tr>\n",
              "    <tr>\n",
              "      <th>132</th>\n",
              "      <td>0</td>\n",
              "      <td>0</td>\n",
              "    </tr>\n",
              "    <tr>\n",
              "      <th>133</th>\n",
              "      <td>0</td>\n",
              "      <td>1</td>\n",
              "    </tr>\n",
              "    <tr>\n",
              "      <th>134</th>\n",
              "      <td>0</td>\n",
              "      <td>1</td>\n",
              "    </tr>\n",
              "    <tr>\n",
              "      <th>135</th>\n",
              "      <td>0</td>\n",
              "      <td>0</td>\n",
              "    </tr>\n",
              "    <tr>\n",
              "      <th>136</th>\n",
              "      <td>0</td>\n",
              "      <td>1</td>\n",
              "    </tr>\n",
              "    <tr>\n",
              "      <th>137</th>\n",
              "      <td>0</td>\n",
              "      <td>0</td>\n",
              "    </tr>\n",
              "    <tr>\n",
              "      <th>138</th>\n",
              "      <td>1</td>\n",
              "      <td>1</td>\n",
              "    </tr>\n",
              "    <tr>\n",
              "      <th>139</th>\n",
              "      <td>0</td>\n",
              "      <td>0</td>\n",
              "    </tr>\n",
              "    <tr>\n",
              "      <th>140</th>\n",
              "      <td>1</td>\n",
              "      <td>1</td>\n",
              "    </tr>\n",
              "    <tr>\n",
              "      <th>141</th>\n",
              "      <td>1</td>\n",
              "      <td>1</td>\n",
              "    </tr>\n",
              "    <tr>\n",
              "      <th>142</th>\n",
              "      <td>0</td>\n",
              "      <td>0</td>\n",
              "    </tr>\n",
              "    <tr>\n",
              "      <th>143</th>\n",
              "      <td>0</td>\n",
              "      <td>0</td>\n",
              "    </tr>\n",
              "    <tr>\n",
              "      <th>144</th>\n",
              "      <td>0</td>\n",
              "      <td>0</td>\n",
              "    </tr>\n",
              "    <tr>\n",
              "      <th>145</th>\n",
              "      <td>1</td>\n",
              "      <td>0</td>\n",
              "    </tr>\n",
              "    <tr>\n",
              "      <th>146</th>\n",
              "      <td>0</td>\n",
              "      <td>0</td>\n",
              "    </tr>\n",
              "    <tr>\n",
              "      <th>147</th>\n",
              "      <td>0</td>\n",
              "      <td>0</td>\n",
              "    </tr>\n",
              "    <tr>\n",
              "      <th>148</th>\n",
              "      <td>1</td>\n",
              "      <td>1</td>\n",
              "    </tr>\n",
              "    <tr>\n",
              "      <th>149</th>\n",
              "      <td>1</td>\n",
              "      <td>0</td>\n",
              "    </tr>\n",
              "    <tr>\n",
              "      <th>150</th>\n",
              "      <td>0</td>\n",
              "      <td>0</td>\n",
              "    </tr>\n",
              "    <tr>\n",
              "      <th>151</th>\n",
              "      <td>0</td>\n",
              "      <td>0</td>\n",
              "    </tr>\n",
              "    <tr>\n",
              "      <th>152</th>\n",
              "      <td>0</td>\n",
              "      <td>0</td>\n",
              "    </tr>\n",
              "    <tr>\n",
              "      <th>153</th>\n",
              "      <td>0</td>\n",
              "      <td>0</td>\n",
              "    </tr>\n",
              "    <tr>\n",
              "      <th>154</th>\n",
              "      <td>0</td>\n",
              "      <td>0</td>\n",
              "    </tr>\n",
              "    <tr>\n",
              "      <th>155</th>\n",
              "      <td>0</td>\n",
              "      <td>1</td>\n",
              "    </tr>\n",
              "    <tr>\n",
              "      <th>156</th>\n",
              "      <td>0</td>\n",
              "      <td>0</td>\n",
              "    </tr>\n",
              "    <tr>\n",
              "      <th>157</th>\n",
              "      <td>1</td>\n",
              "      <td>1</td>\n",
              "    </tr>\n",
              "    <tr>\n",
              "      <th>158</th>\n",
              "      <td>1</td>\n",
              "      <td>1</td>\n",
              "    </tr>\n",
              "    <tr>\n",
              "      <th>159</th>\n",
              "      <td>0</td>\n",
              "      <td>0</td>\n",
              "    </tr>\n",
              "    <tr>\n",
              "      <th>160</th>\n",
              "      <td>0</td>\n",
              "      <td>0</td>\n",
              "    </tr>\n",
              "    <tr>\n",
              "      <th>161</th>\n",
              "      <td>0</td>\n",
              "      <td>0</td>\n",
              "    </tr>\n",
              "    <tr>\n",
              "      <th>162</th>\n",
              "      <td>0</td>\n",
              "      <td>0</td>\n",
              "    </tr>\n",
              "    <tr>\n",
              "      <th>163</th>\n",
              "      <td>1</td>\n",
              "      <td>1</td>\n",
              "    </tr>\n",
              "    <tr>\n",
              "      <th>164</th>\n",
              "      <td>0</td>\n",
              "      <td>1</td>\n",
              "    </tr>\n",
              "    <tr>\n",
              "      <th>165</th>\n",
              "      <td>0</td>\n",
              "      <td>0</td>\n",
              "    </tr>\n",
              "    <tr>\n",
              "      <th>166</th>\n",
              "      <td>0</td>\n",
              "      <td>0</td>\n",
              "    </tr>\n",
              "    <tr>\n",
              "      <th>167</th>\n",
              "      <td>0</td>\n",
              "      <td>0</td>\n",
              "    </tr>\n",
              "    <tr>\n",
              "      <th>168</th>\n",
              "      <td>1</td>\n",
              "      <td>1</td>\n",
              "    </tr>\n",
              "    <tr>\n",
              "      <th>169</th>\n",
              "      <td>0</td>\n",
              "      <td>0</td>\n",
              "    </tr>\n",
              "    <tr>\n",
              "      <th>170</th>\n",
              "      <td>0</td>\n",
              "      <td>0</td>\n",
              "    </tr>\n",
              "    <tr>\n",
              "      <th>171</th>\n",
              "      <td>0</td>\n",
              "      <td>0</td>\n",
              "    </tr>\n",
              "    <tr>\n",
              "      <th>172</th>\n",
              "      <td>0</td>\n",
              "      <td>0</td>\n",
              "    </tr>\n",
              "    <tr>\n",
              "      <th>173</th>\n",
              "      <td>1</td>\n",
              "      <td>1</td>\n",
              "    </tr>\n",
              "    <tr>\n",
              "      <th>174</th>\n",
              "      <td>0</td>\n",
              "      <td>1</td>\n",
              "    </tr>\n",
              "    <tr>\n",
              "      <th>175</th>\n",
              "      <td>1</td>\n",
              "      <td>1</td>\n",
              "    </tr>\n",
              "    <tr>\n",
              "      <th>176</th>\n",
              "      <td>1</td>\n",
              "      <td>1</td>\n",
              "    </tr>\n",
              "    <tr>\n",
              "      <th>177</th>\n",
              "      <td>0</td>\n",
              "      <td>0</td>\n",
              "    </tr>\n",
              "    <tr>\n",
              "      <th>178</th>\n",
              "      <td>0</td>\n",
              "      <td>0</td>\n",
              "    </tr>\n",
              "  </tbody>\n",
              "</table>\n",
              "</div>\n",
              "      <button class=\"colab-df-convert\" onclick=\"convertToInteractive('df-00fdb2d1-346f-4279-a371-077d02745d88')\"\n",
              "              title=\"Convert this dataframe to an interactive table.\"\n",
              "              style=\"display:none;\">\n",
              "        \n",
              "  <svg xmlns=\"http://www.w3.org/2000/svg\" height=\"24px\"viewBox=\"0 0 24 24\"\n",
              "       width=\"24px\">\n",
              "    <path d=\"M0 0h24v24H0V0z\" fill=\"none\"/>\n",
              "    <path d=\"M18.56 5.44l.94 2.06.94-2.06 2.06-.94-2.06-.94-.94-2.06-.94 2.06-2.06.94zm-11 1L8.5 8.5l.94-2.06 2.06-.94-2.06-.94L8.5 2.5l-.94 2.06-2.06.94zm10 10l.94 2.06.94-2.06 2.06-.94-2.06-.94-.94-2.06-.94 2.06-2.06.94z\"/><path d=\"M17.41 7.96l-1.37-1.37c-.4-.4-.92-.59-1.43-.59-.52 0-1.04.2-1.43.59L10.3 9.45l-7.72 7.72c-.78.78-.78 2.05 0 2.83L4 21.41c.39.39.9.59 1.41.59.51 0 1.02-.2 1.41-.59l7.78-7.78 2.81-2.81c.8-.78.8-2.07 0-2.86zM5.41 20L4 18.59l7.72-7.72 1.47 1.35L5.41 20z\"/>\n",
              "  </svg>\n",
              "      </button>\n",
              "      \n",
              "  <style>\n",
              "    .colab-df-container {\n",
              "      display:flex;\n",
              "      flex-wrap:wrap;\n",
              "      gap: 12px;\n",
              "    }\n",
              "\n",
              "    .colab-df-convert {\n",
              "      background-color: #E8F0FE;\n",
              "      border: none;\n",
              "      border-radius: 50%;\n",
              "      cursor: pointer;\n",
              "      display: none;\n",
              "      fill: #1967D2;\n",
              "      height: 32px;\n",
              "      padding: 0 0 0 0;\n",
              "      width: 32px;\n",
              "    }\n",
              "\n",
              "    .colab-df-convert:hover {\n",
              "      background-color: #E2EBFA;\n",
              "      box-shadow: 0px 1px 2px rgba(60, 64, 67, 0.3), 0px 1px 3px 1px rgba(60, 64, 67, 0.15);\n",
              "      fill: #174EA6;\n",
              "    }\n",
              "\n",
              "    [theme=dark] .colab-df-convert {\n",
              "      background-color: #3B4455;\n",
              "      fill: #D2E3FC;\n",
              "    }\n",
              "\n",
              "    [theme=dark] .colab-df-convert:hover {\n",
              "      background-color: #434B5C;\n",
              "      box-shadow: 0px 1px 3px 1px rgba(0, 0, 0, 0.15);\n",
              "      filter: drop-shadow(0px 1px 2px rgba(0, 0, 0, 0.3));\n",
              "      fill: #FFFFFF;\n",
              "    }\n",
              "  </style>\n",
              "\n",
              "      <script>\n",
              "        const buttonEl =\n",
              "          document.querySelector('#df-00fdb2d1-346f-4279-a371-077d02745d88 button.colab-df-convert');\n",
              "        buttonEl.style.display =\n",
              "          google.colab.kernel.accessAllowed ? 'block' : 'none';\n",
              "\n",
              "        async function convertToInteractive(key) {\n",
              "          const element = document.querySelector('#df-00fdb2d1-346f-4279-a371-077d02745d88');\n",
              "          const dataTable =\n",
              "            await google.colab.kernel.invokeFunction('convertToInteractive',\n",
              "                                                     [key], {});\n",
              "          if (!dataTable) return;\n",
              "\n",
              "          const docLinkHtml = 'Like what you see? Visit the ' +\n",
              "            '<a target=\"_blank\" href=https://colab.research.google.com/notebooks/data_table.ipynb>data table notebook</a>'\n",
              "            + ' to learn more about interactive tables.';\n",
              "          element.innerHTML = '';\n",
              "          dataTable['output_type'] = 'display_data';\n",
              "          await google.colab.output.renderOutput(dataTable, element);\n",
              "          const docLink = document.createElement('div');\n",
              "          docLink.innerHTML = docLinkHtml;\n",
              "          element.appendChild(docLink);\n",
              "        }\n",
              "      </script>\n",
              "    </div>\n",
              "  </div>\n",
              "  "
            ]
          },
          "metadata": {},
          "execution_count": 76
        }
      ]
    },
    {
      "cell_type": "code",
      "source": [
        "PredictionOutputRFCN.to_csv('NegativeFeatureResult.csv')"
      ],
      "metadata": {
        "id": "iM6bNcVw4art"
      },
      "execution_count": null,
      "outputs": []
    },
    {
      "cell_type": "markdown",
      "source": [
        "# Evaluation on Machine Learning performance"
      ],
      "metadata": {
        "id": "-TMsEXvLjc4C"
      }
    },
    {
      "cell_type": "code",
      "source": [
        "from sklearn.model_selection import learning_curve\n",
        "from sklearn.model_selection import ShuffleSplit\n",
        "\n",
        "def plot_learning_curve(estimator, title, X, y, axes=None, ylim=None, cv=None,\n",
        "                        n_jobs=None, train_sizes=np.linspace(.1, 1.0, 5)):\n",
        "    if axes is None:\n",
        "        _, axes = plt.subplots(1, 1, figsize=(8, 5))\n",
        "\n",
        "    axes.set_title(title)\n",
        "    if ylim is not None:\n",
        "        axes.set_ylim(*ylim)\n",
        "    axes.set_xlabel(\"Training Data\")\n",
        "    axes.set_ylabel(\"Score\")\n",
        "\n",
        "    train_sizes, train_scores, test_scores, fit_times, _ = \\\n",
        "        learning_curve(estimator, X, y, cv=cv, n_jobs=n_jobs,\n",
        "                       train_sizes=train_sizes,\n",
        "                       return_times=True)\n",
        "    train_scores_mean = np.mean(train_scores, axis=1)\n",
        "    train_scores_std = np.std(train_scores, axis=1)\n",
        "    test_scores_mean = np.mean(test_scores, axis=1)\n",
        "    test_scores_std = np.std(test_scores, axis=1)\n",
        "    fit_times_mean = np.mean(fit_times, axis=1)\n",
        "    fit_times_std = np.std(fit_times, axis=1)\n",
        "\n",
        "    print(title)\n",
        "    print(\"train_scores_mean\", train_scores_mean)\n",
        "    print(\"cv_scores_mean\", test_scores_mean, \"\\n\")\n",
        "\n",
        "    axes.grid()\n",
        "    axes.fill_between(train_sizes, train_scores_mean - train_scores_std,\n",
        "                         train_scores_mean + train_scores_std, alpha=0.1,\n",
        "                         color=\"r\")\n",
        "    axes.fill_between(train_sizes, test_scores_mean - test_scores_std,\n",
        "                         test_scores_mean + test_scores_std, alpha=0.1,\n",
        "                         color=\"g\")\n",
        "    axes.plot(train_sizes, train_scores_mean, 'o-', color=\"r\",\n",
        "                 label=\"Training score\")\n",
        "    axes.plot(train_sizes, test_scores_mean, 'o-', color=\"g\",\n",
        "                 label=\"Cross-validation score\")\n",
        "    axes.legend(loc=\"best\")\n",
        "\n",
        "    return plt"
      ],
      "metadata": {
        "id": "SEGtPEyrjoRN"
      },
      "execution_count": null,
      "outputs": []
    },
    {
      "cell_type": "markdown",
      "source": [
        "Learning Curve all data"
      ],
      "metadata": {
        "id": "SN3UAF_QkZFo"
      }
    },
    {
      "cell_type": "code",
      "source": [
        "# Cross validation with 5 iterations each time with 20% data \n",
        "# randomly selected as a validation set.\n",
        "cv = ShuffleSplit(n_splits=5, test_size=0.2, random_state=42)\n",
        "fig = plt.figure(figsize=(11,5))\n",
        "\n",
        "title = \"Learning Curves All Features\"\n",
        "estimator = RandomForestClassifier()\n",
        "g3 = plot_learning_curve(estimator, title, xtrain, ytrain,\n",
        "                    ylim=(0.5, 1.01), cv=5, n_jobs=-1)"
      ],
      "metadata": {
        "id": "6Ku3-DKpjz8q",
        "colab": {
          "base_uri": "https://localhost:8080/",
          "height": 441
        },
        "outputId": "92092e70-f76d-4fe8-c946-83959bb87125"
      },
      "execution_count": null,
      "outputs": [
        {
          "output_type": "stream",
          "name": "stdout",
          "text": [
            "Learning Curves All Features\n",
            "train_scores_mean [0.92857143 0.87065217 0.87307692 0.87681818 0.87662566]\n",
            "cv_scores_mean [0.74439082 0.80903181 0.80906136 0.81748252 0.81889097] \n",
            "\n"
          ]
        },
        {
          "output_type": "display_data",
          "data": {
            "text/plain": [
              "<Figure size 792x360 with 0 Axes>"
            ]
          },
          "metadata": {}
        },
        {
          "output_type": "display_data",
          "data": {
            "text/plain": [
              "<Figure size 576x360 with 1 Axes>"
            ],
            "image/png": "[encoded data removed]"
          },
          "metadata": {
            "needs_background": "light"
          }
        }
      ]
    },
    {
      "cell_type": "markdown",
      "source": [
        "Positive Correlation all data"
      ],
      "metadata": {
        "id": "mWJCPX9yka5I"
      }
    },
    {
      "cell_type": "code",
      "source": [
        "title = \"Learning Curves Positive Features\"\n",
        "estimator = RandomForestClassifier()\n",
        "g3 = plot_learning_curve(estimator, title, xtrain1, ytrain1,\n",
        "                    ylim=(0.5, 1.01), cv=5, n_jobs=-1)"
      ],
      "metadata": {
        "id": "6hcnNM_4kdRQ",
        "colab": {
          "base_uri": "https://localhost:8080/",
          "height": 423
        },
        "outputId": "22129044-46e6-45ab-cad7-9ccc4b6081a6"
      },
      "execution_count": null,
      "outputs": [
        {
          "output_type": "stream",
          "name": "stdout",
          "text": [
            "Learning Curves Positive Features\n",
            "train_scores_mean [0.68214286 0.7        0.69423077 0.67909091 0.66678383]\n",
            "cv_scores_mean [0.61229193 0.62633704 0.65586526 0.64459766 0.64740471] \n",
            "\n"
          ]
        },
        {
          "output_type": "display_data",
          "data": {
            "text/plain": [
              "<Figure size 576x360 with 1 Axes>"
            ],
            "image/png": "[encoded data removed]"
          },
          "metadata": {
            "needs_background": "light"
          }
        }
      ]
    },
    {
      "cell_type": "markdown",
      "source": [
        "Negative Correlation data "
      ],
      "metadata": {
        "id": "YwIW9Jw8kibX"
      }
    },
    {
      "cell_type": "code",
      "source": [
        "title = \"Learning Curves Negative Features\"\n",
        "estimator = RandomForestClassifier()\n",
        "g3 = plot_learning_curve(estimator, title, xtrain2, ytrain2,\n",
        "                    ylim=(0.5, 1.01), cv=5, n_jobs=-1)"
      ],
      "metadata": {
        "id": "qDL2yk87kmq4",
        "colab": {
          "base_uri": "https://localhost:8080/",
          "height": 423
        },
        "outputId": "353787c6-3a87-4251-b642-71f5f7482b83"
      },
      "execution_count": null,
      "outputs": [
        {
          "output_type": "stream",
          "name": "stdout",
          "text": [
            "Learning Curves Negative Features\n",
            "train_scores_mean [0.94285714 0.88152174 0.86282051 0.85363636 0.85518453]\n",
            "cv_scores_mean [0.75844578 0.7879346  0.80058111 0.81880232 0.81600512] \n",
            "\n"
          ]
        },
        {
          "output_type": "display_data",
          "data": {
            "text/plain": [
              "<Figure size 576x360 with 1 Axes>"
            ],
            "image/png": "[encoded data removed]"
          },
          "metadata": {
            "needs_background": "light"
          }
        }
      ]
    },
    {
      "cell_type": "markdown",
      "source": [
        "Dari hasil kurva diatas kita dapat melihat bahwa Random Forest tree memiliki peforma yang baik untuk mempelajari training file. Namun ketika berhadapan dengan test case yang berbeda-beda Random Forest memeiliki kelemahan ketika menghadapi test case berbeda dari yang dipelajari."
      ],
      "metadata": {
        "id": "furdvw9dYal-"
      }
    },
    {
      "cell_type": "markdown",
      "source": [
        "# Reference"
      ],
      "metadata": {
        "id": "A2CvEFrfSUJB"
      }
    },
    {
      "cell_type": "markdown",
      "source": [
        "[1] A. G. Kosheleva Vladik Kreinovich, and Olga, “Why 70/30 or 80/20 Relation Between Training and Testing Sets: A Pedagogical Explanation”.\n",
        "\n",
        "[2] M. Hardy, “Pareto’s Law,” The Mathematical Intelligencer, vol. 32, no. 3, pp. 38–43, Jul. 2010, doi: 10.1007/s00283-010-9159-2.\n",
        "\n",
        "[3] M. Debczak, “The Origins of ‘Women and Children’ First,” Mental Floss, Apr. 19, 2022. [Online]. Available: https://www.mentalfloss.com/posts/women-and-children-first-origins-titanic\n",
        "\n",
        "[4]B. S. Frey, D. A. Savage, and B. Torgler, “Noblesse oblige? Determinants of survival in a life-and-death situation,” Journal of Economic Behavior & Organization, vol. 74, no. 1–2, pp. 1–11, May 2010, doi: 10.1016/j.jebo.2010.02.005.\n",
        "\n",
        "[5]J. Nithyashri and G. Kulanthaivel, “Classification of human age based on Neural Network using FG-NET Aging database and Wavelets,” 2012 Fourth International Conference on Advanced Computing (ICoAC), Dec. 2012, doi: 10.1109/icoac.2012.6416855.\n"
      ],
      "metadata": {
        "id": "hMuf4XHITX4R"
      }
    }
  ]
}